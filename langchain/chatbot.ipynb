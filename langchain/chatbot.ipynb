{
 "cells": [
  {
   "cell_type": "markdown",
   "metadata": {},
   "source": [
    "https://www.gradio.app/"
   ]
  },
  {
   "cell_type": "code",
   "execution_count": 1,
   "metadata": {},
   "outputs": [
    {
     "name": "stdout",
     "output_type": "stream",
     "text": [
      "Running on local URL:  http://127.0.0.1:7860\n",
      "\n",
      "To create a public link, set `share=True` in `launch()`.\n"
     ]
    },
    {
     "data": {
      "text/html": [
       "<div><iframe src=\"http://127.0.0.1:7860/\" width=\"100%\" height=\"500\" allow=\"autoplay; camera; microphone; clipboard-read; clipboard-write;\" frameborder=\"0\" allowfullscreen></iframe></div>"
      ],
      "text/plain": [
       "<IPython.core.display.HTML object>"
      ]
     },
     "metadata": {},
     "output_type": "display_data"
    },
    {
     "data": {
      "text/plain": []
     },
     "execution_count": 1,
     "metadata": {},
     "output_type": "execute_result"
    }
   ],
   "source": [
    "import gradio as gr\n",
    "\n",
    "def greet(name):\n",
    "    return \"Hello \" + name + \"!\"\n",
    "\n",
    "demo = gr.Interface(fn=greet, inputs=\"text\", outputs=\"text\")\n",
    "demo.launch()   "
   ]
  },
  {
   "cell_type": "code",
   "execution_count": 4,
   "metadata": {},
   "outputs": [
    {
     "name": "stdout",
     "output_type": "stream",
     "text": [
      "Running on local URL:  http://127.0.0.1:7862\n",
      "Running on public URL: https://1179ad11def06278f0.gradio.live\n",
      "\n",
      "This share link expires in 72 hours. For free permanent hosting and GPU upgrades, run `gradio deploy` from Terminal to deploy to Spaces (https://huggingface.co/spaces)\n"
     ]
    },
    {
     "data": {
      "text/html": [
       "<div><iframe src=\"https://1179ad11def06278f0.gradio.live\" width=\"100%\" height=\"500\" allow=\"autoplay; camera; microphone; clipboard-read; clipboard-write;\" frameborder=\"0\" allowfullscreen></iframe></div>"
      ],
      "text/plain": [
       "<IPython.core.display.HTML object>"
      ]
     },
     "metadata": {},
     "output_type": "display_data"
    },
    {
     "name": "stdout",
     "output_type": "stream",
     "text": [
      "Keyboard interruption in main thread... closing server.\n",
      "Killing tunnel 127.0.0.1:7862 <> https://1179ad11def06278f0.gradio.live\n"
     ]
    },
    {
     "data": {
      "text/plain": []
     },
     "execution_count": 4,
     "metadata": {},
     "output_type": "execute_result"
    }
   ],
   "source": [
    "# 그라디오 라이브러리를 불러옵니다.\n",
    "import gradio as gr\n",
    "\n",
    "# 인사말 함수를 정의합니다.\n",
    "# 이 함수는 이름을 매개변수로 받아 \"안녕! \" 이라는 문자열을 붙여 반환합니다.\n",
    "def greet(name):\n",
    "    return \"안녕! \" + name\n",
    "\n",
    "# 인터페이스 'demo'를 실행할 때 호출할 함수를 지정합니다.\n",
    "# 이 함수의 인자로 inputs의 내용이 입력되고,\n",
    "# 함수의 출력이 outputs에 표시됩니다.\n",
    "demo = gr.Interface(\n",
    "    fn=greet,\n",
    "    inputs=\"text\",  # 텍스트 입력 창을 설정합니다.\n",
    "    outputs=\"text\"  # 텍스트 출력 창을 설정합니다.\n",
    ")\n",
    "\n",
    "# 그라디오 인터페이스를 실행합니다.\n",
    "# 실행하면 사용자는 텍스트 입력창에 이름을 입력할 수 있고,\n",
    "# 그 결과 \"안녕! \" + 입력한 이름 이라는 출력을 볼 수 있습니다.\n",
    "demo.launch(debug=True, share=True)"
   ]
  },
  {
   "cell_type": "code",
   "execution_count": 5,
   "metadata": {},
   "outputs": [
    {
     "name": "stdout",
     "output_type": "stream",
     "text": [
      "Running on local URL:  http://127.0.0.1:7862\n",
      "Running on public URL: https://34d41866513fc7a8c8.gradio.live\n",
      "\n",
      "This share link expires in 72 hours. For free permanent hosting and GPU upgrades, run `gradio deploy` from Terminal to deploy to Spaces (https://huggingface.co/spaces)\n"
     ]
    },
    {
     "data": {
      "text/html": [
       "<div><iframe src=\"https://34d41866513fc7a8c8.gradio.live\" width=\"100%\" height=\"500\" allow=\"autoplay; camera; microphone; clipboard-read; clipboard-write;\" frameborder=\"0\" allowfullscreen></iframe></div>"
      ],
      "text/plain": [
       "<IPython.core.display.HTML object>"
      ]
     },
     "metadata": {},
     "output_type": "display_data"
    },
    {
     "name": "stdout",
     "output_type": "stream",
     "text": [
      "Keyboard interruption in main thread... closing server.\n",
      "Killing tunnel 127.0.0.1:7862 <> https://34d41866513fc7a8c8.gradio.live\n"
     ]
    },
    {
     "data": {
      "text/plain": []
     },
     "execution_count": 5,
     "metadata": {},
     "output_type": "execute_result"
    }
   ],
   "source": [
    "# 그라디오 라이브러리를 불러옵니다.\n",
    "import gradio as gr\n",
    "\n",
    "# 인사말 함수를 정의합니다.\n",
    "# 이 함수는 이름을 매개변수로 받아 \"안녕! \" 이라는 문자열을 붙여 반환합니다.\n",
    "def greet(name):\n",
    "    return \"안녕! \" + name\n",
    "\n",
    "# 인터페이스 'demo'를 실행할 때 호출할 함수를 지정합니다.\n",
    "# 이 함수의 인자로 inputs의 내용이 입력되고, 함수의 출력이 outputs에 표시됩니다.\n",
    "demo = gr.Interface(\n",
    "    fn = greet,\n",
    "\n",
    "    # 사용자가 입력을 제공할 텍스트박스를 정의하고,\n",
    "    # 플레이스홀더(placeholder)를 사용하여 입력창에 힌트를 제공합니다.\n",
    "    inputs = gr.Textbox(lines=2, placeholder=\"이름을 작성하세요.\"),\n",
    "\n",
    "    outputs=\"text\"  # 텍스트 출력 창을 설정합니다.\n",
    ")\n",
    "\n",
    "# 그라디오 인터페이스를 실행합니다.\n",
    "# 실행하면 사용자는 텍스트 입력창에 이름을 입력할 수 있고,\n",
    "# 그 결과 \"안녕! \" + 입력한 이름 이라는 출력을 볼 수 있습니다.\n",
    "demo.launch(debug=True, share=True)"
   ]
  },
  {
   "cell_type": "code",
   "execution_count": 6,
   "metadata": {},
   "outputs": [
    {
     "name": "stdout",
     "output_type": "stream",
     "text": [
      "Running on local URL:  http://127.0.0.1:7862\n",
      "Running on public URL: https://a9797b20af580b0ddc.gradio.live\n",
      "\n",
      "This share link expires in 72 hours. For free permanent hosting and GPU upgrades, run `gradio deploy` from Terminal to deploy to Spaces (https://huggingface.co/spaces)\n"
     ]
    },
    {
     "data": {
      "text/html": [
       "<div><iframe src=\"https://a9797b20af580b0ddc.gradio.live\" width=\"100%\" height=\"500\" allow=\"autoplay; camera; microphone; clipboard-read; clipboard-write;\" frameborder=\"0\" allowfullscreen></iframe></div>"
      ],
      "text/plain": [
       "<IPython.core.display.HTML object>"
      ]
     },
     "metadata": {},
     "output_type": "display_data"
    },
    {
     "name": "stdout",
     "output_type": "stream",
     "text": [
      "Keyboard interruption in main thread... closing server.\n",
      "Killing tunnel 127.0.0.1:7862 <> https://a9797b20af580b0ddc.gradio.live\n"
     ]
    },
    {
     "data": {
      "text/plain": []
     },
     "execution_count": 6,
     "metadata": {},
     "output_type": "execute_result"
    }
   ],
   "source": [
    "# 그라디오 라이브러리를 불러옵니다.\n",
    "import gradio as gr\n",
    "\n",
    "# 인사말 함수를 정의합니다.\n",
    "# 이 함수는 이름을 매개변수로 받아 \"안녕! \" 이라는 문자열을 붙여 반환합니다.\n",
    "def greet(name):\n",
    "    return \"안녕! \" + name\n",
    "\n",
    "# gr.Blocks()를 사용하여 인터페이스를 생성합니다.\n",
    "with gr.Blocks() as demo:\n",
    "\n",
    "    # '이름'이라는 레이블을 가진 입력 텍스트박스를 생성합니다.\n",
    "    name = gr.Textbox(label=\"이름\")\n",
    "\n",
    "    # '출력창'이라는 레이블을 가진 출력 텍스트박스를 생성합니다.\n",
    "    output = gr.Textbox(label=\"출력창\")\n",
    "\n",
    "    # '인사'라는 레이블을 가진 버튼을 생성합니다.\n",
    "    greet_btn = gr.Button(\"인사\")\n",
    "\n",
    "    # 버튼 클릭 시 greet 함수가 실행되도록 합니다.\n",
    "    greet_btn.click(fn=greet, inputs=name, outputs=output, api_name=\"greet\")\n",
    "\n",
    "# 인터페이스를 실행합니다.\n",
    "# 이제 사용자가 이름을 입력하고 '인사' 버튼을 클릭하면\n",
    "# \"안녕! \" + 입력한 이름 이라는 메시지가 출력창에 표시됩니다.\n",
    "demo.launch(debug=True, share=True)"
   ]
  },
  {
   "cell_type": "code",
   "execution_count": 7,
   "metadata": {},
   "outputs": [
    {
     "name": "stdout",
     "output_type": "stream",
     "text": [
      "Running on local URL:  http://127.0.0.1:7862\n",
      "Running on public URL: https://37e16275d76ac0f5a5.gradio.live\n",
      "\n",
      "This share link expires in 72 hours. For free permanent hosting and GPU upgrades, run `gradio deploy` from Terminal to deploy to Spaces (https://huggingface.co/spaces)\n"
     ]
    },
    {
     "data": {
      "text/html": [
       "<div><iframe src=\"https://37e16275d76ac0f5a5.gradio.live\" width=\"100%\" height=\"500\" allow=\"autoplay; camera; microphone; clipboard-read; clipboard-write;\" frameborder=\"0\" allowfullscreen></iframe></div>"
      ],
      "text/plain": [
       "<IPython.core.display.HTML object>"
      ]
     },
     "metadata": {},
     "output_type": "display_data"
    },
    {
     "name": "stdout",
     "output_type": "stream",
     "text": [
      "Keyboard interruption in main thread... closing server.\n",
      "Killing tunnel 127.0.0.1:7862 <> https://37e16275d76ac0f5a5.gradio.live\n"
     ]
    },
    {
     "data": {
      "text/plain": []
     },
     "execution_count": 7,
     "metadata": {},
     "output_type": "execute_result"
    }
   ],
   "source": [
    "import gradio as gr  # 그라디오 라이브러리를 불러옵니다.\n",
    "import random  # 무작위 선택을 위한 라이브러리를 불러옵니다.\n",
    "import time  # 시간 지연을 위한 라이브러리를 불러옵니다.\n",
    "\n",
    "# 채팅봇의 응답을 처리하는 함수를 정의합니다.\n",
    "def respond(message, chat_history):\n",
    "\n",
    "    # 미리 정의된 응답 중 하나를 무작위로 선택합니다.\n",
    "    bot_message = random.choice([\"어떻게 지내세요?\", \"좋아해요\", \"배고파요\"])\n",
    "\n",
    "    # 채팅 기록에 사용자의 메시지와 봇의 응답을 추가합니다.\n",
    "    chat_history.append((message, bot_message))\n",
    "\n",
    "    # 응답을 할 때 시간 지연을 만들어줍니다.\n",
    "    # 이는 채팅봇이 실시간으로 답변하고 있는 것처럼 보이게 합니다.\n",
    "    time.sleep(1)\n",
    "\n",
    "    return \"\", chat_history  # 수정된 채팅 기록을 반환합니다.\n",
    "\n",
    "# gr.Blocks()를 사용하여 인터페이스를 생성합니다.\n",
    "with gr.Blocks() as demo:\n",
    "\n",
    "    # '채팅창'이라는 레이블을 가진 채팅봇 컴포넌트를 생성합니다.\n",
    "    chatbot = gr.Chatbot(label=\"채팅창\")\n",
    "\n",
    "    # '입력'이라는 레이블을 가진 텍스트박스를 생성합니다.\n",
    "    msg = gr.Textbox(label=\"입력\")\n",
    "\n",
    "    # '초기화'라는 레이블을 가진 버튼을 생성합니다.\n",
    "    clear = gr.Button(\"초기화\")\n",
    "\n",
    "    # 텍스트박스에 메시지를 입력하고 제출하면 respond 함수가 호출되도록 합니다.\n",
    "    msg.submit(respond, [msg, chatbot], [msg, chatbot])\n",
    "\n",
    "    # '초기화' 버튼을 클릭하면 채팅 기록을 초기화합니다.\n",
    "    clear.click(lambda: None, None, chatbot, queue=False)\n",
    "\n",
    "# 인터페이스를 실행합니다.\n",
    "# 실행하면 사용자는 '입력' 텍스트박스에 메시지를 작성하고 제출할 수 있으며,\n",
    "# '초기화' 버튼을 통해 채팅 기록을 초기화할 수 있습니다.\n",
    "demo.launch(debug=True, share=True)"
   ]
  },
  {
   "cell_type": "code",
   "execution_count": 8,
   "metadata": {},
   "outputs": [],
   "source": [
    "import os\n",
    "import openai\n",
    "\n",
    "openai.api_key  = os.getenv('sk-')"
   ]
  },
  {
   "cell_type": "code",
   "execution_count": 9,
   "metadata": {},
   "outputs": [
    {
     "data": {
      "text/plain": [
       "'1.16.2'"
      ]
     },
     "execution_count": 9,
     "metadata": {},
     "output_type": "execute_result"
    }
   ],
   "source": [
    "openai.__version__"
   ]
  },
  {
   "cell_type": "code",
   "execution_count": 10,
   "metadata": {},
   "outputs": [
    {
     "ename": "APIRemovedInV1",
     "evalue": "\n\nYou tried to access openai.Completion, but this is no longer supported in openai>=1.0.0 - see the README at https://github.com/openai/openai-python for the API.\n\nYou can run `openai migrate` to automatically upgrade your codebase to use the 1.0.0 interface. \n\nAlternatively, you can pin your installation to the old version, e.g. `pip install openai==0.28`\n\nA detailed migration guide is available here: https://github.com/openai/openai-python/discussions/742\n",
     "output_type": "error",
     "traceback": [
      "\u001b[0;31m---------------------------------------------------------------------------\u001b[0m",
      "\u001b[0;31mAPIRemovedInV1\u001b[0m                            Traceback (most recent call last)",
      "Cell \u001b[0;32mIn[10], line 1\u001b[0m\n\u001b[0;32m----> 1\u001b[0m response \u001b[38;5;241m=\u001b[39m openai\u001b[38;5;241m.\u001b[39mCompletion\u001b[38;5;241m.\u001b[39mcreate(\n\u001b[1;32m      2\u001b[0m \n\u001b[1;32m      3\u001b[0m     \u001b[38;5;66;03m# 사용할 AI 모델을 지정합니다.\u001b[39;00m\n\u001b[1;32m      4\u001b[0m     \u001b[38;5;66;03m# \"text-davinci-003\" 모델이 2024년 1월에 deprecate되어,\u001b[39;00m\n\u001b[1;32m      5\u001b[0m     \u001b[38;5;66;03m# \"gpt-3.5-turbo-instruct\" 모델을 대신 사용하였습니다.\u001b[39;00m\n\u001b[1;32m      6\u001b[0m     model\u001b[38;5;241m=\u001b[39m\u001b[38;5;124m\"\u001b[39m\u001b[38;5;124mgpt-3.5-turbo-instruct\u001b[39m\u001b[38;5;124m\"\u001b[39m,\n\u001b[1;32m      7\u001b[0m \n\u001b[1;32m      8\u001b[0m     \u001b[38;5;66;03m# AI 모델에게 전달할 프롬프트를 지정합니다.\u001b[39;00m\n\u001b[1;32m      9\u001b[0m     prompt\u001b[38;5;241m=\u001b[39m\u001b[38;5;124m\"\u001b[39m\u001b[38;5;124m안녕? 넌 누구니?\u001b[39m\u001b[38;5;124m\"\u001b[39m,\n\u001b[1;32m     10\u001b[0m \n\u001b[1;32m     11\u001b[0m     \u001b[38;5;66;03m# 생성될 텍스트의 최대 토큰 수를 지정합니다.\u001b[39;00m\n\u001b[1;32m     12\u001b[0m     \u001b[38;5;66;03m# 여기서는 256개의 토큰을 지정하였습니다.\u001b[39;00m\n\u001b[1;32m     13\u001b[0m     max_tokens\u001b[38;5;241m=\u001b[39m\u001b[38;5;241m256\u001b[39m,\n\u001b[1;32m     14\u001b[0m \n\u001b[1;32m     15\u001b[0m     \u001b[38;5;66;03m# 출력의 다양성을 조절합니다.\u001b[39;00m\n\u001b[1;32m     16\u001b[0m     \u001b[38;5;66;03m# 값이 0이면 가장 확률이 높은 텍스트를 생성하고,\u001b[39;00m\n\u001b[1;32m     17\u001b[0m     \u001b[38;5;66;03m# 값이 1에 가까울수록 더 다양한 텍스트를 생성합니다.\u001b[39;00m\n\u001b[1;32m     18\u001b[0m     temperature\u001b[38;5;241m=\u001b[39m\u001b[38;5;241m1.0\u001b[39m\n\u001b[1;32m     19\u001b[0m )\n",
      "File \u001b[0;32m~/anaconda3/lib/python3.11/site-packages/openai/lib/_old_api.py:39\u001b[0m, in \u001b[0;36mAPIRemovedInV1Proxy.__call__\u001b[0;34m(self, *_args, **_kwargs)\u001b[0m\n\u001b[1;32m     38\u001b[0m \u001b[38;5;28;01mdef\u001b[39;00m \u001b[38;5;21m__call__\u001b[39m(\u001b[38;5;28mself\u001b[39m, \u001b[38;5;241m*\u001b[39m_args: Any, \u001b[38;5;241m*\u001b[39m\u001b[38;5;241m*\u001b[39m_kwargs: Any) \u001b[38;5;241m-\u001b[39m\u001b[38;5;241m>\u001b[39m Any:\n\u001b[0;32m---> 39\u001b[0m     \u001b[38;5;28;01mraise\u001b[39;00m APIRemovedInV1(symbol\u001b[38;5;241m=\u001b[39m\u001b[38;5;28mself\u001b[39m\u001b[38;5;241m.\u001b[39m_symbol)\n",
      "\u001b[0;31mAPIRemovedInV1\u001b[0m: \n\nYou tried to access openai.Completion, but this is no longer supported in openai>=1.0.0 - see the README at https://github.com/openai/openai-python for the API.\n\nYou can run `openai migrate` to automatically upgrade your codebase to use the 1.0.0 interface. \n\nAlternatively, you can pin your installation to the old version, e.g. `pip install openai==0.28`\n\nA detailed migration guide is available here: https://github.com/openai/openai-python/discussions/742\n"
     ]
    }
   ],
   "source": [
    "response = openai.Completion.create(\n",
    "\n",
    "    # 사용할 AI 모델을 지정합니다.\n",
    "    # \"text-davinci-003\" 모델이 2024년 1월에 deprecate되어,\n",
    "    # \"gpt-3.5-turbo-instruct\" 모델을 대신 사용하였습니다.\n",
    "    model=\"gpt-3.5-turbo-instruct\",\n",
    "\n",
    "    # AI 모델에게 전달할 프롬프트를 지정합니다.\n",
    "    prompt=\"안녕? 넌 누구니?\",\n",
    "\n",
    "    # 생성될 텍스트의 최대 토큰 수를 지정합니다.\n",
    "    # 여기서는 256개의 토큰을 지정하였습니다.\n",
    "    max_tokens=256,\n",
    "\n",
    "    # 출력의 다양성을 조절합니다.\n",
    "    # 값이 0이면 가장 확률이 높은 텍스트를 생성하고,\n",
    "    # 값이 1에 가까울수록 더 다양한 텍스트를 생성합니다.\n",
    "    temperature=1.0\n",
    ")"
   ]
  },
  {
   "cell_type": "code",
   "execution_count": 11,
   "metadata": {},
   "outputs": [],
   "source": [
    "os.environ['OPENAI_API_KEY'] = 'sk-'\n",
    "max_tokens = 200\n",
    "temperature = 0.5"
   ]
  },
  {
   "cell_type": "code",
   "execution_count": 12,
   "metadata": {},
   "outputs": [
    {
     "name": "stdout",
     "output_type": "stream",
     "text": [
      "===================================================================================\n",
      "안녕하세요! 저는 인공지능 챗봇입니다. 무엇을 도와드릴까요?\n",
      "-----------------------------------------------------------------------------------\n",
      "CompletionUsage(completion_tokens=36, prompt_tokens=20, total_tokens=56)\n",
      "===================================================================================\n"
     ]
    }
   ],
   "source": [
    "# OpenAI\n",
    "client = openai.OpenAI(\n",
    "api_key=os.environ['OPENAI_API_KEY'],  \n",
    ")\n",
    "\n",
    "completion = openai.chat.completions.create(\n",
    "    model=\"gpt-3.5-turbo\",\n",
    "    messages=[\n",
    "        {\n",
    "            \"role\": \"user\",\n",
    "            \"content\": '안녕? 넌 누구니?',\n",
    "        },\n",
    "    ],\n",
    "    max_tokens = max_tokens,\n",
    "    temperature = temperature\n",
    ")\n",
    "\n",
    "print('===================================================================================')\n",
    "print(completion.choices[0].message.content)\n",
    "print('-----------------------------------------------------------------------------------')\n",
    "print(completion.usage)\n",
    "print('===================================================================================')"
   ]
  },
  {
   "cell_type": "code",
   "execution_count": 13,
   "metadata": {},
   "outputs": [
    {
     "name": "stdout",
     "output_type": "stream",
     "text": [
      "ChatCompletion(id='chatcmpl-9BLhvSUxmWegM6JcyZKDp3vSrupx2', choices=[Choice(finish_reason='stop', index=0, logprobs=None, message=ChatCompletionMessage(content='안녕하세요! 저는 인공지능 챗봇입니다. 무엇을 도와드릴까요?', role='assistant', function_call=None, tool_calls=None))], created=1712492079, model='gpt-3.5-turbo-0125', object='chat.completion', system_fingerprint='fp_b28b39ffa8', usage=CompletionUsage(completion_tokens=36, prompt_tokens=20, total_tokens=56))\n"
     ]
    }
   ],
   "source": [
    "print(completion)"
   ]
  },
  {
   "cell_type": "code",
   "execution_count": 14,
   "metadata": {},
   "outputs": [],
   "source": [
    "import os\n",
    "import openai # OpenAI 라이브러리를 불러옵니다.\n",
    "import gradio as gr  # 그라디오 라이브러리를 불러옵니다.\n",
    "\n",
    "# 환경변수에 저장된 OPENAI_API_KEY 값을 가져와 openai.api_key에 할당합니다.\n",
    "os.environ['OPENAI_API_KEY'] = 'sk-'\n",
    "max_tokens = 200\n",
    "temperature = 0.5"
   ]
  },
  {
   "cell_type": "code",
   "execution_count": 15,
   "metadata": {},
   "outputs": [
    {
     "name": "stdout",
     "output_type": "stream",
     "text": [
      "Running on local URL:  http://127.0.0.1:7862\n",
      "Running on public URL: https://5949d91971843f3a36.gradio.live\n",
      "\n",
      "This share link expires in 72 hours. For free permanent hosting and GPU upgrades, run `gradio deploy` from Terminal to deploy to Spaces (https://huggingface.co/spaces)\n"
     ]
    },
    {
     "data": {
      "text/html": [
       "<div><iframe src=\"https://5949d91971843f3a36.gradio.live\" width=\"100%\" height=\"500\" allow=\"autoplay; camera; microphone; clipboard-read; clipboard-write;\" frameborder=\"0\" allowfullscreen></iframe></div>"
      ],
      "text/plain": [
       "<IPython.core.display.HTML object>"
      ]
     },
     "metadata": {},
     "output_type": "display_data"
    }
   ],
   "source": [
    "client = openai.OpenAI(\n",
    "    api_key=os.environ['OPENAI_API_KEY'],  \n",
    ")\n",
    "\n",
    "# 채팅봇의 응답을 처리하는 함수를 정의합니다.\n",
    "def respond(message, chat_history):\n",
    "\n",
    "    response = openai.chat.completions.create(\n",
    "        model=\"gpt-3.5-turbo\",\n",
    "        messages=[\n",
    "            {\n",
    "                \"role\": \"user\",\n",
    "                \"content\": message,\n",
    "            },\n",
    "        ],\n",
    "        max_tokens = max_tokens,\n",
    "        temperature = temperature\n",
    "    )\n",
    "\n",
    "\n",
    "    # response = openai.Completion.create(\n",
    "\n",
    "    #     # 사용할 AI 모델을 지정합니다.\n",
    "    #     # 여기서는 \"gpt-3.5-turbo-instruct\" 모델을 사용하였습니다.\n",
    "    #     model=\"gpt-3.5-turbo-instruct\",\n",
    "\n",
    "    #     # AI 모델에게 전달할 프롬프트를 지정합니다.\n",
    "    #     prompt=message,\n",
    "\n",
    "    #     # 생성될 텍스트의 최대 토큰 수를 지정합니다.\n",
    "    #     # 여기서는 256개의 토큰을 지정하였습니다.\n",
    "    #     max_tokens=256,\n",
    "\n",
    "    #     # 출력의 다양성을 조절합니다.\n",
    "    #     # 값이 0이면 가장 확률이 높은 텍스트를 생성하고,\n",
    "    #     # 값이 1에 가까울수록 더 다양한 텍스트를 생성합니다.\n",
    "    #     temperature=0\n",
    "    # )\n",
    "\n",
    "    # print(response)\n",
    "\n",
    "    # 응답 메시지(JSON)에서 출력 텍스트만 추출합니다.\n",
    "    bot_message = response.choices[0].message.content\n",
    "\n",
    "    # 채팅 기록에 사용자의 메시지와 봇의 응답을 추가합니다.\n",
    "    chat_history.append((message, bot_message))\n",
    "\n",
    "    return \"\", chat_history  # 수정된 채팅 기록을 반환합니다.\n",
    "\n",
    "\n",
    "# gr.Blocks()를 사용하여 인터페이스를 생성합니다.\n",
    "with gr.Blocks() as demo:\n",
    "\n",
    "    # '채팅창'이라는 레이블을 가진 채팅봇 컴포넌트를 생성합니다.\n",
    "    chatbot = gr.Chatbot(label=\"채팅창\")\n",
    "\n",
    "    # '입력'이라는 레이블을 가진 텍스트박스를 생성합니다.\n",
    "    msg = gr.Textbox(label=\"입력\")\n",
    "\n",
    "    # '초기화'라는 레이블을 가진 버튼을 생성합니다.\n",
    "    clear = gr.Button(\"초기화\")\n",
    "\n",
    "    # 텍스트박스에 메시지를 입력하고 제출하면 respond 함수가 호출되도록 합니다.\n",
    "    msg.submit(respond, [msg, chatbot], [msg, chatbot])\n",
    "\n",
    "    # '초기화' 버튼을 클릭하면 채팅 기록을 초기화합니다.\n",
    "    clear.click(lambda: None, None, chatbot, queue=False)\n",
    "\n",
    "# 인터페이스를 실행합니다.\n",
    "# 실행하면 사용자는 '입력' 텍스트박스에 메시지를 작성하고 제출할 수 있으며,\n",
    "# '초기화' 버튼을 통해 채팅 기록을 초기화할 수 있습니다.\n",
    "demo.launch(debug=True, share=True)"
   ]
  },
  {
   "cell_type": "code",
   "execution_count": null,
   "metadata": {},
   "outputs": [],
   "source": []
  }
 ],
 "metadata": {
  "kernelspec": {
   "display_name": "base",
   "language": "python",
   "name": "python3"
  },
  "language_info": {
   "codemirror_mode": {
    "name": "ipython",
    "version": 3
   },
   "file_extension": ".py",
   "mimetype": "text/x-python",
   "name": "python",
   "nbconvert_exporter": "python",
   "pygments_lexer": "ipython3",
   "version": "3.9.19"
  }
 },
 "nbformat": 4,
 "nbformat_minor": 2
}
