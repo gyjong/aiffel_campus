{
 "cells": [
  {
   "cell_type": "code",
   "execution_count": 3,
   "metadata": {},
   "outputs": [],
   "source": [
    "from dotenv import load_dotenv\n",
    "import os\n",
    "import openai\n",
    "\n",
    "load_dotenv('api.env') \n",
    "api_key = os.getenv('OPENAI_API_KEY')\n",
    "\n",
    "max_tokens = 500\n",
    "temperature = 0.5"
   ]
  },
  {
   "cell_type": "code",
   "execution_count": 4,
   "metadata": {},
   "outputs": [
    {
     "name": "stdout",
     "output_type": "stream",
     "text": [
      "===================================================================================\n",
      "Feedback from ChatGPT\n",
      "커피는 대부분의 사람들이 일상생활에서 소비하는 음료수이지만, 과도한 섭취는 몸에 부작용을 일으킬 수 있습니다. 주요 부작용은 다음과 같습니다:\n",
      "\n",
      "1. 수면장애: 커피에 함유된 카페인은 중추 신경계를 자극하여 수면을 방해할 수 있습니다. 과도한 섭취는 수면부족을 유발할 수 있으며, 잠을 자는 데 어려움을 겪을 수 있습니다.\n",
      "\n",
      "2. 소화계 문제: 카페인은 위산을 증가시키고 위장 내 근육을 자극하여 소화계 문제를 유발할 수 있습니다. 소화불량, 위통, 설사 등의 증상이 나타날 수 있습니다.\n",
      "\n",
      "3. 심혈관 질환: 카페인은 혈관을 수축시키고 혈압을 상승시킬 수 있습니다. 과도한 카페인 섭취는 심혈관 질환의 위험을 증가시킬 수 있습니다.\n",
      "\n",
      "4. 뼈 강도 감소: 카페인은 신장에서 칼슘 배설을 증가시키고 뼈의 흡수를 저해할 수 있습니다. 장기적인 카페인 과다 섭취는 뼈 강도 감소와 골다공증의 위험을 증가시킬 수 있습니다.\n",
      "\n",
      "5. 중독성: 카페인은 중추 신경계를 자극하여 중독성을 가질 수 있습니다. 지속적인 카페인 섭\n",
      "-----------------------------------------------------------------------------------\n",
      "CompletionUsage(completion_tokens=499, prompt_tokens=28, total_tokens=527)\n",
      "===================================================================================\n"
     ]
    }
   ],
   "source": [
    "completion = openai.chat.completions.create(\n",
    "        model=\"gpt-3.5-turbo\",\n",
    "        messages=[\n",
    "            {\n",
    "                \"role\": \"user\",\n",
    "                \"content\": '커피의 부작용에 대해서 상세하게 설명해줘',\n",
    "            },\n",
    "        ],\n",
    "        max_tokens = max_tokens,\n",
    "        temperature = temperature\n",
    "    )\n",
    "\n",
    "print('===================================================================================')\n",
    "print('Feedback from ChatGPT')\n",
    "print(completion.choices[0].message.content)\n",
    "print('-----------------------------------------------------------------------------------')\n",
    "print(completion.usage)\n",
    "print('===================================================================================')"
   ]
  },
  {
   "cell_type": "code",
   "execution_count": null,
   "metadata": {},
   "outputs": [],
   "source": []
  }
 ],
 "metadata": {
  "kernelspec": {
   "display_name": "eco_py39",
   "language": "python",
   "name": "python3"
  },
  "language_info": {
   "codemirror_mode": {
    "name": "ipython",
    "version": 3
   },
   "file_extension": ".py",
   "mimetype": "text/x-python",
   "name": "python",
   "nbconvert_exporter": "python",
   "pygments_lexer": "ipython3",
   "version": "3.9.19"
  }
 },
 "nbformat": 4,
 "nbformat_minor": 2
}
