{
 "cells": [
  {
   "cell_type": "code",
   "execution_count": 1,
   "id": "ae1fda63",
   "metadata": {},
   "outputs": [
    {
     "name": "stdout",
     "output_type": "stream",
     "text": [
      "Torch version:1.13.1\n",
      "Cuda version: None\n",
      "transformers version: 4.38.2\n",
      "GPU 사용 가능여부: False\n"
     ]
    },
    {
     "name": "stderr",
     "output_type": "stream",
     "text": [
      "/Users/kenny_jung/Library/Python/3.9/lib/python/site-packages/urllib3/__init__.py:34: NotOpenSSLWarning: urllib3 v2 only supports OpenSSL 1.1.1+, currently the 'ssl' module is compiled with 'LibreSSL 2.8.3'. See: https://github.com/urllib3/urllib3/issues/3020\n",
      "  warnings.warn(\n"
     ]
    }
   ],
   "source": [
    "import torch\n",
    "import transformers\n",
    "\n",
    "print(\"Torch version:{}\".format(torch.__version__)) # Torch version:1.12.1\n",
    "print(\"Cuda version: {}\".format(torch.version.cuda)) # Cuda version: 11.3\n",
    "print(\"transformers version: {}\".format(transformers.__version__)) # transformers 4.28.0\n",
    "print(\"GPU 사용 가능여부: {}\".format(torch.cuda.is_available()))"
   ]
  },
  {
   "cell_type": "code",
   "execution_count": 2,
   "id": "252936bc",
   "metadata": {},
   "outputs": [
    {
     "name": "stdout",
     "output_type": "stream",
     "text": [
      "device: mps\n"
     ]
    }
   ],
   "source": [
    "# device = \"mps\" if torch.backends.mps.is_available() else \"cpu\"\n",
    "# print(\"device: {}\".format(device))"
   ]
  },
  {
   "cell_type": "markdown",
   "id": "132f13b7",
   "metadata": {},
   "source": [
    "# 1. Base model and Dataset for RLHF"
   ]
  },
  {
   "cell_type": "markdown",
   "id": "7fcfd465",
   "metadata": {},
   "source": [
    "### 1-1. 허깅페이스의 transformers를 사용 토크나이저와 모델을 Import"
   ]
  },
  {
   "cell_type": "code",
   "execution_count": 2,
   "id": "a7e64e96",
   "metadata": {},
   "outputs": [
    {
     "name": "stdout",
     "output_type": "stream",
     "text": [
      "device: cpu\n",
      "저장 완료 @ /Users/kenny_jung/aiffel/data/KoChatGPT/tokenizer_model\n"
     ]
    }
   ],
   "source": [
    "import torch\n",
    "from transformers import AutoTokenizer, AutoModelForCausalLM\n",
    "import pandas as pd\n",
    "import numpy\n",
    "\n",
    "device = \"cuda\" if torch.cuda.is_available() else \"cpu\"\n",
    "# device = \"mps\" if torch.backends.mps.is_available() else \"cpu\"\n",
    "print(\"device: {}\".format(device))\n",
    "\n",
    "# model_name = \"skt/kogpt2-base-v2\"\n",
    "model_name = \"skt/ko-gpt-trinity-1.2B-v0.5\"\n",
    "# model_name = 'monologg/distilkobert'\n",
    "\n",
    "tokenizer = AutoTokenizer.from_pretrained(model_name)\n",
    "model = AutoModelForCausalLM.from_pretrained(model_name).to(device)\n",
    "\n",
    "# 저장할 디렉토리 지정\n",
    "save_directory = \"/Users/kenny_jung/aiffel/data/KoChatGPT/tokenizer_model\"\n",
    "\n",
    "# 모델과 토크나이저 저장하기\n",
    "tokenizer.save_pretrained(save_directory)\n",
    "model.save_pretrained(save_directory)\n",
    "\n",
    "print(\"저장 완료 @\", save_directory)"
   ]
  },
  {
   "cell_type": "code",
   "execution_count": 6,
   "id": "e567c43b",
   "metadata": {},
   "outputs": [
    {
     "data": {
      "text/plain": [
       "{'openai-community/gpt2': 1024,\n",
       " 'openai-community/gpt2-medium': 1024,\n",
       " 'openai-community/gpt2-large': 1024,\n",
       " 'openai-community/gpt2-xl': 1024,\n",
       " 'distilbert/distilgpt2': 1024}"
      ]
     },
     "execution_count": 6,
     "metadata": {},
     "output_type": "execute_result"
    }
   ],
   "source": [
    "# 최대 토큰 수를 확인\n",
    "tokenizer.max_model_input_sizes"
   ]
  },
  {
   "cell_type": "code",
   "execution_count": 7,
   "id": "026e4438",
   "metadata": {},
   "outputs": [],
   "source": [
    "# kogpt-2 토크나이징\n",
    "input_txt = \"데이터 과학자의 미래는 생성형 AI 시대에도 불구하고 긍정적이다. 이유는 문제의 정의와 그 해결 방향에 대한 인사이트는 해당 도메인의 이해와 경험이 필요하다.\""
   ]
  },
  {
   "cell_type": "code",
   "execution_count": 8,
   "id": "fa8ff56a",
   "metadata": {},
   "outputs": [],
   "source": [
    "tokens = tokenizer(input_txt).tokens()\n",
    "input_ids = tokenizer(input_txt, return_tensors=\"pt\")[\"input_ids\"].numpy()"
   ]
  },
  {
   "cell_type": "code",
   "execution_count": 9,
   "id": "0e84e9fa",
   "metadata": {},
   "outputs": [
    {
     "data": {
      "text/html": [
       "<div>\n",
       "<style scoped>\n",
       "    .dataframe tbody tr th:only-of-type {\n",
       "        vertical-align: middle;\n",
       "    }\n",
       "\n",
       "    .dataframe tbody tr th {\n",
       "        vertical-align: top;\n",
       "    }\n",
       "\n",
       "    .dataframe thead th {\n",
       "        text-align: right;\n",
       "    }\n",
       "</style>\n",
       "<table border=\"1\" class=\"dataframe\">\n",
       "  <thead>\n",
       "    <tr style=\"text-align: right;\">\n",
       "      <th></th>\n",
       "      <th>0</th>\n",
       "      <th>1</th>\n",
       "      <th>2</th>\n",
       "      <th>3</th>\n",
       "      <th>4</th>\n",
       "      <th>5</th>\n",
       "      <th>6</th>\n",
       "      <th>7</th>\n",
       "      <th>8</th>\n",
       "      <th>9</th>\n",
       "      <th>10</th>\n",
       "      <th>11</th>\n",
       "      <th>12</th>\n",
       "      <th>13</th>\n",
       "      <th>14</th>\n",
       "      <th>15</th>\n",
       "      <th>16</th>\n",
       "      <th>17</th>\n",
       "      <th>18</th>\n",
       "      <th>19</th>\n",
       "      <th>20</th>\n",
       "      <th>21</th>\n",
       "      <th>22</th>\n",
       "      <th>23</th>\n",
       "      <th>24</th>\n",
       "      <th>25</th>\n",
       "      <th>26</th>\n",
       "      <th>27</th>\n",
       "      <th>28</th>\n",
       "      <th>29</th>\n",
       "      <th>30</th>\n",
       "      <th>31</th>\n",
       "      <th>32</th>\n",
       "    </tr>\n",
       "  </thead>\n",
       "  <tbody>\n",
       "    <tr>\n",
       "      <th>kogpt-2_tokens</th>\n",
       "      <td>▁데이터</td>\n",
       "      <td>▁과학</td>\n",
       "      <td>자의</td>\n",
       "      <td>▁미래</td>\n",
       "      <td>는</td>\n",
       "      <td>▁생성</td>\n",
       "      <td>형</td>\n",
       "      <td>▁AI</td>\n",
       "      <td>▁시대</td>\n",
       "      <td>에도</td>\n",
       "      <td>▁불구하고</td>\n",
       "      <td>▁긍정</td>\n",
       "      <td>적이다.</td>\n",
       "      <td>▁이유는</td>\n",
       "      <td>▁문제의</td>\n",
       "      <td>▁정의</td>\n",
       "      <td>와</td>\n",
       "      <td>▁그</td>\n",
       "      <td>▁해결</td>\n",
       "      <td>▁방향</td>\n",
       "      <td>에</td>\n",
       "      <td>▁대한</td>\n",
       "      <td>▁인사</td>\n",
       "      <td>이트</td>\n",
       "      <td>는</td>\n",
       "      <td>▁해당</td>\n",
       "      <td>▁도</td>\n",
       "      <td>메</td>\n",
       "      <td>인의</td>\n",
       "      <td>▁이해</td>\n",
       "      <td>와</td>\n",
       "      <td>▁경험이</td>\n",
       "      <td>▁필요하다.</td>\n",
       "    </tr>\n",
       "    <tr>\n",
       "      <th>Input_IDs</th>\n",
       "      <td>33017</td>\n",
       "      <td>31584</td>\n",
       "      <td>30498</td>\n",
       "      <td>31449</td>\n",
       "      <td>20476</td>\n",
       "      <td>35192</td>\n",
       "      <td>29565</td>\n",
       "      <td>38569</td>\n",
       "      <td>32293</td>\n",
       "      <td>30240</td>\n",
       "      <td>32222</td>\n",
       "      <td>33351</td>\n",
       "      <td>34665</td>\n",
       "      <td>32390</td>\n",
       "      <td>37128</td>\n",
       "      <td>32328</td>\n",
       "      <td>25512</td>\n",
       "      <td>29979</td>\n",
       "      <td>31120</td>\n",
       "      <td>31673</td>\n",
       "      <td>25400</td>\n",
       "      <td>30125</td>\n",
       "      <td>31690</td>\n",
       "      <td>30674</td>\n",
       "      <td>20476</td>\n",
       "      <td>30888</td>\n",
       "      <td>30071</td>\n",
       "      <td>22460</td>\n",
       "      <td>30668</td>\n",
       "      <td>30836</td>\n",
       "      <td>25512</td>\n",
       "      <td>37143</td>\n",
       "      <td>36336</td>\n",
       "    </tr>\n",
       "  </tbody>\n",
       "</table>\n",
       "</div>"
      ],
      "text/plain": [
       "                   0      1      2      3      4      5      6      7      8   \\\n",
       "kogpt-2_tokens   ▁데이터    ▁과학     자의    ▁미래      는    ▁생성      형    ▁AI    ▁시대   \n",
       "Input_IDs       33017  31584  30498  31449  20476  35192  29565  38569  32293   \n",
       "\n",
       "                   9      10     11     12     13     14     15     16     17  \\\n",
       "kogpt-2_tokens     에도  ▁불구하고    ▁긍정   적이다.   ▁이유는   ▁문제의    ▁정의      와     ▁그   \n",
       "Input_IDs       30240  32222  33351  34665  32390  37128  32328  25512  29979   \n",
       "\n",
       "                   18     19     20     21     22     23     24     25     26  \\\n",
       "kogpt-2_tokens    ▁해결    ▁방향      에    ▁대한    ▁인사     이트      는    ▁해당     ▁도   \n",
       "Input_IDs       31120  31673  25400  30125  31690  30674  20476  30888  30071   \n",
       "\n",
       "                   27     28     29     30     31      32  \n",
       "kogpt-2_tokens      메     인의    ▁이해      와   ▁경험이  ▁필요하다.  \n",
       "Input_IDs       22460  30668  30836  25512  37143   36336  "
      ]
     },
     "execution_count": 9,
     "metadata": {},
     "output_type": "execute_result"
    }
   ],
   "source": [
    "pd.options.display.max_columns = 40\n",
    "pd.options.display.max_rows = 60\n",
    "df = pd.DataFrame([tokens, input_ids[0]], index=[\"kogpt-2_tokens\", \"Input_IDs\"])\n",
    "df"
   ]
  },
  {
   "cell_type": "markdown",
   "id": "e8c42d12",
   "metadata": {},
   "source": [
    "### 1-2. Decoder 성능 확인"
   ]
  },
  {
   "cell_type": "code",
   "execution_count": 10,
   "id": "3bdd36c5",
   "metadata": {},
   "outputs": [
    {
     "name": "stdout",
     "output_type": "stream",
     "text": [
      "데이터 과학자의 미래는 생성형 AI 시대에도 불구하고 긍정적이다. 이유는 문제의 정의와 그 해결 방향에 대한 인사이트는 해당 도메인의 이해와 경험이 필요하다. 생성형 AI는 문제 정의와 해결 방향에 대한 인사이트가 부족하다. 생성형 AI는 문제 정의와 해결 방향에 대한 인사이트가 부족하다. 생성형 AI는 문제 정의와 해결 방향에 대한 인사이트가 부족하다. 생성형 AI는 문제 정의와 해결 방향에 대한 인사이트가 부족하다. 생성형 AI는 문제 정의와 해결 방향에 대한 인사이트가 부족하다. 생성형 AI는 문제 정의와 해결 방향에 대한 인사이트가 부족하다. 생성형 AI는 문제 정의와 해결 방향에 대한 인사이트가 부족하다. 생성형 AI는 문제 정의와 해결 방향에 대한 인사이트가 부족하다. 생성형 AI는 문제 정의와 해결 방향에 대한 인사이트가 부족하다. 생성형 AI는 문제 정의와 해결 방향에 대한 인사이트가 부족하다. 생성형 AI는 문제 정의와 해결 방향에 대한 인사이트가 부족하다. 생성형 AI는 문제 정의와 해결 방향에 대한 인사이트가 부족하다. 생성형 AI는 문제 정의와 해결 방향에 대한 인사이트가 부족하다. 생성형 AI는 문제 정의와 해결 방향에 대한 인사이트가 부족\n"
     ]
    }
   ],
   "source": [
    "max_length=128*2\n",
    "input_ids = tokenizer(input_txt, return_tensors=\"pt\")[\"input_ids\"].to(device)\n",
    "output_greedy = model.generate(input_ids, \n",
    "                               max_length=max_length, \n",
    "                               do_sample=False)\n",
    "print(tokenizer.decode(output_greedy[0]))"
   ]
  },
  {
   "cell_type": "code",
   "execution_count": 11,
   "id": "9a5714cd",
   "metadata": {},
   "outputs": [
    {
     "name": "stdout",
     "output_type": "stream",
     "text": [
      "데이터 과학자의 미래는 생성형 AI 시대에도 불구하고 긍정적이다. 이유는 문제의 정의와 그 해결 방향에 대한 인사이트는 해당 도메인의 이해와 경험이 필요하다. 예를 들어 딥러닝은 자연어처리(NLP, Natural Language Processing), 머신 러닝(ML, Machine Learning)과 같은 알고리즘을 활용하여 문제를 정의하고 그 문제를 해결하기 위해 필요한 데이터를 수집, 가공, 분석, 예측, 학습, 추론 등의 과정을 거친다. 이러한 과정을 통해 생성된 데이터는 인공지능이 학습할 수 있는 데이터셋으로 활용될 수 있다. 즉, 데이터의 생성 및 활용은 인공지능의 핵심 역량 중 하나라고 할 수 있다.\n",
      " 그렇다면 인공지능은 어떻게 생성되는가? 생성 과정은 크게 두 가지 단계로 나뉜다. 첫 번째 단계는 데이터를 생성하는 단계이다. 데이터가 생성되기 위해서는 먼저 생성하고자 하는 데이터에 대해 정의가 선행되어야 한다. 데이터를 정의하는 방법에는 크게 2가지가 있다. 첫 번째는 데이터베이스(DB, Database)를 이용하는 방법이고, 두 번째는 인공지능(AI, Artificial Intelligence)을 활용하는 방법이다.\n",
      " 두 번째 방법인 인공지능을 활용하는 방법에 대해 알아보도록 하자. 먼저 데이터베이스를 이용하는 방법을 살펴보자. DB를 이용하는 방법은 크게\n"
     ]
    }
   ],
   "source": [
    "# 빔 서치 디코딩을 사용하고 n-gram 패널티까지 부과\n",
    "input_ids = tokenizer(input_txt, return_tensors=\"pt\")[\"input_ids\"].to(device)\n",
    "output_beam = model.generate(input_ids, \n",
    "                             max_length=max_length, \n",
    "                             num_beams=10, \n",
    "                             no_repeat_ngram_size=2,\n",
    "                             do_sample=False)\n",
    "print(tokenizer.decode(output_beam[0]))"
   ]
  },
  {
   "cell_type": "code",
   "execution_count": 12,
   "id": "08b40367",
   "metadata": {},
   "outputs": [
    {
     "name": "stdout",
     "output_type": "stream",
     "text": [
      "데이터 과학자의 미래는 생성형 AI 시대에도 불구하고 긍정적이다. 이유는 문제의 정의와 그 해결 방향에 대한 인사이트는 해당 도메인의 이해와 경험이 필요하다. 이러한 인사이트를 얻을 수 있는 것이 바로 '데이터 과학자'이기 때문이다.\n",
      " 데이터과학자는 데이터에 기반한 의사결정을 통해 문제를 정의하고 해결방안을 도출하는 역할을 수행한다. 데이터가 의사결정 과정에 중요한 역할을 한다는 것은 이미 많은 연구에서 증명된 바 있다. 이러한 데이터의 중요성에 대한 인식은 최근 들어 더욱 확산되고 있는 추세다. 특히 최근 인공지능(AI)과 빅데이터, 클라우드 컴퓨팅, 사물인터넷(IoT), 블록체인 등 4차 산업혁명의 핵심 기술들이 등장하면서 데이터는 더욱 중요해지고 있다.\n",
      " 데이터를 기반으로 한 문제해결은 데이터 사이언티스트(Data Scientist)에 의해 주도되고 있다. 데이터사이언티는 데이터를 수집, 분석, 가공, 시각화, 시각화 등의 과정을 거쳐 의미 있는 결과물을 도출해내는 전문가다. 이들은 데이터 분석과 시각화를 통해 데이터를 해석하고 의미를 부여해 문제를 해결해 나간다. 이들은 데이터를 분석하고 해석하는 과정에서 다양한 통계적 기법을 활용한다. 이를 통해 도출된 결과물은 AI 알고리즘을 통해 최적화된 결과물로 재탄생하게 된다.\n",
      " 문제는 이러한 과정이 매우 복잡하고 까다롭다는 것이다. 이를 해결하기 위해 데이터\n"
     ]
    }
   ],
   "source": [
    "# 샘플링 기법까지 추가\n",
    "output_beam = model.generate(input_ids, \n",
    "                             max_length=max_length, \n",
    "                             num_beams=7, \n",
    "                             no_repeat_ngram_size=2,\n",
    "                             do_sample=True, \n",
    "                             temperature=1.0, top_k=50)\n",
    "print(tokenizer.decode(output_beam[0]))"
   ]
  },
  {
   "cell_type": "code",
   "execution_count": 13,
   "id": "061249a2",
   "metadata": {},
   "outputs": [
    {
     "name": "stdout",
     "output_type": "stream",
     "text": [
      "데이터 과학자의 미래는 생성형 AI 시대에도 불구하고 긍정적이다. 이유는 문제의 정의와 그 해결 방향에 대한 인사이트는 해당 도메인의 이해와 경험이 필요하다. 즉, 문제 해결에 필요한 인사이트를 도출해낼 수 있는 능력이 필요하기 때문이다.\n",
      " 딥러닝(Deep Learning)은 알고리즘(Algorithm)과 데이터(Data)의 합성어로, 인공지능(Artificial Intelligence, AI)의 한 분야다. 컴퓨터가 스스로 학습할 수 있도록 하는 인공신경망(Neural Network, Neurotransmitters, 신경망)을 이용해 데이터를 학습하고 추론하는 기술이다. 인간의 뇌를 모방한 기계학습(machine learning, ML), 자연어 처리(NLP), 이미지 처리(Image Processing), 패턴 인식(Pattern Recognition, PNR) 등의 기술을 활용하여 문제를 정의하고 그 문제를 해결하기 위해 필요한 데이터를 수집, 학습, 분류, 분석, 예측, 최적화 등의 과정을 거쳐 문제를 해결한다. 이러한 과정을 통해 생성된 데이터는 의미 있는 정보로 변환되어 의사결정에 활용될 수 있으며, 이를 통해 새로운 비즈니스를 창출할 수도 있다.</d>\n"
     ]
    }
   ],
   "source": [
    "# top_p 샘플링 기법도 사용\n",
    "output_beam = model.generate(input_ids, \n",
    "                             max_length=max_length, # 테스트 최대 길이\n",
    "                             num_beams=20,          # 빔 서치의 빔 크기를 설정. 빔 서치는 텍스트 생성 시 여러 가능성 있는 출력 중에서 가장 확률이 높은 출력을 선택\n",
    "                             no_repeat_ngram_size=2,# 생성된 텍스트 내에서 반복되는 n-gram의 크기를 제한 \n",
    "                             do_sample=True,        # 단순히 가장 높은 확률을 가진 토큰을 선택하는 대신에 확률 분포에 따라 랜덤하게 토큰을 선택\n",
    "                             top_p=0.80)            # \"nucleus sampling\" 또는 \"top-p sampling\" 기법, 누적 확률이 0.50(50%)에 도달할 때까지 가장 확률이 높은 토큰들만 고려\n",
    "print(tokenizer.decode(output_beam[0]))"
   ]
  },
  {
   "cell_type": "markdown",
   "id": "5827c104",
   "metadata": {},
   "source": [
    "### 1-3. Dataset 확인"
   ]
  },
  {
   "cell_type": "code",
   "execution_count": 14,
   "id": "ddeecafe",
   "metadata": {
    "scrolled": true
   },
   "outputs": [
    {
     "name": "stdout",
     "output_type": "stream",
     "text": [
      "12000\n",
      "[{'prompt': '천안함 침몰 사건에 대한 성금 모금이 진행된 것은 언제인가?', 'completion': \"'2010년 4월 9일 천안함 침몰 사건 이후 성금 모금이 즉시 시작되었습니다.\", 'tokens': 87}, {'prompt': '이거는 재질이 뭡니까?', 'completion': \"'죄송합니다. 이 질문에는 재료에 대한 구체적인 정보가 제공되지 않았습니다. 따라서 해당 제품의 재료를 제공할 수 없습니다. 추가 질문이 있으시면 언제든지 알려주세요.\", 'tokens': 98}, {'prompt': '그래도 좀 기대했는데', 'completion': \"'그것은 당신이 기대했던 것이 실제로 일어나지 않았기 때문일 수 있습니다. 하지만 이것은 더 나은 결과를 위해 더 많은 노력을 기울이고 일을 더 잘 준비하고 계속해서 노력하는 기회가 될 것입니다. 즉, 실패는 성공의 길에 포함된 일부입니다.\", 'tokens': 139}, {'prompt': '새우 필라프는 어떤 거예요?', 'completion': \"'새우 필라프는 새우와 쌀을 함께 볶아 만든 전통 음식으로, 주로 스파이스와 함께 조리됩니다. 이 음식은 스페인, 루마니아, 그리스, 터키, 말레이시아, 인도 등 다양한 문화권에서 발전하여 전 세계적으로 인기 있는 요리 중 하나입니다.\", 'tokens': 148}, {'prompt': '아인슈타인은 어떤 공로로 노벨물리학상을 받았어', 'completion': \"'?\\\\n\\\\n아인슈타인은 상대성 이론을 발견하고 이를 기반으로 빛의 속도, 시공간의 개념을 다시 정립했다는 공로로 1921년 노벨물리학상을 받았습니다. 이는 현대 물리학의 발전에 큰 영향을 끼쳤습니다. 또한, 양자 역학과 일반상대성 이론을 통합한 통일학설을 추구하는 노력과 그에 따른 연구도 이루어졌습니다.\", 'tokens': 213}, {'prompt': '요런 줄은 얼만데요?', 'completion': \"'죄송합니다, 지금 저는 물건을 볼 수 없어서 가격을 알 수 없습니다. 추가정보를 알려주시면 더 도움 드릴 수 있습니다.\", 'tokens': 82}, {'prompt': '최남현을 스타덤으로 오르게 한 연극 작품이 뭐더라', 'completion': '\"최남현을 스타덤으로 오르게 한 연극 작품은 \\'모두의 여왕\\'입니다.\", \\'token\\': 79}', 'tokens': 79}, {'prompt': '그 제가 중고차를 팔려고 하는데 내일 거래를 할려고 하는데 그 저는 대구사람이고 살려고하는 사람은 수원사람이예요 그러면 머지 대구 대구 등록소에서 등록해도 상관없는거죠', 'completion': \"'등록소는 관할 지역에서 등록을 해야 하기 때문에 대구에서 등록한 차량을 수원에서 운행하는 것은 문제가 될 수 있습니다. 그러나 대구에서 등록한 차량을 수원으로 이전 등록할 수 있습니다. 이전 등록을 위해서는 완전한 자동차 보험증권, 등록금 및 재직증명서 (또는 사업자등록증) 등 필요한 서류를 준비하여 수원시 내국인관리과나 지방세납부사무소 등록부로 방문해야 합니다. 따라서 거래 전에 수원에 등록하는 것이 좋습니다.\", 'tokens': 297}, {'prompt': '공부로 먹고 살 수 있을까', 'completion': \"'공부로 먹고 살 수 있을 수 있습니다. 우선, 대학교에서 수업을 들으며 전공 분야에 대한 지식과 기술을 습득하여 취업이 가능합니다. 또한, 대학원에서 깊이 있는 연구를 통해 학문적 지식을 획득하여 대학교 교수나 연구원으로 취업할 수 있습니다. 또한, 드문 경우지만 공부를 통해 자신의 아이디어를 뽑아내어 창업할 수도 있습니다. 하지만, 이 모든 것에 있어서도 열심히 노력하고 지속적으로 발전해 나가는 것이 중요합니다.\", 'tokens': 231}, {'prompt': '최우가 몽고의 침입을 막고자 했던 결정은', 'completion': \"'최우는 새로운 세력인 몽고의 침입을 막기 위해 다양한 결정을 내렸습니다. 그중에는 다음과 같은 것들이 있습니다.\\\\n\\\\n1. 격전 준비: 최우는 몽고의 침입에 대비하기 위해 군대를 늘리고 선봉대를 파견하여 경계를 강화했습니다.\\\\n\\\\n2. 연합 결성: 최우는 다른 나라와 연합하려는 노력을 기울였습니다. 그는 미시국과 호족을 결집시켜 함께 몽골의 침입을 막으려고 했습니다.\\\\n\\\\n3. 천재적인 계책: 최우는 몽골 군대를 쉽게 불태우기 위해 천재적인 계책을 세웠습니다. 그는 몽골 군대를 미끼로 이용하여 그들의 약점을 파악하고 공격하는 방법을 고민했습니다.\\\\n\\\\n최우는 이러한 결정들을 통해 몽고의 침입을 막기 위해 최선을 다하였습니다. 하지만 최종적으로는 몽고의 전력에 밀려 서울을 떠나야 했습니다.\", 'tokens': 395}]\n"
     ]
    },
    {
     "data": {
      "text/plain": [
       "'\\n사람이 만든 데이터셋을 사용하여 모델을 미세 조정하는 단계입니다. \\n여기서는 사람이 작성한 텍스트 샘플(예를 들어, 질문과 대답 쌍)을 모델에 입력하여, \\n모델이 사람의 언어 패턴을 학습하게 됩니다.\\n'"
      ]
     },
     "execution_count": 14,
     "metadata": {},
     "output_type": "execute_result"
    }
   ],
   "source": [
    "# SFT (Supervised Fine-Tuning) Dataset\n",
    "import json \n",
    "data_path_1_SFT = '/Users/kenny_jung/aiffel/data/KoChatGPT/data_kochatgpt/kochatgpt_1_SFT.jsonl' \n",
    "with open(data_path_1_SFT, \"r\", encoding='utf-8-sig') as json_file:\n",
    "    list_data_dict = json.load(json_file)\n",
    "\n",
    "print(len(list_data_dict))\n",
    "print(list_data_dict[100:110])\n",
    "\n",
    "'''\n",
    "사람이 만든 데이터셋을 사용하여 모델을 미세 조정하는 단계입니다. \n",
    "여기서는 사람이 작성한 텍스트 샘플(예를 들어, 질문과 대답 쌍)을 모델에 입력하여, \n",
    "모델이 사람의 언어 패턴을 학습하게 됩니다.\n",
    "'''"
   ]
  },
  {
   "cell_type": "code",
   "execution_count": 15,
   "id": "5f781504",
   "metadata": {},
   "outputs": [
    {
     "name": "stderr",
     "output_type": "stream",
     "text": [
      "huggingface/tokenizers: The current process just got forked, after parallelism has already been used. Disabling parallelism to avoid deadlocks...\n",
      "To disable this warning, you can either:\n",
      "\t- Avoid using `tokenizers` before the fork if possible\n",
      "\t- Explicitly set the environment variable TOKENIZERS_PARALLELISM=(true | false)\n"
     ]
    },
    {
     "name": "stdout",
     "output_type": "stream",
     "text": [
      "Prompt Lengths: Min=0, Max=295, Mean=22.180583333333335\n",
      "Completion Lengths: Min=4, Max=1553, Mean=144.10725\n"
     ]
    },
    {
     "data": {
      "text/plain": [
       "<matplotlib.legend.Legend at 0x2af3a6d30>"
      ]
     },
     "execution_count": 15,
     "metadata": {},
     "output_type": "execute_result"
    },
    {
     "data": {
      "image/png": "[encoded data removed]",
      "text/plain": [
       "<Figure size 1200x600 with 1 Axes>"
      ]
     },
     "metadata": {
      "image/png": {
       "height": 505,
       "width": 996
      }
     },
     "output_type": "display_data"
    }
   ],
   "source": [
    "import matplotlib.pyplot as plt\n",
    "import seaborn as sns\n",
    "%config InlineBackend.figure_format = 'retina'\n",
    "\n",
    "prompt_lengths = [len(example['prompt']) for example in list_data_dict]\n",
    "completion_lengths = [len(example['completion']) for example in list_data_dict]\n",
    "\n",
    "# 길이 분포에 대한 기본 통계 정보 출력\n",
    "print(f\"Prompt Lengths: Min={min(prompt_lengths)}, Max={max(prompt_lengths)}, Mean={sum(prompt_lengths)/len(prompt_lengths)}\")\n",
    "print(f\"Completion Lengths: Min={min(completion_lengths)}, Max={max(completion_lengths)}, Mean={sum(completion_lengths)/len(completion_lengths)}\")\n",
    "\n",
    "plt.figure(figsize=(12, 6))\n",
    "plt.hist(prompt_lengths, bins=50, color='y', label='Prompt Lengths', alpha=0.5)\n",
    "plt.hist(completion_lengths, bins=50, color='r', label='completion_lengths Lengths', alpha=0.5)\n",
    "plt.vlines(sum(prompt_lengths)/len(prompt_lengths), 3000, 0, colors='y', linestyles='--', label='Mean Complietion Length')\n",
    "plt.vlines(sum(completion_lengths)/len(completion_lengths), 3000, 0, colors='r', linestyles='--', label='Mean Completion Length')\n",
    "plt.legend()"
   ]
  },
  {
   "cell_type": "code",
   "execution_count": 16,
   "id": "336d59e3",
   "metadata": {
    "scrolled": true
   },
   "outputs": [
    {
     "name": "stdout",
     "output_type": "stream",
     "text": [
      "10220\n",
      "[{'prompt': '이게 정가에요?', 'completion_0': '저는 가격을 알 수 없습니다. 상품의 종류나 상황에 따라 가격이 다르기 때문에, 해당 상품의 판매처나 업체에 가격 문의를 해보세요.', 'completion_1': '고곧 한으로 가시는 한으로 가시는 국남에게 궁', 'completion_2': '그건 다른 곳에 따라 다르지요. 실제 상품을 구매하려는 곳의 가격을 확인해보세요.', 'ranking': [0, 2, 1]}, {'prompt': '막장으로 가네', 'completion_0': '트', 'completion_1': '종료합니다. 감사합니다.', 'completion_2': '죄송합니다. 막장에 가는 것은 좋지 않은 일입니다. 좀 더 평화로운 장소로 가시는 것을 권장합니다.', 'ranking': [2, 1, 0]}, {'prompt': '비디오 영상 혹은 애니메이션 기술을 이용하여 영상 속에 다양한 움직임을 만들어내는 그래픽은?', 'completion_0': '모션 그래픽(Motion Graphics)입니다. 모션 그래픽은 비디오, 애니메이션, 3D 모델링, 이펙트 등의 다양한 그래픽 요소를 사용하여 동영상 속에 다양한 움직임을 만들어내는 기술을 말합니다.', 'completion_1': 'CG (컴퓨터 그래픽스) 또는 VFX (비주얼 이펙트)입니다. 이 기술은 현실적이고 화려한 효과를 만들어내며, 영화, 게임, 광고 등 다양한 매체에서 사용됩니다.', 'completion_2': '사이스 형 기술이 비디오 공연를 하여 경기행동이 군) 크게 흔', 'ranking': [1, 0, 2]}, {'prompt': '여자친구가 데이트 시간을 너무 안 지켜.', 'completion_0': '여자친구가 데이트 시간을 지켜주지 않을 경우 적당한 대처법은 다음과 같습니다.\\n\\n1. 말씀하기 : 여자친구에게 데이트 시간을 지켜주기를 요청하고, 중요함을 인정하는 말씀을 꼭 드려야 합니다. \\n\\n2. 차별되게 대하기 : 데이트 시간을 지키는 것은 시간을 배려하는 뜻이므로, 데이트 시간을 지키는 시간이 생긴다면 차별되게 대해 주어야 합니다. \\n\\n3. 방법 제시하기 : 데이트 시간을 지키는 것이 불가능할 경우에는, 대신 다른 방법으로 시간을 보내는 것을 제안해야 합니다. \\n\\n4. 같이 하기 : 만약 여자친구가 데이트 시간을 지켜주지 않을시, 그녀가 불편하지 않도록 하기 위해 같이 하는 것도 좋은 방법입니다. 즐거운 것들도 같이해서 시간을 보내면 좋습니다.', 'completion_1': 'I am the only one who can keep you safe.', 'completion_2': '저를 사용해주셔서 감사합니다.\\\\n\\\\n가능하다면 항상 정확한 시간을 지키는 것이 좋지만, 모든 사람이 그러지 않을 수 있습니다. 여자친구가 데이트 시간을 지키지 않는 것이 문제가 된다면, 이에 대해 열린 대화를 해주는 것이 좋습니다. 먼저, 상황을 잘 파악하고 다음과 같은 것들을 고려해보세요.\\\\n\\\\n1. 그녀가 왜 늦는지 알아내세요.\\\\n\\\\n그녀의 지각한 이유가 무엇인지 알아내야 합니다. 그녀가 바빠서 지각한 건지, 약속 시간을 잊어버렸는지, 아니면 그녀가 시간 개념을 가지고 있지 않는지를 파악해보세요. 이러한 것들을 파악하면 그녀가 미래에 늦을지도 모르는 이유를 예측하고 대처하는 데 도움이 됩니다.\\\\n\\\\n2. 데이트 시간을 더 자세히 협의해보세요.\\\\n\\\\n그녀와 데이트 시간을 미리 협의하고, 정확한 일정을 세우는 것이 좋습니다. 이렇게 하면 그녀가 지각할 가능성이 줄어들고, 당신의 시간과 계획을 훼손하지 않을 수 있습니다.\\\\n\\\\n3. 그녀가 늦었다면, 문제를 해결하는 대처 방법을 찾으세요.\\\\n\\\\n가능한 한 빨리 대처 방법을 찾아야 합니다. 그녀가 늦은 경우, 어떻게 대처할 것인지 생각해보세요. 그녀에게 연락을 취할 것인지, 다른 계획을 세울 것인지, 아니면 여유를 가지고 기다릴 것인지를 생각해보세요. 이러한 대처 방법을 미리 준비해두면 늦게 오더라도 대처하기 쉽습니다.\\\\n\\\\n4. 서로의 시간을 존중하세요.\\\\n\\\\n상대방의 시간을 존중하는 것이 중요합니다. 당신이 얼마나 중요한 데이트였는지, 그리고 그녀가 늦어서 당신이 얼마나 실망했는지를 그녀에게 알려주는 것이 중요합니다. 그리하여 그녀가 당신의 시간을 최대한 존중하게 만드는 것이 좋습니다.\\\\n\\\\n그녀와 함께하는 모든 데이트에 있어서, 서로의 시간을 존중하고 최대한 정확하게 일정을 수립하는 것이 중요합니다. 이러한 것들이 문제가 된다면, 열린 대화와 함께 문제를 해결하는 것이 좋습니다.', 'ranking': [2, 0, 1]}, {'prompt': '레오니트 쿠치마는 어느 나라 대통령이야', 'completion_0': '레오니트 쿠치마는 루시아의 대통령이었습니다.', 'completion_1': '국가 토론 \\n\\n.\\n\\n.\\n\\n.\\n\\n이번에 대토론의 거의 토론 \\n\\n\\n\\n.\\n\\n.\\n\\n.\\n\\n.\\n\\n이번에 대토론의 거의 토론', 'completion_2': '저는 레오니트 쿠치마가 누구인지 모릅니다. 추가 정보를 제공해주시면 더 확실한 답변을 드릴 수 있을 것입니다.', 'ranking': [2, 0, 1]}, {'prompt': 'GP-슈트레케의 완공 년도는?', 'completion_0': 'The Preamble to the United States Declaration of Independence \\n\\nIn testifying before thetariff officials of the United States of America \\n\\nWe, the people of the United States of America, \\n\\nWe, the people of the United States of America,\\n\\nWe, the people of the United States of America,\\n\\nWe, the people of the United States of America,\\n\\nWe, the people of the United States of America', 'completion_1': '1951년입니다.', 'completion_2': 'GP-슈트레케는 1973년에 완공되었습니다.', 'ranking': [2, 1, 0]}, {'prompt': '콩도르세 승자는 보편적으로 무엇이 가장 높은 후보로 이해되고 있나요?', 'completion_0': \"If you are looking for a problem to solve, you will not be able to find one. It's like trying to count to 100 without burning the numbers down.\", 'completion_1': '콩도르세 승자는 대체로 많은 후보자 중에서 가장 널리 지지받는 후보자로 간주됩니다. 이러한 후보자는 다수의 유권자가 공동으로 동의하는 경우가 많으며, 이는 더 넓은 기반을 가지는 후보자임을 보여줍니다. 그러나 이는 항상 그렇지는 않으며, 특히 선거에서 이견이 많은 경우에는 콩도르세 승자가 명확하지 않을 수도 있습니다.', 'completion_2': '보편적으로 가장 높은 후보로 이해되는 것은 북미 문제에서 프랑스 정부 소속인 에바노 벨로이에 따른 선거 결과일 것으로 보입니다.', 'ranking': [1, 2, 0]}, {'prompt': '최초로 오스트리아 야구리그에 진출한 한국인은', 'completion_0': '한국인 야구 선수 이지용이 2002년 오스트리아 스페인 리그에 진출하여 최초로 오스트리아 야구리그에 진출한 한국인으로 알려져 있습니다.', 'completion_1': '3명 \\n3명\\n3명\\n3명\\n3명\\n3명\\n\\n\\n\\n3명 \\n3명\\n3명\\n3명\\n3명\\n3명', 'completion_2': '2018년에 리그의 하나인 오스트리아 야구 연맹 1부리그에 들어간 황병호 선수입니다.', 'ranking': [2, 0, 1]}, {'prompt': '이런 생각도 맞는 생각인가?', 'completion_0': '그렇다고 해도 된다. 사람은 각자 다른 방식으로 생각하며, 생각이 다르면 공감할 수도, 그렇지 않으면 이해하지 못할 수도 있다. 상대방의 생각에 배려하고 이해하는 것이 중요하다.', 'completion_1': '이런 생각도 맞는 생각인 같은 것만 개인의 기수진 때문에 고생시같은 것이다. 그러므로 한 개인 기량의 기수를 관싥시행', 'completion_2': '제가 AI 모델로써, 정확한 의미 파악은 힘들지만 이 말씀과 관련되어서 적절한 답변을 드리자면, 맞는 생각일 수도 있고 나쁜 생각일 수도 있습니다.\\\\n\\\\n어떤 주장이든, 그것이 옳은지 검증하려면 항상 다양한 증거와 분석이 필요합니다. 또한, 사람마다 생각이나 관점이 다르기 때문에 동일한 주장일지라도 다른 생각을 가질 수 있습니다.\\\\n\\\\n따라서, 이 말씀이 맞는 생각인지에 대해서는 우리 개인의 사료나 판단에 따라 달라집니다.', 'ranking': [2, 0, 1]}, {'prompt': '네 받아주나요?', 'completion_0': '제기원들께 한 개의 장기를 통한 국제관들이 개개', 'completion_1': '저는 AI 챗봇입니다. 제가 할 수 있는 것이 있다면 최선을 다해 도움을 드리겠습니다. 무엇을 도와드릴까요?', 'completion_2': '네, 받아주겠습니다.', 'ranking': [1, 2, 0]}]\n"
     ]
    },
    {
     "data": {
      "text/plain": [
       "'\\n각 입력(prompt)에 대해 여러 개의 완성된 텍스트(completion)와 이들의 순위(ranking)가 주어집니다. \\n이 정보를 사용하여 모델이 생성한 텍스트의 품질을 평가하는 보상 모델을 훈련시킬 수 있습니다. \\n구체적으로, 이 단계에서는 다음과 같은 작업이 이루어집니다:\\n\\n1. 데이터 준비: 입력(prompt)에 대한 다양한 완성 텍스트(completion)가 준비되며, \\n이 텍스트들은 인간 평가자에 의해 순위가 매겨집니다. 이 데이터는 모델이 어떤 출력이 더 선호되는지를 이해하는 데 사용됩니다.\\n\\n2. 보상 모델 훈련: 준비된 데이터를 사용하여, 모델이 생성한 텍스트의 품질을 평가할 수 있는 보상 모델을 훈련시킵니다. \\n이 모델은 각각의 완성 텍스트(completion)에 대한 점수나 순위를 기반으로 보상을 계산합니다.\\n\\n3. 품질 평가: 보상 모델을 사용하여, 모델이 생성한 텍스트의 품질을 평가합니다. \\n이 과정에서 모델이 생성한 텍스트에 대해 높은 점수를 받은 경우, 해당 텍스트는 인간 평가자의 선호도를 잘 반영한 것으로 간주됩니다.\\n\\n\\n'"
      ]
     },
     "execution_count": 16,
     "metadata": {},
     "output_type": "execute_result"
    }
   ],
   "source": [
    "# RM (Reward Modeling) Dataset\n",
    "data_path_2_RM = '/Users/kenny_jung/aiffel/data/KoChatGPT/data_kochatgpt/kochatgpt_2_RM.jsonl'\n",
    "with open(data_path_2_RM, \"r\", encoding='utf-8-sig') as json_file:\n",
    "    list_data_dict = json.load(json_file)\n",
    "\n",
    "print(len(list_data_dict))\n",
    "print(list_data_dict[110:120])\n",
    "'''\n",
    "각 입력(prompt)에 대해 여러 개의 완성된 텍스트(completion)와 이들의 순위(ranking)가 주어집니다. \n",
    "이 정보를 사용하여 모델이 생성한 텍스트의 품질을 평가하는 보상 모델을 훈련시킬 수 있습니다. \n",
    "구체적으로, 이 단계에서는 다음과 같은 작업이 이루어집니다:\n",
    "\n",
    "1. 데이터 준비: 입력(prompt)에 대한 다양한 완성 텍스트(completion)가 준비되며, \n",
    "이 텍스트들은 인간 평가자에 의해 순위가 매겨집니다. 이 데이터는 모델이 어떤 출력이 더 선호되는지를 이해하는 데 사용됩니다.\n",
    "\n",
    "2. 보상 모델 훈련: 준비된 데이터를 사용하여, 모델이 생성한 텍스트의 품질을 평가할 수 있는 보상 모델을 훈련시킵니다. \n",
    "이 모델은 각각의 완성 텍스트(completion)에 대한 점수나 순위를 기반으로 보상을 계산합니다.\n",
    "\n",
    "3. 품질 평가: 보상 모델을 사용하여, 모델이 생성한 텍스트의 품질을 평가합니다. \n",
    "이 과정에서 모델이 생성한 텍스트에 대해 높은 점수를 받은 경우, 해당 텍스트는 인간 평가자의 선호도를 잘 반영한 것으로 간주됩니다.\n",
    "\n",
    "\n",
    "'''"
   ]
  },
  {
   "cell_type": "code",
   "execution_count": 17,
   "id": "5d37e2bc",
   "metadata": {},
   "outputs": [
    {
     "name": "stdout",
     "output_type": "stream",
     "text": [
      "Prompt Lengths: Min=0, Max=295, Mean=22.203228962818002\n",
      "Completion_0 Lengths: Min=0, Max=3088, Mean=117.4931506849315\n",
      "Completion_1 Lengths: Min=0, Max=3694, Mean=116.80567514677104\n",
      "Completion_2 Lengths: Min=0, Max=2979, Mean=116.0054794520548\n"
     ]
    },
    {
     "data": {
      "text/plain": [
       "<matplotlib.legend.Legend at 0x48b914f10>"
      ]
     },
     "execution_count": 17,
     "metadata": {},
     "output_type": "execute_result"
    },
    {
     "data": {
      "image/png": "[encoded data removed]",
      "text/plain": [
       "<Figure size 1200x600 with 1 Axes>"
      ]
     },
     "metadata": {
      "image/png": {
       "height": 505,
       "width": 995
      }
     },
     "output_type": "display_data"
    }
   ],
   "source": [
    "prompt_lengths = [len(example['prompt']) for example in list_data_dict]\n",
    "completion_0_lengths = [len(example['completion_0']) for example in list_data_dict]\n",
    "completion_1_lengths = [len(example['completion_1']) for example in list_data_dict]\n",
    "completion_2_lengths = [len(example['completion_2']) for example in list_data_dict]\n",
    "\n",
    "# 길이 분포에 대한 기본 통계 정보 출력\n",
    "print(f\"Prompt Lengths: Min={min(prompt_lengths)}, Max={max(prompt_lengths)}, Mean={sum(prompt_lengths)/len(prompt_lengths)}\")\n",
    "print(f\"Completion_0 Lengths: Min={min(completion_0_lengths)}, Max={max(completion_0_lengths)}, Mean={sum(completion_0_lengths)/len(completion_0_lengths)}\")\n",
    "print(f\"Completion_1 Lengths: Min={min(completion_1_lengths)}, Max={max(completion_1_lengths)}, Mean={sum(completion_1_lengths)/len(completion_1_lengths)}\")\n",
    "print(f\"Completion_2 Lengths: Min={min(completion_2_lengths)}, Max={max(completion_2_lengths)}, Mean={sum(completion_2_lengths)/len(completion_2_lengths)}\")\n",
    "\n",
    "plt.figure(figsize=(12, 6))\n",
    "plt.hist(prompt_lengths, bins=50, color='y', label='Prompt Lengths', alpha=0.5)\n",
    "plt.hist(completion_0_lengths, bins=50, color='r', label='completion_0_lengths Lengths', alpha=0.5)\n",
    "plt.hist(completion_1_lengths, bins=50, color='r', label='completion_1_lengths Lengths', alpha=0.5)\n",
    "plt.hist(completion_2_lengths, bins=50, color='r', label='completion_2_lengths Lengths', alpha=0.5)\n",
    "\n",
    "plt.vlines(sum(prompt_lengths)/len(prompt_lengths), 3000, 0, colors='y', linestyles='--', label='Mean Complietion Length')\n",
    "plt.vlines(sum(completion_0_lengths)/len(completion_0_lengths), 3000, 0, colors='r', linestyles='--', label='Mean Completion Length')\n",
    "plt.vlines(sum(completion_1_lengths)/len(completion_1_lengths), 3000, 0, colors='b', linestyles='--', label='Mean Completion Length')\n",
    "plt.vlines(sum(completion_2_lengths)/len(completion_2_lengths), 3000, 0, colors='m', linestyles='--', label='Mean Completion Length')\n",
    "\n",
    "plt.legend()\n"
   ]
  },
  {
   "cell_type": "code",
   "execution_count": 18,
   "id": "b33a54d0",
   "metadata": {},
   "outputs": [
    {
     "name": "stdout",
     "output_type": "stream",
     "text": [
      "12000\n",
      "[{'prompt': '미스터 허드슨의 소속은?'}, {'prompt': '날씨가 진짜 덥다'}, {'prompt': '파운데이션을 사려고 하는데요.'}, {'prompt': '성 베드로 광장을 설계한 인물은?'}, {'prompt': '짝사랑 그만하고 싶다'}, {'prompt': '손학규 후보가 여론조사에서 몇프로를 제안하였나?'}, {'prompt': '여기 주차할 데는 없죠?'}, {'prompt': '여자친구가 나를 sns에 올리지 않아서 서운해.'}, {'prompt': '대학생들 쿠션은 어떤 거 많이 쓰나요?'}, {'prompt': '반기문과 경쟁하던 샤시 타루르의 국적은?'}]\n"
     ]
    },
    {
     "data": {
      "text/plain": [
       "'\\nPPO 학습 과정에서 모델이 이 prompt들을 바탕으로 텍스트를 생성하고, \\n이 생성된 텍스트에 대해 보상 모델로부터 보상을 받게 되며, \\n이 보상을 기반으로 모델을 학습시키는 구조입니다. \\n학습의 목표는 보상을 최대화하는 방향으로 모델의 출력을 조정\\n'"
      ]
     },
     "execution_count": 18,
     "metadata": {},
     "output_type": "execute_result"
    }
   ],
   "source": [
    "# PPO (Proximal Policy Optimization) dataset\n",
    "data_path_3_PPO = '/Users/kenny_jung/aiffel/data/KoChatGPT/data_kochatgpt/kochatgpt_3_PPO.jsonl'\n",
    "with open(data_path_3_PPO, \"r\", encoding='utf-8-sig') as json_file:\n",
    "    list_data_dict = json.load(json_file)\n",
    "\n",
    "print(len(list_data_dict))\n",
    "print(list_data_dict[400:410])\n",
    "\n",
    "'''\n",
    "PPO 학습 과정에서 모델이 이 prompt들을 바탕으로 텍스트를 생성하고, \n",
    "이 생성된 텍스트에 대해 보상 모델로부터 보상을 받게 되며, \n",
    "이 보상을 기반으로 모델을 학습시키는 구조입니다. \n",
    "학습의 목표는 보상을 최대화하는 방향으로 모델의 출력을 조정\n",
    "'''"
   ]
  },
  {
   "cell_type": "code",
   "execution_count": 19,
   "id": "b6a215fc",
   "metadata": {},
   "outputs": [
    {
     "name": "stdout",
     "output_type": "stream",
     "text": [
      "Prompt Lengths: Min=0, Max=295, Mean=22.180583333333335\n"
     ]
    },
    {
     "data": {
      "text/plain": [
       "<matplotlib.legend.Legend at 0x2928b6790>"
      ]
     },
     "execution_count": 19,
     "metadata": {},
     "output_type": "execute_result"
    },
    {
     "data": {
      "image/png": "[encoded data removed]",
      "text/plain": [
       "<Figure size 1200x600 with 1 Axes>"
      ]
     },
     "metadata": {
      "image/png": {
       "height": 505,
       "width": 995
      }
     },
     "output_type": "display_data"
    }
   ],
   "source": [
    "prompt_lengths = [len(example['prompt']) for example in list_data_dict]\n",
    "\n",
    "# 길이 분포에 대한 기본 통계 정보 출력\n",
    "print(f\"Prompt Lengths: Min={min(prompt_lengths)}, Max={max(prompt_lengths)}, Mean={sum(prompt_lengths)/len(prompt_lengths)}\")\n",
    "\n",
    "plt.figure(figsize=(12, 6))\n",
    "plt.hist(prompt_lengths, bins=50, color='y', label='Prompt Lengths', alpha=0.7)\n",
    "plt.vlines(max(prompt_lengths), 3000, 0, colors='r', linestyles='--', label='Max Length')\n",
    "plt.vlines(sum(prompt_lengths)/len(prompt_lengths), 3000, 0, colors='g', linestyles='--', label='Mean Length')\n",
    "plt.legend()"
   ]
  },
  {
   "cell_type": "markdown",
   "id": "4f012d0a",
   "metadata": {},
   "source": [
    "# 2. Supervised Fine-Tuning"
   ]
  },
  {
   "cell_type": "markdown",
   "id": "e6835d88",
   "metadata": {},
   "source": [
    "### 2-1. SFT (skt/ko-gpt-trinity-1.2B-v0.5를 instruction dataset으로 SFT를 진행)"
   ]
  },
  {
   "cell_type": "code",
   "execution_count": 3,
   "id": "226b9e9b",
   "metadata": {},
   "outputs": [],
   "source": [
    "PYTORCH_ENABLE_MPS_FALLBACK=1"
   ]
  },
  {
   "cell_type": "code",
   "execution_count": 4,
   "id": "d9eccab2",
   "metadata": {},
   "outputs": [
    {
     "ename": "RuntimeError",
     "evalue": "Failed to import transformers.pipelines because of the following error (look up to see its traceback):\ncannot import name 'LRScheduler' from 'torch.optim.lr_scheduler' (/Users/kenny_jung/Library/Python/3.9/lib/python/site-packages/torch/optim/lr_scheduler.py)",
     "output_type": "error",
     "traceback": [
      "\u001b[0;31m---------------------------------------------------------------------------\u001b[0m",
      "\u001b[0;31mImportError\u001b[0m                               Traceback (most recent call last)",
      "File \u001b[0;32m~/Library/Python/3.9/lib/python/site-packages/transformers/utils/import_utils.py:1472\u001b[0m, in \u001b[0;36m_LazyModule._get_module\u001b[0;34m(self, module_name)\u001b[0m\n\u001b[1;32m   1471\u001b[0m \u001b[38;5;28;01mtry\u001b[39;00m:\n\u001b[0;32m-> 1472\u001b[0m     \u001b[38;5;28;01mreturn\u001b[39;00m \u001b[43mimportlib\u001b[49m\u001b[38;5;241;43m.\u001b[39;49m\u001b[43mimport_module\u001b[49m\u001b[43m(\u001b[49m\u001b[38;5;124;43m\"\u001b[39;49m\u001b[38;5;124;43m.\u001b[39;49m\u001b[38;5;124;43m\"\u001b[39;49m\u001b[43m \u001b[49m\u001b[38;5;241;43m+\u001b[39;49m\u001b[43m \u001b[49m\u001b[43mmodule_name\u001b[49m\u001b[43m,\u001b[49m\u001b[43m \u001b[49m\u001b[38;5;28;43mself\u001b[39;49m\u001b[38;5;241;43m.\u001b[39;49m\u001b[38;5;18;43m__name__\u001b[39;49m\u001b[43m)\u001b[49m\n\u001b[1;32m   1473\u001b[0m \u001b[38;5;28;01mexcept\u001b[39;00m \u001b[38;5;167;01mException\u001b[39;00m \u001b[38;5;28;01mas\u001b[39;00m e:\n",
      "File \u001b[0;32m/Library/Developer/CommandLineTools/Library/Frameworks/Python3.framework/Versions/3.9/lib/python3.9/importlib/__init__.py:127\u001b[0m, in \u001b[0;36mimport_module\u001b[0;34m(name, package)\u001b[0m\n\u001b[1;32m    126\u001b[0m         level \u001b[38;5;241m+\u001b[39m\u001b[38;5;241m=\u001b[39m \u001b[38;5;241m1\u001b[39m\n\u001b[0;32m--> 127\u001b[0m \u001b[38;5;28;01mreturn\u001b[39;00m \u001b[43m_bootstrap\u001b[49m\u001b[38;5;241;43m.\u001b[39;49m\u001b[43m_gcd_import\u001b[49m\u001b[43m(\u001b[49m\u001b[43mname\u001b[49m\u001b[43m[\u001b[49m\u001b[43mlevel\u001b[49m\u001b[43m:\u001b[49m\u001b[43m]\u001b[49m\u001b[43m,\u001b[49m\u001b[43m \u001b[49m\u001b[43mpackage\u001b[49m\u001b[43m,\u001b[49m\u001b[43m \u001b[49m\u001b[43mlevel\u001b[49m\u001b[43m)\u001b[49m\n",
      "File \u001b[0;32m<frozen importlib._bootstrap>:1030\u001b[0m, in \u001b[0;36m_gcd_import\u001b[0;34m(name, package, level)\u001b[0m\n",
      "File \u001b[0;32m<frozen importlib._bootstrap>:1007\u001b[0m, in \u001b[0;36m_find_and_load\u001b[0;34m(name, import_)\u001b[0m\n",
      "File \u001b[0;32m<frozen importlib._bootstrap>:986\u001b[0m, in \u001b[0;36m_find_and_load_unlocked\u001b[0;34m(name, import_)\u001b[0m\n",
      "File \u001b[0;32m<frozen importlib._bootstrap>:680\u001b[0m, in \u001b[0;36m_load_unlocked\u001b[0;34m(spec)\u001b[0m\n",
      "File \u001b[0;32m<frozen importlib._bootstrap_external>:850\u001b[0m, in \u001b[0;36mexec_module\u001b[0;34m(self, module)\u001b[0m\n",
      "File \u001b[0;32m<frozen importlib._bootstrap>:228\u001b[0m, in \u001b[0;36m_call_with_frames_removed\u001b[0;34m(f, *args, **kwds)\u001b[0m\n",
      "File \u001b[0;32m~/Library/Python/3.9/lib/python/site-packages/transformers/pipelines/__init__.py:47\u001b[0m\n\u001b[1;32m     33\u001b[0m \u001b[38;5;28;01mfrom\u001b[39;00m \u001b[38;5;21;01m.\u001b[39;00m\u001b[38;5;21;01m.\u001b[39;00m\u001b[38;5;21;01mutils\u001b[39;00m \u001b[38;5;28;01mimport\u001b[39;00m (\n\u001b[1;32m     34\u001b[0m     CONFIG_NAME,\n\u001b[1;32m     35\u001b[0m     HUGGINGFACE_CO_RESOLVE_ENDPOINT,\n\u001b[0;32m   (...)\u001b[0m\n\u001b[1;32m     45\u001b[0m     logging,\n\u001b[1;32m     46\u001b[0m )\n\u001b[0;32m---> 47\u001b[0m \u001b[38;5;28;01mfrom\u001b[39;00m \u001b[38;5;21;01m.\u001b[39;00m\u001b[38;5;21;01maudio_classification\u001b[39;00m \u001b[38;5;28;01mimport\u001b[39;00m AudioClassificationPipeline\n\u001b[1;32m     48\u001b[0m \u001b[38;5;28;01mfrom\u001b[39;00m \u001b[38;5;21;01m.\u001b[39;00m\u001b[38;5;21;01mautomatic_speech_recognition\u001b[39;00m \u001b[38;5;28;01mimport\u001b[39;00m AutomaticSpeechRecognitionPipeline\n",
      "File \u001b[0;32m~/Library/Python/3.9/lib/python/site-packages/transformers/pipelines/audio_classification.py:21\u001b[0m\n\u001b[1;32m     20\u001b[0m \u001b[38;5;28;01mfrom\u001b[39;00m \u001b[38;5;21;01m.\u001b[39;00m\u001b[38;5;21;01m.\u001b[39;00m\u001b[38;5;21;01mutils\u001b[39;00m \u001b[38;5;28;01mimport\u001b[39;00m add_end_docstrings, is_torch_available, is_torchaudio_available, logging\n\u001b[0;32m---> 21\u001b[0m \u001b[38;5;28;01mfrom\u001b[39;00m \u001b[38;5;21;01m.\u001b[39;00m\u001b[38;5;21;01mbase\u001b[39;00m \u001b[38;5;28;01mimport\u001b[39;00m Pipeline, build_pipeline_init_args\n\u001b[1;32m     24\u001b[0m \u001b[38;5;28;01mif\u001b[39;00m is_torch_available():\n",
      "File \u001b[0;32m~/Library/Python/3.9/lib/python/site-packages/transformers/pipelines/base.py:34\u001b[0m\n\u001b[1;32m     33\u001b[0m \u001b[38;5;28;01mfrom\u001b[39;00m \u001b[38;5;21;01m.\u001b[39;00m\u001b[38;5;21;01m.\u001b[39;00m\u001b[38;5;21;01mimage_processing_utils\u001b[39;00m \u001b[38;5;28;01mimport\u001b[39;00m BaseImageProcessor\n\u001b[0;32m---> 34\u001b[0m \u001b[38;5;28;01mfrom\u001b[39;00m \u001b[38;5;21;01m.\u001b[39;00m\u001b[38;5;21;01m.\u001b[39;00m\u001b[38;5;21;01mmodelcard\u001b[39;00m \u001b[38;5;28;01mimport\u001b[39;00m ModelCard\n\u001b[1;32m     35\u001b[0m \u001b[38;5;28;01mfrom\u001b[39;00m \u001b[38;5;21;01m.\u001b[39;00m\u001b[38;5;21;01m.\u001b[39;00m\u001b[38;5;21;01mmodels\u001b[39;00m\u001b[38;5;21;01m.\u001b[39;00m\u001b[38;5;21;01mauto\u001b[39;00m\u001b[38;5;21;01m.\u001b[39;00m\u001b[38;5;21;01mconfiguration_auto\u001b[39;00m \u001b[38;5;28;01mimport\u001b[39;00m AutoConfig\n",
      "File \u001b[0;32m~/Library/Python/3.9/lib/python/site-packages/transformers/modelcard.py:48\u001b[0m\n\u001b[1;32m     32\u001b[0m \u001b[38;5;28;01mfrom\u001b[39;00m \u001b[38;5;21;01m.\u001b[39;00m\u001b[38;5;21;01mmodels\u001b[39;00m\u001b[38;5;21;01m.\u001b[39;00m\u001b[38;5;21;01mauto\u001b[39;00m\u001b[38;5;21;01m.\u001b[39;00m\u001b[38;5;21;01mmodeling_auto\u001b[39;00m \u001b[38;5;28;01mimport\u001b[39;00m (\n\u001b[1;32m     33\u001b[0m     MODEL_FOR_AUDIO_CLASSIFICATION_MAPPING_NAMES,\n\u001b[1;32m     34\u001b[0m     MODEL_FOR_CAUSAL_LM_MAPPING_NAMES,\n\u001b[0;32m   (...)\u001b[0m\n\u001b[1;32m     46\u001b[0m     MODEL_FOR_ZERO_SHOT_IMAGE_CLASSIFICATION_MAPPING_NAMES,\n\u001b[1;32m     47\u001b[0m )\n\u001b[0;32m---> 48\u001b[0m \u001b[38;5;28;01mfrom\u001b[39;00m \u001b[38;5;21;01m.\u001b[39;00m\u001b[38;5;21;01mtraining_args\u001b[39;00m \u001b[38;5;28;01mimport\u001b[39;00m ParallelMode\n\u001b[1;32m     49\u001b[0m \u001b[38;5;28;01mfrom\u001b[39;00m \u001b[38;5;21;01m.\u001b[39;00m\u001b[38;5;21;01mutils\u001b[39;00m \u001b[38;5;28;01mimport\u001b[39;00m (\n\u001b[1;32m     50\u001b[0m     MODEL_CARD_NAME,\n\u001b[1;32m     51\u001b[0m     cached_file,\n\u001b[0;32m   (...)\u001b[0m\n\u001b[1;32m     57\u001b[0m     logging,\n\u001b[1;32m     58\u001b[0m )\n",
      "File \u001b[0;32m~/Library/Python/3.9/lib/python/site-packages/transformers/training_args.py:75\u001b[0m\n\u001b[1;32m     73\u001b[0m     \u001b[38;5;28;01mfrom\u001b[39;00m \u001b[38;5;21;01maccelerate\u001b[39;00m\u001b[38;5;21;01m.\u001b[39;00m\u001b[38;5;21;01mutils\u001b[39;00m \u001b[38;5;28;01mimport\u001b[39;00m DistributedType\n\u001b[0;32m---> 75\u001b[0m     \u001b[38;5;28;01mfrom\u001b[39;00m \u001b[38;5;21;01m.\u001b[39;00m\u001b[38;5;21;01mtrainer_pt_utils\u001b[39;00m \u001b[38;5;28;01mimport\u001b[39;00m AcceleratorConfig\n\u001b[1;32m     77\u001b[0m \u001b[38;5;28;01mif\u001b[39;00m is_torch_xla_available():\n",
      "File \u001b[0;32m~/Library/Python/3.9/lib/python/site-packages/transformers/trainer_pt_utils.py:37\u001b[0m\n\u001b[1;32m     36\u001b[0m \u001b[38;5;28;01mfrom\u001b[39;00m \u001b[38;5;21;01mtorch\u001b[39;00m \u001b[38;5;28;01mimport\u001b[39;00m nn\n\u001b[0;32m---> 37\u001b[0m \u001b[38;5;28;01mfrom\u001b[39;00m \u001b[38;5;21;01mtorch\u001b[39;00m\u001b[38;5;21;01m.\u001b[39;00m\u001b[38;5;21;01moptim\u001b[39;00m\u001b[38;5;21;01m.\u001b[39;00m\u001b[38;5;21;01mlr_scheduler\u001b[39;00m \u001b[38;5;28;01mimport\u001b[39;00m LRScheduler\n\u001b[1;32m     38\u001b[0m \u001b[38;5;28;01mfrom\u001b[39;00m \u001b[38;5;21;01mtorch\u001b[39;00m\u001b[38;5;21;01m.\u001b[39;00m\u001b[38;5;21;01mutils\u001b[39;00m\u001b[38;5;21;01m.\u001b[39;00m\u001b[38;5;21;01mdata\u001b[39;00m \u001b[38;5;28;01mimport\u001b[39;00m Dataset, IterableDataset, RandomSampler, Sampler\n",
      "\u001b[0;31mImportError\u001b[0m: cannot import name 'LRScheduler' from 'torch.optim.lr_scheduler' (/Users/kenny_jung/Library/Python/3.9/lib/python/site-packages/torch/optim/lr_scheduler.py)",
      "\nThe above exception was the direct cause of the following exception:\n",
      "\u001b[0;31mRuntimeError\u001b[0m                              Traceback (most recent call last)",
      "Cell \u001b[0;32mIn[4], line 9\u001b[0m\n\u001b[1;32m      7\u001b[0m \u001b[38;5;28;01mfrom\u001b[39;00m \u001b[38;5;21;01mdatasets\u001b[39;00m \u001b[38;5;28;01mimport\u001b[39;00m load_dataset\n\u001b[1;32m      8\u001b[0m \u001b[38;5;28;01mimport\u001b[39;00m \u001b[38;5;21;01mtransformers\u001b[39;00m\n\u001b[0;32m----> 9\u001b[0m \u001b[38;5;28;01mfrom\u001b[39;00m \u001b[38;5;21;01mtransformers\u001b[39;00m \u001b[38;5;28;01mimport\u001b[39;00m AutoTokenizer, AutoModelForCausalLM, pipeline\n\u001b[1;32m     10\u001b[0m \u001b[38;5;28;01mfrom\u001b[39;00m \u001b[38;5;21;01mtransformers\u001b[39;00m \u001b[38;5;28;01mimport\u001b[39;00m Trainer, TrainingArguments\n\u001b[1;32m     11\u001b[0m \u001b[38;5;28;01mfrom\u001b[39;00m \u001b[38;5;21;01mcopy\u001b[39;00m \u001b[38;5;28;01mimport\u001b[39;00m deepcopy\n",
      "File \u001b[0;32m<frozen importlib._bootstrap>:1055\u001b[0m, in \u001b[0;36m_handle_fromlist\u001b[0;34m(module, fromlist, import_, recursive)\u001b[0m\n",
      "File \u001b[0;32m~/Library/Python/3.9/lib/python/site-packages/transformers/utils/import_utils.py:1462\u001b[0m, in \u001b[0;36m_LazyModule.__getattr__\u001b[0;34m(self, name)\u001b[0m\n\u001b[1;32m   1460\u001b[0m     value \u001b[38;5;241m=\u001b[39m \u001b[38;5;28mself\u001b[39m\u001b[38;5;241m.\u001b[39m_get_module(name)\n\u001b[1;32m   1461\u001b[0m \u001b[38;5;28;01melif\u001b[39;00m name \u001b[38;5;129;01min\u001b[39;00m \u001b[38;5;28mself\u001b[39m\u001b[38;5;241m.\u001b[39m_class_to_module\u001b[38;5;241m.\u001b[39mkeys():\n\u001b[0;32m-> 1462\u001b[0m     module \u001b[38;5;241m=\u001b[39m \u001b[38;5;28;43mself\u001b[39;49m\u001b[38;5;241;43m.\u001b[39;49m\u001b[43m_get_module\u001b[49m\u001b[43m(\u001b[49m\u001b[38;5;28;43mself\u001b[39;49m\u001b[38;5;241;43m.\u001b[39;49m\u001b[43m_class_to_module\u001b[49m\u001b[43m[\u001b[49m\u001b[43mname\u001b[49m\u001b[43m]\u001b[49m\u001b[43m)\u001b[49m\n\u001b[1;32m   1463\u001b[0m     value \u001b[38;5;241m=\u001b[39m \u001b[38;5;28mgetattr\u001b[39m(module, name)\n\u001b[1;32m   1464\u001b[0m \u001b[38;5;28;01melse\u001b[39;00m:\n",
      "File \u001b[0;32m~/Library/Python/3.9/lib/python/site-packages/transformers/utils/import_utils.py:1474\u001b[0m, in \u001b[0;36m_LazyModule._get_module\u001b[0;34m(self, module_name)\u001b[0m\n\u001b[1;32m   1472\u001b[0m     \u001b[38;5;28;01mreturn\u001b[39;00m importlib\u001b[38;5;241m.\u001b[39mimport_module(\u001b[38;5;124m\"\u001b[39m\u001b[38;5;124m.\u001b[39m\u001b[38;5;124m\"\u001b[39m \u001b[38;5;241m+\u001b[39m module_name, \u001b[38;5;28mself\u001b[39m\u001b[38;5;241m.\u001b[39m\u001b[38;5;18m__name__\u001b[39m)\n\u001b[1;32m   1473\u001b[0m \u001b[38;5;28;01mexcept\u001b[39;00m \u001b[38;5;167;01mException\u001b[39;00m \u001b[38;5;28;01mas\u001b[39;00m e:\n\u001b[0;32m-> 1474\u001b[0m     \u001b[38;5;28;01mraise\u001b[39;00m \u001b[38;5;167;01mRuntimeError\u001b[39;00m(\n\u001b[1;32m   1475\u001b[0m         \u001b[38;5;124mf\u001b[39m\u001b[38;5;124m\"\u001b[39m\u001b[38;5;124mFailed to import \u001b[39m\u001b[38;5;132;01m{\u001b[39;00m\u001b[38;5;28mself\u001b[39m\u001b[38;5;241m.\u001b[39m\u001b[38;5;18m__name__\u001b[39m\u001b[38;5;132;01m}\u001b[39;00m\u001b[38;5;124m.\u001b[39m\u001b[38;5;132;01m{\u001b[39;00mmodule_name\u001b[38;5;132;01m}\u001b[39;00m\u001b[38;5;124m because of the following error (look up to see its\u001b[39m\u001b[38;5;124m\"\u001b[39m\n\u001b[1;32m   1476\u001b[0m         \u001b[38;5;124mf\u001b[39m\u001b[38;5;124m\"\u001b[39m\u001b[38;5;124m traceback):\u001b[39m\u001b[38;5;130;01m\\n\u001b[39;00m\u001b[38;5;132;01m{\u001b[39;00me\u001b[38;5;132;01m}\u001b[39;00m\u001b[38;5;124m\"\u001b[39m\n\u001b[1;32m   1477\u001b[0m     ) \u001b[38;5;28;01mfrom\u001b[39;00m \u001b[38;5;21;01me\u001b[39;00m\n",
      "\u001b[0;31mRuntimeError\u001b[0m: Failed to import transformers.pipelines because of the following error (look up to see its traceback):\ncannot import name 'LRScheduler' from 'torch.optim.lr_scheduler' (/Users/kenny_jung/Library/Python/3.9/lib/python/site-packages/torch/optim/lr_scheduler.py)"
     ]
    }
   ],
   "source": [
    "import os\n",
    "# os.environ[\"CUDA_VISIBLE_DEVICES\"] = \"0\"\n",
    "import torch\n",
    "import torch.nn as nn\n",
    "from torch.utils.data import Dataset\n",
    "from torch.optim import Adam\n",
    "from datasets import load_dataset\n",
    "import transformers\n",
    "from transformers import AutoTokenizer, AutoModelForCausalLM, pipeline\n",
    "from transformers import Trainer, TrainingArguments\n",
    "from copy import deepcopy\n",
    "import copy\n",
    "import logging\n",
    "import json\n",
    "from dataclasses import dataclass"
   ]
  },
  {
   "cell_type": "code",
   "execution_count": 21,
   "id": "8275a33c",
   "metadata": {},
   "outputs": [
    {
     "name": "stdout",
     "output_type": "stream",
     "text": [
      "Is MPS available: True\n",
      "PyTorch version: 1.13.1\n"
     ]
    }
   ],
   "source": [
    "import torch\n",
    "\n",
    "# MPS 사용 가능 여부 확인\n",
    "print(\"Is MPS available:\", torch.backends.mps.is_available())\n",
    "\n",
    "# PyTorch 버전 확인\n",
    "print(\"PyTorch version:\", torch.__version__)"
   ]
  },
  {
   "cell_type": "markdown",
   "id": "e6089aca",
   "metadata": {},
   "source": []
  },
  {
   "cell_type": "code",
   "execution_count": 22,
   "id": "e73e3c66",
   "metadata": {},
   "outputs": [
    {
     "name": "stdout",
     "output_type": "stream",
     "text": [
      "GPT2TokenizerFast(name_or_path='skt/ko-gpt-trinity-1.2B-v0.5', vocab_size=51200, model_max_length=512, is_fast=True, padding_side='right', truncation_side='right', special_tokens={'bos_token': '</s>', 'eos_token': '</s>', 'unk_token': '</s>', 'pad_token': '</s>', 'mask_token': '<mask>'}, clean_up_tokenization_spaces=True),  added_tokens_decoder={\n",
      "\t0: AddedToken(\"<s>\", rstrip=False, lstrip=False, single_word=False, normalized=False, special=True),\n",
      "\t1: AddedToken(\"</s>\", rstrip=False, lstrip=False, single_word=False, normalized=False, special=True),\n",
      "\t2: AddedToken(\"<usr>\", rstrip=False, lstrip=False, single_word=False, normalized=False, special=True),\n",
      "\t3: AddedToken(\"<pad>\", rstrip=False, lstrip=False, single_word=False, normalized=False, special=True),\n",
      "\t4: AddedToken(\"<sys>\", rstrip=False, lstrip=False, single_word=False, normalized=False, special=True),\n",
      "\t5: AddedToken(\"<unk>\", rstrip=False, lstrip=False, single_word=False, normalized=False, special=True),\n",
      "\t6: AddedToken(\"<mask>\", rstrip=False, lstrip=False, single_word=False, normalized=False, special=True),\n",
      "\t7: AddedToken(\"<d>\", rstrip=False, lstrip=False, single_word=False, normalized=False, special=True),\n",
      "\t8: AddedToken(\"</d>\", rstrip=False, lstrip=False, single_word=False, normalized=False, special=True),\n",
      "\t9: AddedToken(\"<unused0>\", rstrip=False, lstrip=False, single_word=False, normalized=False, special=True),\n",
      "\t10: AddedToken(\"<unused1>\", rstrip=False, lstrip=False, single_word=False, normalized=False, special=True),\n",
      "\t11: AddedToken(\"<unused2>\", rstrip=False, lstrip=False, single_word=False, normalized=False, special=True),\n",
      "\t12: AddedToken(\"<unused3>\", rstrip=False, lstrip=False, single_word=False, normalized=False, special=True),\n",
      "\t13: AddedToken(\"<unused4>\", rstrip=False, lstrip=False, single_word=False, normalized=False, special=True),\n",
      "\t14: AddedToken(\"<unused5>\", rstrip=False, lstrip=False, single_word=False, normalized=False, special=True),\n",
      "\t15: AddedToken(\"<unused6>\", rstrip=False, lstrip=False, single_word=False, normalized=False, special=True),\n",
      "\t16: AddedToken(\"<unused7>\", rstrip=False, lstrip=False, single_word=False, normalized=False, special=True),\n",
      "\t17: AddedToken(\"<unused8>\", rstrip=False, lstrip=False, single_word=False, normalized=False, special=True),\n",
      "\t18: AddedToken(\"<unused9>\", rstrip=False, lstrip=False, single_word=False, normalized=False, special=True),\n",
      "\t19: AddedToken(\"<unused10>\", rstrip=False, lstrip=False, single_word=False, normalized=False, special=True),\n",
      "\t20: AddedToken(\"<unused11>\", rstrip=False, lstrip=False, single_word=False, normalized=False, special=True),\n",
      "\t21: AddedToken(\"<unused12>\", rstrip=False, lstrip=False, single_word=False, normalized=False, special=True),\n",
      "\t22: AddedToken(\"<unused13>\", rstrip=False, lstrip=False, single_word=False, normalized=False, special=True),\n",
      "\t23: AddedToken(\"<unused14>\", rstrip=False, lstrip=False, single_word=False, normalized=False, special=True),\n",
      "\t24: AddedToken(\"<unused15>\", rstrip=False, lstrip=False, single_word=False, normalized=False, special=True),\n",
      "\t25: AddedToken(\"<unused16>\", rstrip=False, lstrip=False, single_word=False, normalized=False, special=True),\n",
      "\t26: AddedToken(\"<unused17>\", rstrip=False, lstrip=False, single_word=False, normalized=False, special=True),\n",
      "\t27: AddedToken(\"<unused18>\", rstrip=False, lstrip=False, single_word=False, normalized=False, special=True),\n",
      "\t28: AddedToken(\"<unused19>\", rstrip=False, lstrip=False, single_word=False, normalized=False, special=True),\n",
      "\t29: AddedToken(\"<unused20>\", rstrip=False, lstrip=False, single_word=False, normalized=False, special=True),\n",
      "\t30: AddedToken(\"<unused21>\", rstrip=False, lstrip=False, single_word=False, normalized=False, special=True),\n",
      "\t31: AddedToken(\"<unused22>\", rstrip=False, lstrip=False, single_word=False, normalized=False, special=True),\n",
      "\t32: AddedToken(\"<unused23>\", rstrip=False, lstrip=False, single_word=False, normalized=False, special=True),\n",
      "\t33: AddedToken(\"<unused24>\", rstrip=False, lstrip=False, single_word=False, normalized=False, special=True),\n",
      "\t34: AddedToken(\"<unused25>\", rstrip=False, lstrip=False, single_word=False, normalized=False, special=True),\n",
      "\t35: AddedToken(\"<unused26>\", rstrip=False, lstrip=False, single_word=False, normalized=False, special=True),\n",
      "\t36: AddedToken(\"<unused27>\", rstrip=False, lstrip=False, single_word=False, normalized=False, special=True),\n",
      "\t37: AddedToken(\"<unused28>\", rstrip=False, lstrip=False, single_word=False, normalized=False, special=True),\n",
      "\t38: AddedToken(\"<unused29>\", rstrip=False, lstrip=False, single_word=False, normalized=False, special=True),\n",
      "\t39: AddedToken(\"<unused30>\", rstrip=False, lstrip=False, single_word=False, normalized=False, special=True),\n",
      "\t40: AddedToken(\"<unused31>\", rstrip=False, lstrip=False, single_word=False, normalized=False, special=True),\n",
      "\t41: AddedToken(\"<unused32>\", rstrip=False, lstrip=False, single_word=False, normalized=False, special=True),\n",
      "\t42: AddedToken(\"<unused33>\", rstrip=False, lstrip=False, single_word=False, normalized=False, special=True),\n",
      "\t43: AddedToken(\"<unused34>\", rstrip=False, lstrip=False, single_word=False, normalized=False, special=True),\n",
      "\t44: AddedToken(\"<unused35>\", rstrip=False, lstrip=False, single_word=False, normalized=False, special=True),\n",
      "\t45: AddedToken(\"<unused36>\", rstrip=False, lstrip=False, single_word=False, normalized=False, special=True),\n",
      "\t46: AddedToken(\"<unused37>\", rstrip=False, lstrip=False, single_word=False, normalized=False, special=True),\n",
      "\t47: AddedToken(\"<unused38>\", rstrip=False, lstrip=False, single_word=False, normalized=False, special=True),\n",
      "\t48: AddedToken(\"<unused39>\", rstrip=False, lstrip=False, single_word=False, normalized=False, special=True),\n",
      "\t49: AddedToken(\"<unused40>\", rstrip=False, lstrip=False, single_word=False, normalized=False, special=True),\n",
      "\t50: AddedToken(\"<unused41>\", rstrip=False, lstrip=False, single_word=False, normalized=False, special=True),\n",
      "\t51: AddedToken(\"<unused42>\", rstrip=False, lstrip=False, single_word=False, normalized=False, special=True),\n",
      "\t52: AddedToken(\"<unused43>\", rstrip=False, lstrip=False, single_word=False, normalized=False, special=True),\n",
      "\t53: AddedToken(\"<unused44>\", rstrip=False, lstrip=False, single_word=False, normalized=False, special=True),\n",
      "\t54: AddedToken(\"<unused45>\", rstrip=False, lstrip=False, single_word=False, normalized=False, special=True),\n",
      "\t55: AddedToken(\"<unused46>\", rstrip=False, lstrip=False, single_word=False, normalized=False, special=True),\n",
      "\t56: AddedToken(\"<unused47>\", rstrip=False, lstrip=False, single_word=False, normalized=False, special=True),\n",
      "\t57: AddedToken(\"<unused48>\", rstrip=False, lstrip=False, single_word=False, normalized=False, special=True),\n",
      "\t58: AddedToken(\"<unused49>\", rstrip=False, lstrip=False, single_word=False, normalized=False, special=True),\n",
      "\t59: AddedToken(\"<unused50>\", rstrip=False, lstrip=False, single_word=False, normalized=False, special=True),\n",
      "\t60: AddedToken(\"<unused51>\", rstrip=False, lstrip=False, single_word=False, normalized=False, special=True),\n",
      "\t61: AddedToken(\"<unused52>\", rstrip=False, lstrip=False, single_word=False, normalized=False, special=True),\n",
      "\t62: AddedToken(\"<unused53>\", rstrip=False, lstrip=False, single_word=False, normalized=False, special=True),\n",
      "\t63: AddedToken(\"<unused54>\", rstrip=False, lstrip=False, single_word=False, normalized=False, special=True),\n",
      "\t64: AddedToken(\"<unused55>\", rstrip=False, lstrip=False, single_word=False, normalized=False, special=True),\n",
      "\t65: AddedToken(\"<unused56>\", rstrip=False, lstrip=False, single_word=False, normalized=False, special=True),\n",
      "\t66: AddedToken(\"<unused57>\", rstrip=False, lstrip=False, single_word=False, normalized=False, special=True),\n",
      "\t67: AddedToken(\"<unused58>\", rstrip=False, lstrip=False, single_word=False, normalized=False, special=True),\n",
      "\t68: AddedToken(\"<unused59>\", rstrip=False, lstrip=False, single_word=False, normalized=False, special=True),\n",
      "\t69: AddedToken(\"<unused60>\", rstrip=False, lstrip=False, single_word=False, normalized=False, special=True),\n",
      "\t70: AddedToken(\"<unused61>\", rstrip=False, lstrip=False, single_word=False, normalized=False, special=True),\n",
      "\t71: AddedToken(\"<unused62>\", rstrip=False, lstrip=False, single_word=False, normalized=False, special=True),\n",
      "\t72: AddedToken(\"<unused63>\", rstrip=False, lstrip=False, single_word=False, normalized=False, special=True),\n",
      "\t73: AddedToken(\"<unused64>\", rstrip=False, lstrip=False, single_word=False, normalized=False, special=True),\n",
      "\t74: AddedToken(\"<unused65>\", rstrip=False, lstrip=False, single_word=False, normalized=False, special=True),\n",
      "\t75: AddedToken(\"<unused66>\", rstrip=False, lstrip=False, single_word=False, normalized=False, special=True),\n",
      "\t76: AddedToken(\"<unused67>\", rstrip=False, lstrip=False, single_word=False, normalized=False, special=True),\n",
      "\t77: AddedToken(\"<unused68>\", rstrip=False, lstrip=False, single_word=False, normalized=False, special=True),\n",
      "\t78: AddedToken(\"<unused69>\", rstrip=False, lstrip=False, single_word=False, normalized=False, special=True),\n",
      "\t79: AddedToken(\"<unused70>\", rstrip=False, lstrip=False, single_word=False, normalized=False, special=True),\n",
      "\t80: AddedToken(\"<unused71>\", rstrip=False, lstrip=False, single_word=False, normalized=False, special=True),\n",
      "\t81: AddedToken(\"<unused72>\", rstrip=False, lstrip=False, single_word=False, normalized=False, special=True),\n",
      "\t82: AddedToken(\"<unused73>\", rstrip=False, lstrip=False, single_word=False, normalized=False, special=True),\n",
      "\t83: AddedToken(\"<unused74>\", rstrip=False, lstrip=False, single_word=False, normalized=False, special=True),\n",
      "\t84: AddedToken(\"<unused75>\", rstrip=False, lstrip=False, single_word=False, normalized=False, special=True),\n",
      "\t85: AddedToken(\"<unused76>\", rstrip=False, lstrip=False, single_word=False, normalized=False, special=True),\n",
      "\t86: AddedToken(\"<unused77>\", rstrip=False, lstrip=False, single_word=False, normalized=False, special=True),\n",
      "\t87: AddedToken(\"<unused78>\", rstrip=False, lstrip=False, single_word=False, normalized=False, special=True),\n",
      "\t88: AddedToken(\"<unused79>\", rstrip=False, lstrip=False, single_word=False, normalized=False, special=True),\n",
      "\t89: AddedToken(\"<unused80>\", rstrip=False, lstrip=False, single_word=False, normalized=False, special=True),\n",
      "\t90: AddedToken(\"<unused81>\", rstrip=False, lstrip=False, single_word=False, normalized=False, special=True),\n",
      "\t91: AddedToken(\"<unused82>\", rstrip=False, lstrip=False, single_word=False, normalized=False, special=True),\n",
      "\t92: AddedToken(\"<unused83>\", rstrip=False, lstrip=False, single_word=False, normalized=False, special=True),\n",
      "\t93: AddedToken(\"<unused84>\", rstrip=False, lstrip=False, single_word=False, normalized=False, special=True),\n",
      "\t94: AddedToken(\"<unused85>\", rstrip=False, lstrip=False, single_word=False, normalized=False, special=True),\n",
      "\t95: AddedToken(\"<unused86>\", rstrip=False, lstrip=False, single_word=False, normalized=False, special=True),\n",
      "\t96: AddedToken(\"<unused87>\", rstrip=False, lstrip=False, single_word=False, normalized=False, special=True),\n",
      "\t97: AddedToken(\"<unused88>\", rstrip=False, lstrip=False, single_word=False, normalized=False, special=True),\n",
      "\t98: AddedToken(\"<unused89>\", rstrip=False, lstrip=False, single_word=False, normalized=False, special=True),\n",
      "\t99: AddedToken(\"<unused90>\", rstrip=False, lstrip=False, single_word=False, normalized=False, special=True),\n",
      "\t100: AddedToken(\"<unused91>\", rstrip=False, lstrip=False, single_word=False, normalized=False, special=True),\n",
      "\t101: AddedToken(\"<unused92>\", rstrip=False, lstrip=False, single_word=False, normalized=False, special=True),\n",
      "\t102: AddedToken(\"<unused93>\", rstrip=False, lstrip=False, single_word=False, normalized=False, special=True),\n",
      "\t103: AddedToken(\"<unused94>\", rstrip=False, lstrip=False, single_word=False, normalized=False, special=True),\n",
      "\t104: AddedToken(\"<unused95>\", rstrip=False, lstrip=False, single_word=False, normalized=False, special=True),\n",
      "\t105: AddedToken(\"<unused96>\", rstrip=False, lstrip=False, single_word=False, normalized=False, special=True),\n",
      "\t106: AddedToken(\"<unused97>\", rstrip=False, lstrip=False, single_word=False, normalized=False, special=True),\n",
      "\t107: AddedToken(\"<unused98>\", rstrip=False, lstrip=False, single_word=False, normalized=False, special=True),\n",
      "\t108: AddedToken(\"<unused99>\", rstrip=False, lstrip=False, single_word=False, normalized=False, special=True),\n",
      "\t109: AddedToken(\":-)\", rstrip=False, lstrip=False, single_word=False, normalized=False, special=True),\n",
      "\t110: AddedToken(\":)\", rstrip=False, lstrip=False, single_word=False, normalized=False, special=True),\n",
      "\t111: AddedToken(\"-)\", rstrip=False, lstrip=False, single_word=False, normalized=False, special=True),\n",
      "\t112: AddedToken(\"(-:\", rstrip=False, lstrip=False, single_word=False, normalized=False, special=True),\n",
      "\t113: AddedToken(\"(:-)\", rstrip=False, lstrip=False, single_word=False, normalized=False, special=True),\n",
      "\t114: AddedToken(\"(:-(\", rstrip=False, lstrip=False, single_word=False, normalized=False, special=True),\n",
      "\t115: AddedToken(\"-}\", rstrip=False, lstrip=False, single_word=False, normalized=False, special=True),\n",
      "\t116: AddedToken(\"8-O\", rstrip=False, lstrip=False, single_word=False, normalized=False, special=True),\n",
      "\t117: AddedToken(\"'-)\", rstrip=False, lstrip=False, single_word=False, normalized=False, special=True),\n",
      "\t118: AddedToken(\":-#\", rstrip=False, lstrip=False, single_word=False, normalized=False, special=True),\n",
      "\t119: AddedToken(\":-*\", rstrip=False, lstrip=False, single_word=False, normalized=False, special=True),\n",
      "\t120: AddedToken(\":-/\", rstrip=False, lstrip=False, single_word=False, normalized=False, special=True),\n",
      "\t121: AddedToken(\":->\", rstrip=False, lstrip=False, single_word=False, normalized=False, special=True),\n",
      "\t122: AddedToken(\":-@\", rstrip=False, lstrip=False, single_word=False, normalized=False, special=True),\n",
      "\t123: AddedToken(\":-d\", rstrip=False, lstrip=False, single_word=False, normalized=False, special=True),\n",
      "\t124: AddedToken(\":-V\", rstrip=False, lstrip=False, single_word=False, normalized=False, special=True),\n",
      "\t125: AddedToken(\":-X\", rstrip=False, lstrip=False, single_word=False, normalized=False, special=True),\n",
      "\t126: AddedToken(\":-\\\", rstrip=False, lstrip=False, single_word=False, normalized=False, special=True),\n",
      "\t127: AddedToken(\":-]\", rstrip=False, lstrip=False, single_word=False, normalized=False, special=True),\n",
      "\t128: AddedToken(\";-(\", rstrip=False, lstrip=False, single_word=False, normalized=False, special=True),\n",
      "\t129: AddedToken(\">;->\", rstrip=False, lstrip=False, single_word=False, normalized=False, special=True),\n",
      "\t130: AddedToken(\";^)\", rstrip=False, lstrip=False, single_word=False, normalized=False, special=True),\n",
      "\t131: AddedToken(\"%-)\", rstrip=False, lstrip=False, single_word=False, normalized=False, special=True),\n",
      "\t132: AddedToken(\"):-(\", rstrip=False, lstrip=False, single_word=False, normalized=False, special=True),\n",
      "\t133: AddedToken(\"3:]\", rstrip=False, lstrip=False, single_word=False, normalized=False, special=True),\n",
      "\t134: AddedToken(\":-&\", rstrip=False, lstrip=False, single_word=False, normalized=False, special=True),\n",
      "\t135: AddedToken(\"8:-)\", rstrip=False, lstrip=False, single_word=False, normalized=False, special=True),\n",
      "\t136: AddedToken(\":-)8<\", rstrip=False, lstrip=False, single_word=False, normalized=False, special=True),\n",
      "\t137: AddedToken(\":-O\", rstrip=False, lstrip=False, single_word=False, normalized=False, special=True),\n",
      "\t138: AddedToken(\":-6\", rstrip=False, lstrip=False, single_word=False, normalized=False, special=True),\n",
      "\t139: AddedToken(\"+:-)\", rstrip=False, lstrip=False, single_word=False, normalized=False, special=True),\n",
      "\t140: AddedToken(\"O:-)\", rstrip=False, lstrip=False, single_word=False, normalized=False, special=True),\n",
      "\t141: AddedToken(\":-<\", rstrip=False, lstrip=False, single_word=False, normalized=False, special=True),\n",
      "\t142: AddedToken(\":-?\", rstrip=False, lstrip=False, single_word=False, normalized=False, special=True),\n",
      "\t143: AddedToken(\":-E\", rstrip=False, lstrip=False, single_word=False, normalized=False, special=True),\n",
      "\t144: AddedToken(\":-Q\", rstrip=False, lstrip=False, single_word=False, normalized=False, special=True),\n",
      "\t145: AddedToken(\":-}X\", rstrip=False, lstrip=False, single_word=False, normalized=False, special=True),\n",
      "\t146: AddedToken(\":-[\", rstrip=False, lstrip=False, single_word=False, normalized=False, special=True),\n",
      "\t147: AddedToken(\":-a\", rstrip=False, lstrip=False, single_word=False, normalized=False, special=True),\n",
      "\t148: AddedToken(\":-{\", rstrip=False, lstrip=False, single_word=False, normalized=False, special=True),\n",
      "\t149: AddedToken(\":-{}\", rstrip=False, lstrip=False, single_word=False, normalized=False, special=True),\n",
      "\t150: AddedToken(\":^)\", rstrip=False, lstrip=False, single_word=False, normalized=False, special=True),\n",
      "\t151: AddedToken(\"<:-l\", rstrip=False, lstrip=False, single_word=False, normalized=False, special=True),\n",
      "\t152: AddedToken(\":=)\", rstrip=False, lstrip=False, single_word=False, normalized=False, special=True),\n",
      "\t153: AddedToken(\">:->\", rstrip=False, lstrip=False, single_word=False, normalized=False, special=True),\n",
      "\t154: AddedToken(\">:-l\", rstrip=False, lstrip=False, single_word=False, normalized=False, special=True),\n",
      "\t155: AddedToken(\"@:-)\", rstrip=False, lstrip=False, single_word=False, normalized=False, special=True),\n",
      "\t156: AddedToken(\"@:-}\", rstrip=False, lstrip=False, single_word=False, normalized=False, special=True),\n",
      "\t157: AddedToken(\"C=:-)\", rstrip=False, lstrip=False, single_word=False, normalized=False, special=True),\n",
      "\t158: AddedToken(\"X:-)\", rstrip=False, lstrip=False, single_word=False, normalized=False, special=True),\n",
      "\t159: AddedToken(\"[:-)\", rstrip=False, lstrip=False, single_word=False, normalized=False, special=True),\n",
      "\t160: AddedToken(\"[:]\", rstrip=False, lstrip=False, single_word=False, normalized=False, special=True),\n",
      "\t161: AddedToken(\"{:-)\", rstrip=False, lstrip=False, single_word=False, normalized=False, special=True),\n",
      "\t162: AddedToken(\"l^o\", rstrip=False, lstrip=False, single_word=False, normalized=False, special=True),\n",
      "\t163: AddedToken(\"}:^#)\", rstrip=False, lstrip=False, single_word=False, normalized=False, special=True),\n",
      "\t164: AddedToken(\":-(=)\", rstrip=False, lstrip=False, single_word=False, normalized=False, special=True),\n",
      "\t165: AddedToken(\"O-)\", rstrip=False, lstrip=False, single_word=False, normalized=False, special=True),\n",
      "\t166: AddedToken(\":-3\", rstrip=False, lstrip=False, single_word=False, normalized=False, special=True),\n",
      "\t167: AddedToken(\":=\", rstrip=False, lstrip=False, single_word=False, normalized=False, special=True),\n",
      "\t168: AddedToken(\":-\"\", rstrip=False, lstrip=False, single_word=False, normalized=False, special=True),\n",
      "\t169: AddedToken(\"P-(\", rstrip=False, lstrip=False, single_word=False, normalized=False, special=True),\n",
      "\t170: AddedToken(\"?-(\", rstrip=False, lstrip=False, single_word=False, normalized=False, special=True),\n",
      "\t171: AddedToken(\"d:-)\", rstrip=False, lstrip=False, single_word=False, normalized=False, special=True),\n",
      "\t172: AddedToken(\":8)\", rstrip=False, lstrip=False, single_word=False, normalized=False, special=True),\n",
      "\t173: AddedToken(\":-7\", rstrip=False, lstrip=False, single_word=False, normalized=False, special=True),\n",
      "\t174: AddedToken(\"):-)\", rstrip=False, lstrip=False, single_word=False, normalized=False, special=True),\n",
      "\t175: AddedToken(\":/\\)\", rstrip=False, lstrip=False, single_word=False, normalized=False, special=True),\n",
      "\t176: AddedToken(\"8(:-)\", rstrip=False, lstrip=False, single_word=False, normalized=False, special=True),\n",
      "\t177: AddedToken(\"([(\", rstrip=False, lstrip=False, single_word=False, normalized=False, special=True),\n",
      "\t178: AddedToken(\":-(*)\", rstrip=False, lstrip=False, single_word=False, normalized=False, special=True),\n",
      "\t179: AddedToken(\"&-l\", rstrip=False, lstrip=False, single_word=False, normalized=False, special=True),\n",
      "\t180: AddedToken(\":-e\", rstrip=False, lstrip=False, single_word=False, normalized=False, special=True),\n",
      "\t181: AddedToken(\":(\", rstrip=False, lstrip=False, single_word=False, normalized=False, special=True),\n",
      "\t182: AddedToken(\":,(\", rstrip=False, lstrip=False, single_word=False, normalized=False, special=True),\n",
      "\t183: AddedToken(\":-(\", rstrip=False, lstrip=False, single_word=False, normalized=False, special=True),\n",
      "\t184: AddedToken(\":-P\", rstrip=False, lstrip=False, single_word=False, normalized=False, special=True),\n",
      "\t185: AddedToken(\":-S\", rstrip=False, lstrip=False, single_word=False, normalized=False, special=True),\n",
      "\t186: AddedToken(\":-C\", rstrip=False, lstrip=False, single_word=False, normalized=False, special=True),\n",
      "\t187: AddedToken(\":-r\", rstrip=False, lstrip=False, single_word=False, normalized=False, special=True),\n",
      "\t188: AddedToken(\":-t\", rstrip=False, lstrip=False, single_word=False, normalized=False, special=True),\n",
      "\t189: AddedToken(\":-W\", rstrip=False, lstrip=False, single_word=False, normalized=False, special=True),\n",
      "\t190: AddedToken(\"X-(\", rstrip=False, lstrip=False, single_word=False, normalized=False, special=True),\n",
      "\t191: AddedToken(\"l-O\", rstrip=False, lstrip=False, single_word=False, normalized=False, special=True),\n",
      "\t192: AddedToken(\"l:-O\", rstrip=False, lstrip=False, single_word=False, normalized=False, special=True),\n",
      "\t193: AddedToken(\"$-)\", rstrip=False, lstrip=False, single_word=False, normalized=False, special=True),\n",
      "\t194: AddedToken(\":-!\", rstrip=False, lstrip=False, single_word=False, normalized=False, special=True),\n",
      "\t195: AddedToken(\":----}\", rstrip=False, lstrip=False, single_word=False, normalized=False, special=True),\n",
      "\t196: AddedToken(\"=:-)\", rstrip=False, lstrip=False, single_word=False, normalized=False, special=True),\n",
      "\t197: AddedToken(\"=:-(\", rstrip=False, lstrip=False, single_word=False, normalized=False, special=True),\n",
      "\t198: AddedToken(\"3:[\", rstrip=False, lstrip=False, single_word=False, normalized=False, special=True),\n",
      "\t199: AddedToken(\"8<:-)\", rstrip=False, lstrip=False, single_word=False, normalized=False, special=True),\n",
      "\t200: AddedToken(\":#)\", rstrip=False, lstrip=False, single_word=False, normalized=False, special=True),\n",
      "\t201: AddedToken(\"8-#\", rstrip=False, lstrip=False, single_word=False, normalized=False, special=True),\n",
      "\t202: AddedToken(\"B-)\", rstrip=False, lstrip=False, single_word=False, normalized=False, special=True),\n",
      "\t203: AddedToken(\"8-)\", rstrip=False, lstrip=False, single_word=False, normalized=False, special=True),\n",
      "\t204: AddedToken(\"|-(\", rstrip=False, lstrip=False, single_word=False, normalized=False, special=True),\n",
      "\t205: AddedToken(\"H-)\", rstrip=False, lstrip=False, single_word=False, normalized=False, special=True),\n",
      "\t206: AddedToken(\"]-I\", rstrip=False, lstrip=False, single_word=False, normalized=False, special=True),\n",
      "\t207: AddedToken(\"V^J\", rstrip=False, lstrip=False, single_word=False, normalized=False, special=True),\n",
      "\t208: AddedToken(\"+-(\", rstrip=False, lstrip=False, single_word=False, normalized=False, special=True),\n",
      "\t209: AddedToken(\"~:-P\", rstrip=False, lstrip=False, single_word=False, normalized=False, special=True),\n",
      "\t210: AddedToken(\"`'\", rstrip=False, lstrip=False, single_word=False, normalized=False, special=True),\n",
      "\t211: AddedToken(\"L-P\", rstrip=False, lstrip=False, single_word=False, normalized=False, special=True),\n",
      "\t212: AddedToken(\"BI\", rstrip=False, lstrip=False, single_word=False, normalized=False, special=True),\n",
      "\t213: AddedToken(\"O|\", rstrip=False, lstrip=False, single_word=False, normalized=False, special=True),\n",
      "\t214: AddedToken(\"^^\", rstrip=False, lstrip=False, single_word=False, normalized=False, special=True),\n",
      "\t215: AddedToken(\"ㅜㅜ\", rstrip=False, lstrip=False, single_word=False, normalized=False, special=True),\n",
      "\t216: AddedToken(\"ㅠㅠ\", rstrip=False, lstrip=False, single_word=False, normalized=False, special=True),\n",
      "\t217: AddedToken(\"ㅡㅡ\", rstrip=False, lstrip=False, single_word=False, normalized=False, special=True),\n",
      "\t218: AddedToken(\"😠\", rstrip=False, lstrip=False, single_word=False, normalized=False, special=True),\n",
      "\t219: AddedToken(\"👿\", rstrip=False, lstrip=False, single_word=False, normalized=False, special=True),\n",
      "\t220: AddedToken(\"😧\", rstrip=False, lstrip=False, single_word=False, normalized=False, special=True),\n",
      "\t221: AddedToken(\"😰\", rstrip=False, lstrip=False, single_word=False, normalized=False, special=True),\n",
      "\t222: AddedToken(\"😲\", rstrip=False, lstrip=False, single_word=False, normalized=False, special=True),\n",
      "\t223: AddedToken(\"😁\", rstrip=False, lstrip=False, single_word=False, normalized=False, special=True),\n",
      "\t224: AddedToken(\"🐻\", rstrip=False, lstrip=False, single_word=False, normalized=False, special=True),\n",
      "\t225: AddedToken(\"🐱\", rstrip=False, lstrip=False, single_word=False, normalized=False, special=True),\n",
      "\t226: AddedToken(\"😹\", rstrip=False, lstrip=False, single_word=False, normalized=False, special=True),\n",
      "\t227: AddedToken(\"😼\", rstrip=False, lstrip=False, single_word=False, normalized=False, special=True),\n",
      "\t228: AddedToken(\"🤡\", rstrip=False, lstrip=False, single_word=False, normalized=False, special=True),\n",
      "\t229: AddedToken(\"🥶\", rstrip=False, lstrip=False, single_word=False, normalized=False, special=True),\n",
      "\t230: AddedToken(\"😖\", rstrip=False, lstrip=False, single_word=False, normalized=False, special=True),\n",
      "\t231: AddedToken(\"😕\", rstrip=False, lstrip=False, single_word=False, normalized=False, special=True),\n",
      "\t232: AddedToken(\"🐮\", rstrip=False, lstrip=False, single_word=False, normalized=False, special=True),\n",
      "\t233: AddedToken(\"🤠\", rstrip=False, lstrip=False, single_word=False, normalized=False, special=True),\n",
      "\t234: AddedToken(\"😿\", rstrip=False, lstrip=False, single_word=False, normalized=False, special=True),\n",
      "\t235: AddedToken(\"😢\", rstrip=False, lstrip=False, single_word=False, normalized=False, special=True),\n",
      "\t236: AddedToken(\"😞\", rstrip=False, lstrip=False, single_word=False, normalized=False, special=True),\n",
      "\t237: AddedToken(\"😵\", rstrip=False, lstrip=False, single_word=False, normalized=False, special=True),\n",
      "\t238: AddedToken(\"🐶\", rstrip=False, lstrip=False, single_word=False, normalized=False, special=True),\n",
      "\t239: AddedToken(\"😓\", rstrip=False, lstrip=False, single_word=False, normalized=False, special=True),\n",
      "\t240: AddedToken(\"🐲\", rstrip=False, lstrip=False, single_word=False, normalized=False, special=True),\n",
      "\t241: AddedToken(\"🤤\", rstrip=False, lstrip=False, single_word=False, normalized=False, special=True),\n",
      "\t242: AddedToken(\"😑\", rstrip=False, lstrip=False, single_word=False, normalized=False, special=True),\n",
      "\t243: AddedToken(\"😘\", rstrip=False, lstrip=False, single_word=False, normalized=False, special=True),\n",
      "\t244: AddedToken(\"😋\", rstrip=False, lstrip=False, single_word=False, normalized=False, special=True),\n",
      "\t245: AddedToken(\"😱\", rstrip=False, lstrip=False, single_word=False, normalized=False, special=True),\n",
      "\t246: AddedToken(\"🤮\", rstrip=False, lstrip=False, single_word=False, normalized=False, special=True),\n",
      "\t247: AddedToken(\"🤭\", rstrip=False, lstrip=False, single_word=False, normalized=False, special=True),\n",
      "\t248: AddedToken(\"🤕\", rstrip=False, lstrip=False, single_word=False, normalized=False, special=True),\n",
      "\t249: AddedToken(\"😷\", rstrip=False, lstrip=False, single_word=False, normalized=False, special=True),\n",
      "\t250: AddedToken(\"🧐\", rstrip=False, lstrip=False, single_word=False, normalized=False, special=True),\n",
      "\t251: AddedToken(\"😮\", rstrip=False, lstrip=False, single_word=False, normalized=False, special=True),\n",
      "\t252: AddedToken(\"🤨\", rstrip=False, lstrip=False, single_word=False, normalized=False, special=True),\n",
      "\t253: AddedToken(\"🙄\", rstrip=False, lstrip=False, single_word=False, normalized=False, special=True),\n",
      "\t254: AddedToken(\"😤\", rstrip=False, lstrip=False, single_word=False, normalized=False, special=True),\n",
      "\t255: AddedToken(\"🤬\", rstrip=False, lstrip=False, single_word=False, normalized=False, special=True),\n",
      "\t256: AddedToken(\"😂\", rstrip=False, lstrip=False, single_word=False, normalized=False, special=True),\n",
      "\t257: AddedToken(\"🤒\", rstrip=False, lstrip=False, single_word=False, normalized=False, special=True),\n",
      "\t258: AddedToken(\"😛\", rstrip=False, lstrip=False, single_word=False, normalized=False, special=True),\n",
      "\t259: AddedToken(\"😶\", rstrip=False, lstrip=False, single_word=False, normalized=False, special=True),\n",
      "\t260: AddedToken(\"😨\", rstrip=False, lstrip=False, single_word=False, normalized=False, special=True),\n",
      "\t261: AddedToken(\"🌛\", rstrip=False, lstrip=False, single_word=False, normalized=False, special=True),\n",
      "\t262: AddedToken(\"😳\", rstrip=False, lstrip=False, single_word=False, normalized=False, special=True),\n",
      "\t263: AddedToken(\"🦊\", rstrip=False, lstrip=False, single_word=False, normalized=False, special=True),\n",
      "\t264: AddedToken(\"🐸\", rstrip=False, lstrip=False, single_word=False, normalized=False, special=True),\n",
      "\t265: AddedToken(\"☹\", rstrip=False, lstrip=False, single_word=False, normalized=False, special=True),\n",
      "\t266: AddedToken(\"☹️\", rstrip=False, lstrip=False, single_word=False, normalized=False, special=True),\n",
      "\t267: AddedToken(\"😦\", rstrip=False, lstrip=False, single_word=False, normalized=False, special=True),\n",
      "\t268: AddedToken(\"🌝\", rstrip=False, lstrip=False, single_word=False, normalized=False, special=True),\n",
      "\t269: AddedToken(\"😬\", rstrip=False, lstrip=False, single_word=False, normalized=False, special=True),\n",
      "\t270: AddedToken(\"😺\", rstrip=False, lstrip=False, single_word=False, normalized=False, special=True),\n",
      "\t271: AddedToken(\"😸\", rstrip=False, lstrip=False, single_word=False, normalized=False, special=True),\n",
      "\t272: AddedToken(\"😀\", rstrip=False, lstrip=False, single_word=False, normalized=False, special=True),\n",
      "\t273: AddedToken(\"😃\", rstrip=False, lstrip=False, single_word=False, normalized=False, special=True),\n",
      "\t274: AddedToken(\"😄\", rstrip=False, lstrip=False, single_word=False, normalized=False, special=True),\n",
      "\t275: AddedToken(\"😅\", rstrip=False, lstrip=False, single_word=False, normalized=False, special=True),\n",
      "\t276: AddedToken(\"😆\", rstrip=False, lstrip=False, single_word=False, normalized=False, special=True),\n",
      "\t277: AddedToken(\"🐹\", rstrip=False, lstrip=False, single_word=False, normalized=False, special=True),\n",
      "\t278: AddedToken(\"🐴\", rstrip=False, lstrip=False, single_word=False, normalized=False, special=True),\n",
      "\t279: AddedToken(\"🥵\", rstrip=False, lstrip=False, single_word=False, normalized=False, special=True),\n",
      "\t280: AddedToken(\"🤗\", rstrip=False, lstrip=False, single_word=False, normalized=False, special=True),\n",
      "\t281: AddedToken(\"😯\", rstrip=False, lstrip=False, single_word=False, normalized=False, special=True),\n",
      "\t282: AddedToken(\"😽\", rstrip=False, lstrip=False, single_word=False, normalized=False, special=True),\n",
      "\t283: AddedToken(\"😗\", rstrip=False, lstrip=False, single_word=False, normalized=False, special=True),\n",
      "\t284: AddedToken(\"😚\", rstrip=False, lstrip=False, single_word=False, normalized=False, special=True),\n",
      "\t285: AddedToken(\"😙\", rstrip=False, lstrip=False, single_word=False, normalized=False, special=True),\n",
      "\t286: AddedToken(\"🌜\", rstrip=False, lstrip=False, single_word=False, normalized=False, special=True),\n",
      "\t287: AddedToken(\"🦁\", rstrip=False, lstrip=False, single_word=False, normalized=False, special=True),\n",
      "\t288: AddedToken(\"😭\", rstrip=False, lstrip=False, single_word=False, normalized=False, special=True),\n",
      "\t289: AddedToken(\"🤥\", rstrip=False, lstrip=False, single_word=False, normalized=False, special=True),\n",
      "\t290: AddedToken(\"🤦🏿‍♂\", rstrip=False, lstrip=False, single_word=False, normalized=False, special=True),\n",
      "\t291: AddedToken(\"🤦🏻‍♂\", rstrip=False, lstrip=False, single_word=False, normalized=False, special=True),\n",
      "\t292: AddedToken(\"🤦🏾‍♂\", rstrip=False, lstrip=False, single_word=False, normalized=False, special=True),\n",
      "\t293: AddedToken(\"🤦🏼‍♂\", rstrip=False, lstrip=False, single_word=False, normalized=False, special=True),\n",
      "\t294: AddedToken(\"🤦🏽‍♂\", rstrip=False, lstrip=False, single_word=False, normalized=False, special=True),\n",
      "\t295: AddedToken(\"🤦‍♂\", rstrip=False, lstrip=False, single_word=False, normalized=False, special=True),\n",
      "\t296: AddedToken(\"🤦🏿‍♂️\", rstrip=False, lstrip=False, single_word=False, normalized=False, special=True),\n",
      "\t297: AddedToken(\"🤦🏻‍♂️\", rstrip=False, lstrip=False, single_word=False, normalized=False, special=True),\n",
      "\t298: AddedToken(\"🤦🏾‍♂️\", rstrip=False, lstrip=False, single_word=False, normalized=False, special=True),\n",
      "\t299: AddedToken(\"🤦🏼‍♂️\", rstrip=False, lstrip=False, single_word=False, normalized=False, special=True),\n",
      "\t300: AddedToken(\"🤦🏽‍♂️\", rstrip=False, lstrip=False, single_word=False, normalized=False, special=True),\n",
      "\t301: AddedToken(\"🤦‍♂️\", rstrip=False, lstrip=False, single_word=False, normalized=False, special=True),\n",
      "\t302: AddedToken(\"🤑\", rstrip=False, lstrip=False, single_word=False, normalized=False, special=True),\n",
      "\t303: AddedToken(\"🐵\", rstrip=False, lstrip=False, single_word=False, normalized=False, special=True),\n",
      "\t304: AddedToken(\"🐭\", rstrip=False, lstrip=False, single_word=False, normalized=False, special=True),\n",
      "\t305: AddedToken(\"🤢\", rstrip=False, lstrip=False, single_word=False, normalized=False, special=True),\n",
      "\t306: AddedToken(\"🤓\", rstrip=False, lstrip=False, single_word=False, normalized=False, special=True),\n",
      "\t307: AddedToken(\"😐\", rstrip=False, lstrip=False, single_word=False, normalized=False, special=True),\n",
      "\t308: AddedToken(\"🌚\", rstrip=False, lstrip=False, single_word=False, normalized=False, special=True),\n",
      "\t309: AddedToken(\"🐼\", rstrip=False, lstrip=False, single_word=False, normalized=False, special=True),\n",
      "\t310: AddedToken(\"🥳\", rstrip=False, lstrip=False, single_word=False, normalized=False, special=True),\n",
      "\t311: AddedToken(\"😔\", rstrip=False, lstrip=False, single_word=False, normalized=False, special=True),\n",
      "\t312: AddedToken(\"😣\", rstrip=False, lstrip=False, single_word=False, normalized=False, special=True),\n",
      "\t313: AddedToken(\"🤦\", rstrip=False, lstrip=False, single_word=False, normalized=False, special=True),\n",
      "\t314: AddedToken(\"🤦🏿\", rstrip=False, lstrip=False, single_word=False, normalized=False, special=True),\n",
      "\t315: AddedToken(\"🤦🏻\", rstrip=False, lstrip=False, single_word=False, normalized=False, special=True),\n",
      "\t316: AddedToken(\"🤦🏾\", rstrip=False, lstrip=False, single_word=False, normalized=False, special=True),\n",
      "\t317: AddedToken(\"🤦🏼\", rstrip=False, lstrip=False, single_word=False, normalized=False, special=True),\n",
      "\t318: AddedToken(\"🤦🏽\", rstrip=False, lstrip=False, single_word=False, normalized=False, special=True),\n",
      "\t319: AddedToken(\"🐷\", rstrip=False, lstrip=False, single_word=False, normalized=False, special=True),\n",
      "\t320: AddedToken(\"🥺\", rstrip=False, lstrip=False, single_word=False, normalized=False, special=True),\n",
      "\t321: AddedToken(\"😾\", rstrip=False, lstrip=False, single_word=False, normalized=False, special=True),\n",
      "\t322: AddedToken(\"😡\", rstrip=False, lstrip=False, single_word=False, normalized=False, special=True),\n",
      "\t323: AddedToken(\"🐰\", rstrip=False, lstrip=False, single_word=False, normalized=False, special=True),\n",
      "\t324: AddedToken(\"😌\", rstrip=False, lstrip=False, single_word=False, normalized=False, special=True),\n",
      "\t325: AddedToken(\"🤖\", rstrip=False, lstrip=False, single_word=False, normalized=False, special=True),\n",
      "\t326: AddedToken(\"😥\", rstrip=False, lstrip=False, single_word=False, normalized=False, special=True),\n",
      "\t327: AddedToken(\"🤫\", rstrip=False, lstrip=False, single_word=False, normalized=False, special=True),\n",
      "\t328: AddedToken(\"😴\", rstrip=False, lstrip=False, single_word=False, normalized=False, special=True),\n",
      "\t329: AddedToken(\"😪\", rstrip=False, lstrip=False, single_word=False, normalized=False, special=True),\n",
      "\t330: AddedToken(\"🙁\", rstrip=False, lstrip=False, single_word=False, normalized=False, special=True),\n",
      "\t331: AddedToken(\"🙂\", rstrip=False, lstrip=False, single_word=False, normalized=False, special=True),\n",
      "\t332: AddedToken(\"😻\", rstrip=False, lstrip=False, single_word=False, normalized=False, special=True),\n",
      "\t333: AddedToken(\"☺\", rstrip=False, lstrip=False, single_word=False, normalized=False, special=True),\n",
      "\t334: AddedToken(\"☺️\", rstrip=False, lstrip=False, single_word=False, normalized=False, special=True),\n",
      "\t335: AddedToken(\"🥰\", rstrip=False, lstrip=False, single_word=False, normalized=False, special=True),\n",
      "\t336: AddedToken(\"😇\", rstrip=False, lstrip=False, single_word=False, normalized=False, special=True),\n",
      "\t337: AddedToken(\"😍\", rstrip=False, lstrip=False, single_word=False, normalized=False, special=True),\n",
      "\t338: AddedToken(\"😈\", rstrip=False, lstrip=False, single_word=False, normalized=False, special=True),\n",
      "\t339: AddedToken(\"😊\", rstrip=False, lstrip=False, single_word=False, normalized=False, special=True),\n",
      "\t340: AddedToken(\"😎\", rstrip=False, lstrip=False, single_word=False, normalized=False, special=True),\n",
      "\t341: AddedToken(\"😏\", rstrip=False, lstrip=False, single_word=False, normalized=False, special=True),\n",
      "\t342: AddedToken(\"🤧\", rstrip=False, lstrip=False, single_word=False, normalized=False, special=True),\n",
      "\t343: AddedToken(\"😝\", rstrip=False, lstrip=False, single_word=False, normalized=False, special=True),\n",
      "\t344: AddedToken(\"🌞\", rstrip=False, lstrip=False, single_word=False, normalized=False, special=True),\n",
      "\t345: AddedToken(\"🤔\", rstrip=False, lstrip=False, single_word=False, normalized=False, special=True),\n",
      "\t346: AddedToken(\"🐯\", rstrip=False, lstrip=False, single_word=False, normalized=False, special=True),\n",
      "\t347: AddedToken(\"😫\", rstrip=False, lstrip=False, single_word=False, normalized=False, special=True),\n",
      "\t348: AddedToken(\"😒\", rstrip=False, lstrip=False, single_word=False, normalized=False, special=True),\n",
      "\t349: AddedToken(\"🦄\", rstrip=False, lstrip=False, single_word=False, normalized=False, special=True),\n",
      "\t350: AddedToken(\"🙃\", rstrip=False, lstrip=False, single_word=False, normalized=False, special=True),\n",
      "\t351: AddedToken(\"🙀\", rstrip=False, lstrip=False, single_word=False, normalized=False, special=True),\n",
      "\t352: AddedToken(\"😩\", rstrip=False, lstrip=False, single_word=False, normalized=False, special=True),\n",
      "\t353: AddedToken(\"🌬\", rstrip=False, lstrip=False, single_word=False, normalized=False, special=True),\n",
      "\t354: AddedToken(\"🌬️\", rstrip=False, lstrip=False, single_word=False, normalized=False, special=True),\n",
      "\t355: AddedToken(\"😉\", rstrip=False, lstrip=False, single_word=False, normalized=False, special=True),\n",
      "\t356: AddedToken(\"😜\", rstrip=False, lstrip=False, single_word=False, normalized=False, special=True),\n",
      "\t357: AddedToken(\"🐺\", rstrip=False, lstrip=False, single_word=False, normalized=False, special=True),\n",
      "\t358: AddedToken(\"🤦🏿‍♀\", rstrip=False, lstrip=False, single_word=False, normalized=False, special=True),\n",
      "\t359: AddedToken(\"🤦🏻‍♀\", rstrip=False, lstrip=False, single_word=False, normalized=False, special=True),\n",
      "\t360: AddedToken(\"🤦🏾‍♀\", rstrip=False, lstrip=False, single_word=False, normalized=False, special=True),\n",
      "\t361: AddedToken(\"🤦🏼‍♀\", rstrip=False, lstrip=False, single_word=False, normalized=False, special=True),\n",
      "\t362: AddedToken(\"🤦🏽‍♀\", rstrip=False, lstrip=False, single_word=False, normalized=False, special=True),\n",
      "\t363: AddedToken(\"🤦‍♀\", rstrip=False, lstrip=False, single_word=False, normalized=False, special=True),\n",
      "\t364: AddedToken(\"🤦🏿‍♀️\", rstrip=False, lstrip=False, single_word=False, normalized=False, special=True),\n",
      "\t365: AddedToken(\"🤦🏻‍♀️\", rstrip=False, lstrip=False, single_word=False, normalized=False, special=True),\n",
      "\t366: AddedToken(\"🤦🏾‍♀️\", rstrip=False, lstrip=False, single_word=False, normalized=False, special=True),\n",
      "\t367: AddedToken(\"🤦🏼‍♀️\", rstrip=False, lstrip=False, single_word=False, normalized=False, special=True),\n",
      "\t368: AddedToken(\"🤦🏽‍♀️\", rstrip=False, lstrip=False, single_word=False, normalized=False, special=True),\n",
      "\t369: AddedToken(\"🤦‍♀️\", rstrip=False, lstrip=False, single_word=False, normalized=False, special=True),\n",
      "\t370: AddedToken(\"🥴\", rstrip=False, lstrip=False, single_word=False, normalized=False, special=True),\n",
      "\t371: AddedToken(\"😟\", rstrip=False, lstrip=False, single_word=False, normalized=False, special=True),\n",
      "\t372: AddedToken(\"🥱\", rstrip=False, lstrip=False, single_word=False, normalized=False, special=True),\n",
      "\t373: AddedToken(\"🤪\", rstrip=False, lstrip=False, single_word=False, normalized=False, special=True),\n",
      "\t374: AddedToken(\"🤐\", rstrip=False, lstrip=False, single_word=False, normalized=False, special=True),\n",
      "}\n"
     ]
    }
   ],
   "source": [
    "# 모델과 토크나이저를 불러오겠습니다.\n",
    "model = AutoModelForCausalLM.from_pretrained('skt/ko-gpt-trinity-1.2B-v0.5')\n",
    "tokenizer = AutoTokenizer.from_pretrained(\n",
    "    'skt/ko-gpt-trinity-1.2B-v0.5', bos_token='</s>', eos_token='</s>', unk_token='</s>', pad_token='</s>',\n",
    "    padding_side=\"right\",\n",
    "    model_max_length=512,\n",
    ")\n",
    "\n",
    "print(tokenizer)"
   ]
  },
  {
   "cell_type": "code",
   "execution_count": 23,
   "id": "4dbd9b76",
   "metadata": {},
   "outputs": [],
   "source": [
    "# 모델 인퍼런스 단계에서 사용할 prompt 딕셔너리 템플릿과 SFT 데이터셋 클래스를 정의\n",
    "from typing import Optional, Dict, Sequence\n",
    "\n",
    "class SFT_dataset(Dataset):\n",
    "\n",
    "    def __init__(self, data_path_1_SFT: str, tokenizer: transformers.PreTrainedTokenizer, verbose=False):\n",
    "        super(SFT_dataset, self).__init__()\n",
    "        logging.warning(\"Loading data...\")\n",
    "\n",
    "        pattern_instruction = 'prompt'  # instruction\n",
    "        pattern_output = 'completion'  # response\n",
    "\n",
    "        with open(data_path_1_SFT, \"r\", encoding='utf-8-sig') as json_file:\n",
    "            list_data_dict = json.load(json_file)\n",
    "\n",
    "        PROMPT_DICT = {\n",
    "            \"prompt_input\": (\n",
    "                \"### Instruction(명령어):\\n{prompt}\\n\\n### Response(응답):\"\n",
    "            )\n",
    "        }\n",
    "\n",
    "        prompt_input = PROMPT_DICT[\"prompt_input\"]\n",
    "\n",
    "        sources = []\n",
    "        \n",
    "        for example in list_data_dict:\n",
    "            tmp = prompt_input.format_map(example)\n",
    "            sources.append(tmp)\n",
    "\n",
    "        targets = []\n",
    "        \n",
    "        for example in list_data_dict:\n",
    "            targets.append(f\"{example[pattern_output]}{tokenizer.eos_token}\")\n",
    "        examples = [s + t for s, t in zip(sources, targets)]\n",
    "\n",
    "        sources_tokenized = self._tokenize_fn(sources, tokenizer)  # source\n",
    "        examples_tokenized = self._tokenize_fn(examples, tokenizer)  # source + target\n",
    "\n",
    "        input_ids = examples_tokenized[\"input_ids\"]\n",
    "        labels = copy.deepcopy(input_ids)\n",
    "        \n",
    "        for label, source_len in zip(labels, sources_tokenized[\"input_ids_lens\"]):\n",
    "            label[:source_len] = -100\n",
    "\n",
    "        data_dict = dict(input_ids=input_ids, labels=labels)\n",
    "\n",
    "        self.input_ids = data_dict[\"input_ids\"]\n",
    "        self.labels = data_dict[\"labels\"]\n",
    "        logging.warning(\"Loading data done!!: %d\"%(len(self.labels)))\n",
    "\n",
    "\n",
    "    def _tokenize_fn(self, strings: Sequence[str], tokenizer: transformers.PreTrainedTokenizer) -> Dict:\n",
    "        tokenized_list = [\n",
    "            tokenizer(\n",
    "                text,\n",
    "                return_tensors=\"pt\",\n",
    "                padding=\"longest\",\n",
    "                max_length=tokenizer.model_max_length,\n",
    "                truncation=True,\n",
    "            )\n",
    "            for text in strings\n",
    "        ]\n",
    "        input_ids = labels = [tokenized.input_ids[0] for tokenized in tokenized_list]\n",
    "        input_ids_lens = labels_lens = [\n",
    "            tokenized.input_ids.ne(tokenizer.pad_token_id).sum().item() for tokenized in tokenized_list\n",
    "        ]\n",
    "        return dict(\n",
    "            input_ids=input_ids,\n",
    "            labels=labels,\n",
    "            input_ids_lens=input_ids_lens,\n",
    "            labels_lens=labels_lens,\n",
    "        )\n",
    "\n",
    "\n",
    "    def __len__(self):\n",
    "        return len(self.input_ids)\n",
    "\n",
    "\n",
    "    def __getitem__(self, i) -> Dict[str, torch.Tensor]:\n",
    "        return dict(input_ids=self.input_ids[i], labels=self.labels[i])"
   ]
  },
  {
   "cell_type": "code",
   "execution_count": 24,
   "id": "376b29e8",
   "metadata": {},
   "outputs": [],
   "source": [
    "@dataclass\n",
    "class DataCollatorForSupervisedDataset(object): \n",
    "\n",
    "    tokenizer: transformers.PreTrainedTokenizer\n",
    "\n",
    "    def __call__(self, instances: Sequence[Dict]) -> Dict[str, torch.Tensor]:\n",
    "        input_ids, labels = tuple([instance[key] for instance in instances] for key in (\"input_ids\", \"labels\"))\n",
    "        input_ids = torch.nn.utils.rnn.pad_sequence(\n",
    "            input_ids, batch_first=True, padding_value=self.tokenizer.pad_token_id\n",
    "        )\n",
    "        labels = torch.nn.utils.rnn.pad_sequence(labels, batch_first=True, padding_value= -100)\n",
    "        return dict(\n",
    "            input_ids=input_ids,\n",
    "            labels=labels,\n",
    "            attention_mask=input_ids.ne(self.tokenizer.pad_token_id),\n",
    "        )"
   ]
  },
  {
   "cell_type": "markdown",
   "id": "81cabc2d",
   "metadata": {},
   "source": [
    "### 2-2. 훈련셋을 만들고 data collator 인스턴스"
   ]
  },
  {
   "cell_type": "code",
   "execution_count": 25,
   "id": "8342f439",
   "metadata": {},
   "outputs": [
    {
     "name": "stderr",
     "output_type": "stream",
     "text": [
      "WARNING:root:Loading data...\n",
      "WARNING:root:Loading data done!!: 12000\n"
     ]
    },
    {
     "name": "stdout",
     "output_type": "stream",
     "text": [
      "input : tensor([30132, 42872, 33313, 30679, 40479, 39911,   384, 22509, 21921, 25372,\n",
      "          385, 31245, 27140, 25264, 29392, 43754, 38280, 30125, 30074, 19312,\n",
      "        30012, 33248, 39001, 30219, 31572, 30983, 30357,   376, 42872,   379,\n",
      "        46803,   456, 30303, 35353,   384, 25785, 20573, 37780,   383, 31845,\n",
      "        30374, 31225, 34090, 46180, 43754, 30702, 30305, 30074, 19312, 30012,\n",
      "        33248, 35150, 30300, 49009,     1])\n",
      "output: tensor([ -100,  -100,  -100,  -100,  -100,  -100,  -100,  -100,  -100,  -100,\n",
      "         -100,  -100,  -100,  -100,  -100,  -100,  -100,  -100,  -100,  -100,\n",
      "         -100,  -100,  -100,  -100,  -100,  -100,  -100,  -100,  -100,  -100,\n",
      "         -100,  -100,  -100,  -100,  -100,  -100,  -100,  -100,   383, 31845,\n",
      "        30374, 31225, 34090, 46180, 43754, 30702, 30305, 30074, 19312, 30012,\n",
      "        33248, 35150, 30300, 49009,     1])\n"
     ]
    }
   ],
   "source": [
    "train_dataset = SFT_dataset(data_path_1_SFT='/Users/kenny_jung/aiffel/data/KoChatGPT/data_kochatgpt/kochatgpt_1_SFT.jsonl', tokenizer=tokenizer)\n",
    "data_collator = DataCollatorForSupervisedDataset(tokenizer=tokenizer)\n",
    "\n",
    "print('input : %s'%train_dataset.input_ids[100])\n",
    "print('output: %s'%train_dataset.labels[100])"
   ]
  },
  {
   "cell_type": "code",
   "execution_count": 26,
   "id": "7e2c2284",
   "metadata": {},
   "outputs": [
    {
     "name": "stdout",
     "output_type": "stream",
     "text": [
      "### Instruction(명령어):\n",
      "페르시아 전쟁은 누가 그리스를 침공한 전쟁이지\n",
      "\n",
      "### Response(응답):'?\\n\\n페르시아 제국이 그리스를 침공한 전쟁입니다.</s>\n"
     ]
    }
   ],
   "source": [
    "# train_dataset.input_ids[1000]를 디코딩\n",
    "print(tokenizer.decode(train_dataset.input_ids[1000]))"
   ]
  },
  {
   "cell_type": "markdown",
   "id": "5fa72735",
   "metadata": {},
   "source": [
    "### 2-3 Training arguments를 사용해 trainer 클래스를 정의"
   ]
  },
  {
   "cell_type": "code",
   "execution_count": 27,
   "id": "9da7472e",
   "metadata": {},
   "outputs": [
    {
     "name": "stderr",
     "output_type": "stream",
     "text": [
      "/Users/kenny_jung/Library/Python/3.9/lib/python/site-packages/accelerate/accelerator.py:432: FutureWarning: Passing the following arguments to `Accelerator` is deprecated and will be removed in version 1.0 of Accelerate: dict_keys(['dispatch_batches', 'split_batches', 'even_batches', 'use_seedable_sampler']). Please pass an `accelerate.DataLoaderConfiguration` instead: \n",
      "dataloader_config = DataLoaderConfiguration(dispatch_batches=None, split_batches=False, even_batches=True, use_seedable_sampler=True)\n",
      "  warnings.warn(\n"
     ]
    }
   ],
   "source": [
    "training_args = TrainingArguments(\n",
    "    output_dir=\"/Users/kenny_jung/aiffel/data/KoChatGPT/test\",\n",
    "    overwrite_output_dir=True,\n",
    "    num_train_epochs=1,\n",
    "    per_device_train_batch_size=8,\n",
    "    per_device_eval_batch_size=8,\n",
    "    warmup_steps=5,\n",
    "    prediction_loss_only=True,\n",
    "    # fp16 = True\n",
    "    )\n",
    "trainer = Trainer(\n",
    "    model=model,\n",
    "    args=training_args,\n",
    "    data_collator=data_collator,\n",
    "    train_dataset=train_dataset\n",
    ")"
   ]
  },
  {
   "cell_type": "markdown",
   "id": "aa892044",
   "metadata": {},
   "source": [
    "### 2-4. SFT 훈련"
   ]
  },
  {
   "cell_type": "code",
   "execution_count": 30,
   "id": "63380f56",
   "metadata": {},
   "outputs": [
    {
     "ename": "AttributeError",
     "evalue": "module 'torch' has no attribute 'mps'",
     "output_type": "error",
     "traceback": [
      "\u001b[0;31m---------------------------------------------------------------------------\u001b[0m",
      "\u001b[0;31mAttributeError\u001b[0m                            Traceback (most recent call last)",
      "Cell \u001b[0;32mIn[30], line 1\u001b[0m\n\u001b[0;32m----> 1\u001b[0m \u001b[43mtrainer\u001b[49m\u001b[38;5;241;43m.\u001b[39;49m\u001b[43mtrain\u001b[49m\u001b[43m(\u001b[49m\u001b[43m)\u001b[49m\n\u001b[1;32m      2\u001b[0m model\u001b[38;5;241m.\u001b[39msave_pretrained(\u001b[38;5;124m'\u001b[39m\u001b[38;5;124m/Users/kenny_jung/aiffel/data/KoChatGPT/output_1_SFT\u001b[39m\u001b[38;5;124m'\u001b[39m)\n",
      "File \u001b[0;32m~/Library/Python/3.9/lib/python/site-packages/transformers/trainer.py:1624\u001b[0m, in \u001b[0;36mTrainer.train\u001b[0;34m(self, resume_from_checkpoint, trial, ignore_keys_for_eval, **kwargs)\u001b[0m\n\u001b[1;32m   1622\u001b[0m         hf_hub_utils\u001b[38;5;241m.\u001b[39menable_progress_bars()\n\u001b[1;32m   1623\u001b[0m \u001b[38;5;28;01melse\u001b[39;00m:\n\u001b[0;32m-> 1624\u001b[0m     \u001b[38;5;28;01mreturn\u001b[39;00m \u001b[43minner_training_loop\u001b[49m\u001b[43m(\u001b[49m\n\u001b[1;32m   1625\u001b[0m \u001b[43m        \u001b[49m\u001b[43margs\u001b[49m\u001b[38;5;241;43m=\u001b[39;49m\u001b[43margs\u001b[49m\u001b[43m,\u001b[49m\n\u001b[1;32m   1626\u001b[0m \u001b[43m        \u001b[49m\u001b[43mresume_from_checkpoint\u001b[49m\u001b[38;5;241;43m=\u001b[39;49m\u001b[43mresume_from_checkpoint\u001b[49m\u001b[43m,\u001b[49m\n\u001b[1;32m   1627\u001b[0m \u001b[43m        \u001b[49m\u001b[43mtrial\u001b[49m\u001b[38;5;241;43m=\u001b[39;49m\u001b[43mtrial\u001b[49m\u001b[43m,\u001b[49m\n\u001b[1;32m   1628\u001b[0m \u001b[43m        \u001b[49m\u001b[43mignore_keys_for_eval\u001b[49m\u001b[38;5;241;43m=\u001b[39;49m\u001b[43mignore_keys_for_eval\u001b[49m\u001b[43m,\u001b[49m\n\u001b[1;32m   1629\u001b[0m \u001b[43m    \u001b[49m\u001b[43m)\u001b[49m\n",
      "File \u001b[0;32m~/Library/Python/3.9/lib/python/site-packages/transformers/trainer.py:1634\u001b[0m, in \u001b[0;36mTrainer._inner_training_loop\u001b[0;34m(self, batch_size, args, resume_from_checkpoint, trial, ignore_keys_for_eval)\u001b[0m\n\u001b[1;32m   1631\u001b[0m \u001b[38;5;28;01mdef\u001b[39;00m \u001b[38;5;21m_inner_training_loop\u001b[39m(\n\u001b[1;32m   1632\u001b[0m     \u001b[38;5;28mself\u001b[39m, batch_size\u001b[38;5;241m=\u001b[39m\u001b[38;5;28;01mNone\u001b[39;00m, args\u001b[38;5;241m=\u001b[39m\u001b[38;5;28;01mNone\u001b[39;00m, resume_from_checkpoint\u001b[38;5;241m=\u001b[39m\u001b[38;5;28;01mNone\u001b[39;00m, trial\u001b[38;5;241m=\u001b[39m\u001b[38;5;28;01mNone\u001b[39;00m, ignore_keys_for_eval\u001b[38;5;241m=\u001b[39m\u001b[38;5;28;01mNone\u001b[39;00m\n\u001b[1;32m   1633\u001b[0m ):\n\u001b[0;32m-> 1634\u001b[0m     \u001b[38;5;28;43mself\u001b[39;49m\u001b[38;5;241;43m.\u001b[39;49m\u001b[43maccelerator\u001b[49m\u001b[38;5;241;43m.\u001b[39;49m\u001b[43mfree_memory\u001b[49m\u001b[43m(\u001b[49m\u001b[43m)\u001b[49m\n\u001b[1;32m   1635\u001b[0m     \u001b[38;5;28mself\u001b[39m\u001b[38;5;241m.\u001b[39m_train_batch_size \u001b[38;5;241m=\u001b[39m batch_size\n\u001b[1;32m   1636\u001b[0m     \u001b[38;5;28;01mif\u001b[39;00m \u001b[38;5;28mself\u001b[39m\u001b[38;5;241m.\u001b[39margs\u001b[38;5;241m.\u001b[39mauto_find_batch_size:\n",
      "File \u001b[0;32m~/Library/Python/3.9/lib/python/site-packages/accelerate/accelerator.py:3015\u001b[0m, in \u001b[0;36mAccelerator.free_memory\u001b[0;34m(self)\u001b[0m\n\u001b[1;32m   3013\u001b[0m \u001b[38;5;28mself\u001b[39m\u001b[38;5;241m.\u001b[39mdeepspeed_engine_wrapped \u001b[38;5;241m=\u001b[39m \u001b[38;5;28;01mNone\u001b[39;00m\n\u001b[1;32m   3014\u001b[0m \u001b[38;5;28mself\u001b[39m\u001b[38;5;241m.\u001b[39mstep \u001b[38;5;241m=\u001b[39m \u001b[38;5;241m0\u001b[39m\n\u001b[0;32m-> 3015\u001b[0m \u001b[43mrelease_memory\u001b[49m\u001b[43m(\u001b[49m\u001b[43m)\u001b[49m\n",
      "File \u001b[0;32m~/Library/Python/3.9/lib/python/site-packages/accelerate/utils/memory.py:61\u001b[0m, in \u001b[0;36mrelease_memory\u001b[0;34m(*objects)\u001b[0m\n\u001b[1;32m     59\u001b[0m     torch\u001b[38;5;241m.\u001b[39mnpu\u001b[38;5;241m.\u001b[39mempty_cache()\n\u001b[1;32m     60\u001b[0m \u001b[38;5;28;01melif\u001b[39;00m is_mps_available():\n\u001b[0;32m---> 61\u001b[0m     \u001b[43mtorch\u001b[49m\u001b[38;5;241;43m.\u001b[39;49m\u001b[43mmps\u001b[49m\u001b[38;5;241m.\u001b[39mempty_cache()\n\u001b[1;32m     62\u001b[0m \u001b[38;5;28;01melse\u001b[39;00m:\n\u001b[1;32m     63\u001b[0m     torch\u001b[38;5;241m.\u001b[39mcuda\u001b[38;5;241m.\u001b[39mempty_cache()\n",
      "\u001b[0;31mAttributeError\u001b[0m: module 'torch' has no attribute 'mps'"
     ]
    }
   ],
   "source": [
    "trainer.train()\n",
    "model.save_pretrained('/Users/kenny_jung/aiffel/data/KoChatGPT/output_1_SFT')"
   ]
  },
  {
   "cell_type": "code",
   "execution_count": 26,
   "id": "f4f4bc87",
   "metadata": {},
   "outputs": [
    {
     "name": "stderr",
     "output_type": "stream",
     "text": [
      "/opt/conda/lib/python3.9/site-packages/transformers/generation/utils.py:1219: UserWarning: You have modified the pretrained model configuration to control generation. This is a deprecated strategy to control generation and will be removed soon, in a future version. Please use a generation configuration file (see https://huggingface.co/docs/transformers/main_classes/text_generation)\n",
      "  warnings.warn(\n"
     ]
    },
    {
     "name": "stdout",
     "output_type": "stream",
     "text": [
      "\n",
      "### Instruction(명령어):\n",
      "불고기용 고기 한우에요?\n",
      "\n",
      "### Response(응답):'저는 인공지능 어시스턴트이기 때문에 불고기용 고기의 종류와 양에 대한 정보를 가지고 있지 않습니다. 하지만 일반적으로 불고기는 쇠고기와 함께 먹는 음식 중 하나입니다. 따라서 불고기를 먹을 수 있는 종류는 다양합니다. 예를 들어, 닭가슴살 스테이크, 오므라이스 샐러드 등이 있습니다.\n",
      "\n",
      "### Instruction(명령어):\n",
      "리처드 닉슨이 43대 부통령직을 수행한 년도는?\n",
      "\n",
      "### Response(응답):'리처드 닉슨은 42대 부통령직을 수행했습니다.作)作)은 \"리처드 닉슨\"이 41대 부통령을 수행한 년도를 가리키는 말입니다.作)는 \"리처드 닉슨\"이 40대 부통령을 맡았던 년도를 의미합니다.作은 \"리처드슨\"이 50대 부통령\n",
      "\n",
      "### Instruction(명령어):\n",
      "시카고 오헤어 국제공항은 어디에 있어?\n",
      "\n",
      "### Response(응답):'시카고 오 헤어 국제공항은 미국 캘리포니아주 샌프란시스코에 위치해 있습니다.子供共和國際空港)이라고 불립니다.子供公和国際空港이라는 뜻입니다.子供空和國際公港이라는 이름을 가진 항공사는 다음과 같습니다.\\n\\n1. 대한항공\n",
      "\n",
      "### Instruction(명령어):\n",
      "오늘 미세먼지 어때?\n",
      "\n",
      "### Response(응답):'저는 인공지능 챗봇으로써 미세먼지 정보를 알 수 없습니다. 미세먼지 예보를 확인해 보시는 것이 좋겠습니다.\\n\\n미세먼지 예보: 일반적으로 미세먼지는 주로 중국에서 발원하여 중국 전역으로 퍼져나가기 때문에 중국발 미세먼지가 유입될\n"
     ]
    }
   ],
   "source": [
    "# 허깅페이스의 pipleline 클래스를 사용하여 generator를 만들어\n",
    "generator = pipeline('text-generation', model='../aiffel/KoChatGPT/output_1_SFT', tokenizer=tokenizer)\n",
    "\n",
    "generation_args = dict(   \n",
    "    num_beams=4,\n",
    "    repetition_penalty=2.0,\n",
    "    no_repeat_ngram_size=4,\n",
    "    eos_token_id=375, # \\n   \n",
    "    max_new_tokens=64,\n",
    "    do_sample=True,\n",
    "    top_k=50,\n",
    "    early_stopping=True\n",
    ")\n",
    "\n",
    "PROMPT_DICT = {\n",
    "    \"prompt_input\": (\n",
    "        \"### Instruction(명령어):\\n{prompt}\\n\\n### Response(응답):\"\n",
    "    )\n",
    "}\n",
    "\n",
    "list_prompt = ['불고기용 고기 한우에요?',\n",
    "               '리처드 닉슨이 43대 부통령직을 수행한 년도는?',\n",
    "               '시카고 오헤어 국제공항은 어디에 있어?',\n",
    "               '오늘 미세먼지 어때?']\n",
    "\n",
    "list_prompt = [PROMPT_DICT['prompt_input'].format_map({'prompt' : tmp}) for tmp in list_prompt]\n",
    "\n",
    "list_result = generator(list_prompt, **generation_args)   \n",
    "for prompt, result in zip(list_prompt, list_result):\n",
    "    print()\n",
    "    print((result[0]['generated_text']))"
   ]
  },
  {
   "cell_type": "code",
   "execution_count": 74,
   "id": "b64b7309",
   "metadata": {},
   "outputs": [],
   "source": [
    "torch.cuda.empty_cache()"
   ]
  },
  {
   "cell_type": "markdown",
   "id": "5baf74a5",
   "metadata": {},
   "source": [
    "# 3. Reward Model"
   ]
  },
  {
   "cell_type": "code",
   "execution_count": 29,
   "id": "9552d72f",
   "metadata": {},
   "outputs": [],
   "source": [
    "import sys\n",
    "sys.path.append('../aiffel/KoChatGPT/colossalai_ChatGPT_230319')\n",
    "\n",
    "import os\n",
    "import json\n",
    "from typing import Optional\n",
    "import torch\n",
    "import torch.nn as nn\n",
    "from torch.optim import Adam\n",
    "from chatgpt.dataset import RewardDataset\n",
    "from chatgpt.models.base import RewardModel\n",
    "from chatgpt.trainer import RewardModelTrainer\n",
    "from chatgpt.trainer.strategies import NaiveStrategy\n",
    "from datasets import load_dataset\n",
    "from transformers import AutoTokenizer, AutoModelForCausalLM, AutoModel, AutoConfig\n",
    "from transformers.models.gpt2.configuration_gpt2 import GPT2Config\n",
    "from transformers.models.gpt2.modeling_gpt2 import GPT2Model\n",
    "import loralib as lora"
   ]
  },
  {
   "cell_type": "markdown",
   "id": "2efd9848",
   "metadata": {},
   "source": [
    "### 3-1. GPTRM_custom 이라는 이름으로 클래스를 선언"
   ]
  },
  {
   "cell_type": "code",
   "execution_count": 30,
   "id": "0fbb118c",
   "metadata": {},
   "outputs": [],
   "source": [
    "class GPTRM_custom(RewardModel):\n",
    "\n",
    "    def __init__(self,\n",
    "                 pretrained: Optional[str] = None,\n",
    "                 config: Optional[GPT2Config] = None,\n",
    "                 checkpoint: bool = False,\n",
    "                 lora_rank: int = 0,\n",
    "                 lora_train_bias: str = 'none',\n",
    "                 tokenizer=None) -> None:\n",
    "        if pretrained is not None:\n",
    "            model = GPT2Model.from_pretrained(pretrained)\n",
    "            model.resize_token_embeddings(len(tokenizer))\n",
    "        elif config is not None:\n",
    "            model = GPT2Model(config)\n",
    "        else:\n",
    "            model = GPT2Model(GPT2Config())\n",
    "        if checkpoint:\n",
    "            model.gradient_checkpointing_enable()\n",
    "\n",
    "        value_head = nn.Linear(model.config.n_embd, 1)\n",
    "        super().__init__(model, value_head, lora_rank, lora_train_bias)\n",
    "\n",
    "        if pretrained is not None:\n",
    "            self.model = model\n",
    "            self.pretrained = pretrained\n",
    "\n",
    "\n",
    "    def save_pretrained(self, dir):\n",
    "        if self.pretrained is not None:\n",
    "            self.model.save_pretrained(dir)"
   ]
  },
  {
   "cell_type": "code",
   "execution_count": 31,
   "id": "8244df65",
   "metadata": {},
   "outputs": [
    {
     "name": "stderr",
     "output_type": "stream",
     "text": [
      "Some weights of the model checkpoint at skt/kogpt2-base-v2 were not used when initializing GPT2Model: ['lm_head.weight']\n",
      "- This IS expected if you are initializing GPT2Model from the checkpoint of a model trained on another task or with another architecture (e.g. initializing a BertForSequenceClassification model from a BertForPreTraining model).\n",
      "- This IS NOT expected if you are initializing GPT2Model from the checkpoint of a model that you expect to be exactly identical (initializing a BertForSequenceClassification model from a BertForSequenceClassification model).\n"
     ]
    }
   ],
   "source": [
    "model = AutoModelForCausalLM.from_pretrained('skt/kogpt2-base-v2')\n",
    "tokenizer = AutoTokenizer.from_pretrained(\n",
    "    'skt/kogpt2-base-v2', bos_token='</s>', eos_token='</s>', unk_token='</s>', pad_token='</s>',\n",
    "    padding_side=\"right\",\n",
    "    model_max_length=512,\n",
    ")\n",
    "\n",
    "with NaiveStrategy().model_init_context():\n",
    "        model = GPTRM_custom(pretrained='skt/kogpt2-base-v2', lora_rank=0, tokenizer=tokenizer).cuda()"
   ]
  },
  {
   "cell_type": "code",
   "execution_count": 32,
   "id": "ac8b2219",
   "metadata": {},
   "outputs": [
    {
     "name": "stdout",
     "output_type": "stream",
     "text": [
      "before data num: 10220\n",
      "after  data num: 30660\n",
      "data example: \n",
      "{'prompt': '애플은 리사를 어떻게 처리했어', 'chosen': '애플이 누구인지 명확히 알 수 없어서, 리사가 누구인지와 어떤 상황에서 처리되었는지에 대한 추가적인 정보가 필요합니다. 따라서, 보다 정확한 답변을 제공할 수 없습니다.', 'rejected': '애플은 리사를 위해 고객 서비스 부서에서 고객 다양한 컴퓨터 관련 문제에 대해 응답하는 데 필요한 모든 지원을 제공했습니다. 사용자가 하드웨어 문제를 경험할 때, 전문가들은 필요한 수리(수리, 추가 부품 제공, 소프트웨어 업그레이드 등)을 제공해 드릴 수 있습니다. 또한, 사용자가 사용 방법 문제나 기타 문제를 경험할 때, 대화 상대로 사용자를 지원할 수 있는 전문 고객 서비스 직원들이 사용자에게 상담하고 도움을 주는 데 도움이 될 수 있는 정보를 제공합니다. 또한, 인터넷에서 제공되는 정보를 통해 문제를 해결하거나 고객 서비스 웹 사이트를 통해 자신의 문제를 진단할 수 있도록 하는 등 다양한 방법으로 리사를 처리해 왔습니다.'}\n"
     ]
    }
   ],
   "source": [
    "# RM을 훈련시킬 때 사용할 ranking dataset\n",
    "with open('../aiffel/KoChatGPT/data_kochatgpt/kochatgpt_2_RM.jsonl', \"r\", encoding='utf-8-sig') as json_file:\n",
    "    list_data_dict = json.load(json_file)\n",
    "\n",
    "total_data_ranking2chosen = []\n",
    "for tmp in list_data_dict:\n",
    "    one_data_ranking2chosen = []\n",
    "\n",
    "    data = {}\n",
    "    data['prompt'] = tmp['prompt']\n",
    "    if tmp['ranking'][0] < tmp['ranking'][1]:\n",
    "        data['chosen'] = tmp['completion_0']\n",
    "        data['rejected'] = tmp['completion_1']\n",
    "    else:\n",
    "        data['chosen'] = tmp['completion_1']\n",
    "        data['rejected'] = tmp['completion_0']\n",
    "    one_data_ranking2chosen.append(data)\n",
    "\n",
    "    data = {}\n",
    "    data['prompt'] = tmp['prompt']\n",
    "    if tmp['ranking'][0] < tmp['ranking'][2]:\n",
    "        data['chosen'] = tmp['completion_0']\n",
    "        data['rejected'] = tmp['completion_2']\n",
    "    else:\n",
    "        data['chosen'] = tmp['completion_2']\n",
    "        data['rejected'] = tmp['completion_0']\n",
    "    one_data_ranking2chosen.append(data)\n",
    "\n",
    "    data = {}\n",
    "    data['prompt'] = tmp['prompt']\n",
    "    if tmp['ranking'][1] < tmp['ranking'][2]:\n",
    "        data['chosen'] = tmp['completion_1']\n",
    "        data['rejected'] = tmp['completion_2']\n",
    "    else:\n",
    "        data['chosen'] = tmp['completion_2']\n",
    "        data['rejected'] = tmp['completion_1']\n",
    "    one_data_ranking2chosen.append(data)\n",
    "\n",
    "\n",
    "\n",
    "    total_data_ranking2chosen.extend(one_data_ranking2chosen)\n",
    "\n",
    "print('before data num: %d'%(len(list_data_dict)))\n",
    "print('after  data num: %d'%(len(total_data_ranking2chosen)))\n",
    "print('data example: \\n%s'%total_data_ranking2chosen[45])"
   ]
  },
  {
   "cell_type": "markdown",
   "id": "42cf8a23",
   "metadata": {},
   "source": [
    "### 3-2. ranking dataset을 shuffle한 후 훈련셋 생서"
   ]
  },
  {
   "cell_type": "code",
   "execution_count": 34,
   "id": "84b2d516",
   "metadata": {},
   "outputs": [
    {
     "name": "stdout",
     "output_type": "stream",
     "text": [
      "{'prompt': '반기문이 강하고 인간적인 지도자이며 한국 대통령으로 적합한 인물이라고 보도한 미국의 경제지는?', 'chosen': '해당 질문은 그 어떤 경제지도 답변을 하기 어려운 주관적인 내용이므로, 저는 답변드릴 수 없습니다.', 'rejected': '국내 공로는 국가에 대한 국가를 국획하는 것에 기계적으로 국가의 국가개인 국가국인 국가국을 국가의 국가국을 국가의 국가국을 국가의 국가국을 국가의 국가국을 국가국을 국가국을 국가국을 국가국을 국가국을 국가국을 국가국을 국가'}\n"
     ]
    }
   ],
   "source": [
    "import random\n",
    "random.seed(230319)\n",
    "random.shuffle(total_data_ranking2chosen)\n",
    "print(total_data_ranking2chosen[100])"
   ]
  },
  {
   "cell_type": "code",
   "execution_count": 35,
   "id": "fbf81726",
   "metadata": {},
   "outputs": [
    {
     "name": "stdout",
     "output_type": "stream",
     "text": [
      "1000\n",
      "200\n"
     ]
    },
    {
     "name": "stderr",
     "output_type": "stream",
     "text": [
      "100%|██████████| 1000/1000 [00:00<00:00, 1058.14it/s]\n",
      "100%|██████████| 200/200 [00:00<00:00, 937.81it/s]\n"
     ]
    }
   ],
   "source": [
    "train_data = total_data_ranking2chosen[:1000] \n",
    "eval_data = total_data_ranking2chosen[1000:1200]\n",
    "\n",
    "print(len(train_data))\n",
    "print(len(eval_data))\n",
    "\n",
    "train_dataset = RewardDataset(train_data, tokenizer, 512)\n",
    "eval_dataset = RewardDataset(eval_data, tokenizer, 512)"
   ]
  },
  {
   "cell_type": "code",
   "execution_count": 36,
   "id": "f61a3480",
   "metadata": {},
   "outputs": [
    {
     "name": "stdout",
     "output_type": "stream",
     "text": [
      "######################################################################\n",
      "## prompt ##\n",
      "10분에 얼마예요?\n",
      "######################################################################\n",
      "## chosen ##\n",
      "600원입니다.\n",
      "######################################################################\n",
      "## rejected ##\n",
      "위 한국의 의료법 국가와 국어를 국世제로서 국가한으로 한 국방을 하락하며, 그 국가는 국효과, 국어를 국효과적 국효과로서 한 국방을 하락하며, 그 국가는 국효과간 국효과로서 한 국방을 하락하며, 그 국가는 국효과간 국효과로서 한\n"
     ]
    }
   ],
   "source": [
    "idx = 1\n",
    "print('#'*70)\n",
    "print('## prompt ##')\n",
    "print(train_data[idx]['prompt'])\n",
    "print('#'*70)\n",
    "print('## chosen ##')\n",
    "print(train_data[idx]['chosen'])\n",
    "print('#'*70)\n",
    "print('## rejected ##')\n",
    "print(train_data[idx]['rejected'])"
   ]
  },
  {
   "cell_type": "markdown",
   "id": "0bda0bad",
   "metadata": {},
   "source": [
    "### 3-3. RM 학습"
   ]
  },
  {
   "cell_type": "code",
   "execution_count": 38,
   "id": "17107d90",
   "metadata": {},
   "outputs": [],
   "source": [
    "trainer = RewardModelTrainer(model=model,\n",
    "                             strategy=NaiveStrategy(),\n",
    "                             optim=Adam(model.parameters(), lr=5e-5),\n",
    "                             train_dataset=train_dataset,\n",
    "                             eval_dataset=eval_dataset,\n",
    "                             batch_size=4,\n",
    "                             max_epochs=1)"
   ]
  },
  {
   "cell_type": "code",
   "execution_count": 39,
   "id": "35257db9",
   "metadata": {},
   "outputs": [
    {
     "name": "stderr",
     "output_type": "stream",
     "text": [
      "Train epoch:   0%|          | 0/1 [00:00<?, ?it/s]\n",
      "Train step of epoch 0:   0%|          | 0/250 [00:00<?, ?it/s]\u001b[A\n",
      "Train step of epoch 0:   0%|          | 1/250 [00:00<03:34,  1.16it/s]\u001b[A\n",
      "Train step of epoch 0:   0%|          | 1/250 [00:00<03:34,  1.16it/s, loss=0.902]\u001b[A\n",
      "Train step of epoch 0:   1%|          | 2/250 [00:01<03:28,  1.19it/s, loss=0.902]\u001b[A\n",
      "Train step of epoch 0:   1%|          | 2/250 [00:01<03:28,  1.19it/s, loss=0.396]\u001b[A\n",
      "Train step of epoch 0:   1%|          | 3/250 [00:02<03:26,  1.20it/s, loss=0.396]\u001b[A\n",
      "Train step of epoch 0:   1%|          | 3/250 [00:02<03:26,  1.20it/s, loss=0.993]\u001b[A\n",
      "Train step of epoch 0:   2%|▏         | 4/250 [00:03<03:25,  1.20it/s, loss=0.993]\u001b[A\n",
      "Train step of epoch 0:   2%|▏         | 4/250 [00:03<03:25,  1.20it/s, loss=0.406]\u001b[A\n",
      "Train step of epoch 0:   2%|▏         | 5/250 [00:04<03:23,  1.20it/s, loss=0.406]\u001b[A\n",
      "Train step of epoch 0:   2%|▏         | 5/250 [00:04<03:23,  1.20it/s, loss=0.401]\u001b[A\n",
      "Train step of epoch 0:   2%|▏         | 6/250 [00:05<03:22,  1.20it/s, loss=0.401]\u001b[A\n",
      "Train step of epoch 0:   2%|▏         | 6/250 [00:05<03:22,  1.20it/s, loss=1.65] \u001b[A\n",
      "Train step of epoch 0:   3%|▎         | 7/250 [00:05<03:22,  1.20it/s, loss=1.65]\u001b[A\n",
      "Train step of epoch 0:   3%|▎         | 7/250 [00:05<03:22,  1.20it/s, loss=1.03]\u001b[A\n",
      "Train step of epoch 0:   3%|▎         | 8/250 [00:06<03:21,  1.20it/s, loss=1.03]\u001b[A\n",
      "Train step of epoch 0:   3%|▎         | 8/250 [00:06<03:21,  1.20it/s, loss=0.52]\u001b[A\n",
      "Train step of epoch 0:   4%|▎         | 9/250 [00:07<03:20,  1.20it/s, loss=0.52]\u001b[A\n",
      "Train step of epoch 0:   4%|▎         | 9/250 [00:07<03:20,  1.20it/s, loss=0.607]\u001b[A\n",
      "Train step of epoch 0:   4%|▍         | 10/250 [00:08<03:19,  1.20it/s, loss=0.607]\u001b[A\n",
      "Train step of epoch 0:   4%|▍         | 10/250 [00:08<03:19,  1.20it/s, loss=0.519]\u001b[A\n",
      "Train step of epoch 0:   4%|▍         | 11/250 [00:09<03:18,  1.20it/s, loss=0.519]\u001b[A\n",
      "Train step of epoch 0:   4%|▍         | 11/250 [00:09<03:18,  1.20it/s, loss=0.82] \u001b[A\n",
      "Train step of epoch 0:   5%|▍         | 12/250 [00:09<03:17,  1.20it/s, loss=0.82]\u001b[A\n",
      "Train step of epoch 0:   5%|▍         | 12/250 [00:10<03:17,  1.20it/s, loss=0.518]\u001b[A\n",
      "Train step of epoch 0:   5%|▌         | 13/250 [00:10<03:17,  1.20it/s, loss=0.518]\u001b[A\n",
      "Train step of epoch 0:   5%|▌         | 13/250 [00:10<03:17,  1.20it/s, loss=0.646]\u001b[A\n",
      "Train step of epoch 0:   6%|▌         | 14/250 [00:11<03:16,  1.20it/s, loss=0.646]\u001b[A\n",
      "Train step of epoch 0:   6%|▌         | 14/250 [00:11<03:16,  1.20it/s, loss=0.716]\u001b[A\n",
      "Train step of epoch 0:   6%|▌         | 15/250 [00:12<03:15,  1.20it/s, loss=0.716]\u001b[A\n",
      "Train step of epoch 0:   6%|▌         | 15/250 [00:12<03:15,  1.20it/s, loss=0.795]\u001b[A\n",
      "Train step of epoch 0:   6%|▋         | 16/250 [00:13<03:14,  1.20it/s, loss=0.795]\u001b[A\n",
      "Train step of epoch 0:   6%|▋         | 16/250 [00:13<03:14,  1.20it/s, loss=0.698]\u001b[A\n",
      "Train step of epoch 0:   7%|▋         | 17/250 [00:14<03:14,  1.20it/s, loss=0.698]\u001b[A\n",
      "Train step of epoch 0:   7%|▋         | 17/250 [00:14<03:14,  1.20it/s, loss=0.89] \u001b[A\n",
      "Train step of epoch 0:   7%|▋         | 18/250 [00:15<03:14,  1.20it/s, loss=0.89]\u001b[A\n",
      "Train step of epoch 0:   7%|▋         | 18/250 [00:15<03:14,  1.20it/s, loss=0.58]\u001b[A\n",
      "Train step of epoch 0:   8%|▊         | 19/250 [00:15<03:13,  1.19it/s, loss=0.58]\u001b[A\n",
      "Train step of epoch 0:   8%|▊         | 19/250 [00:15<03:13,  1.19it/s, loss=0.619]\u001b[A\n",
      "Train step of epoch 0:   8%|▊         | 20/250 [00:16<03:12,  1.19it/s, loss=0.619]\u001b[A\n",
      "Train step of epoch 0:   8%|▊         | 20/250 [00:16<03:12,  1.19it/s, loss=0.562]\u001b[A\n",
      "Train step of epoch 0:   8%|▊         | 21/250 [00:17<03:12,  1.19it/s, loss=0.562]\u001b[A\n",
      "Train step of epoch 0:   8%|▊         | 21/250 [00:17<03:12,  1.19it/s, loss=0.583]\u001b[A\n",
      "Train step of epoch 0:   9%|▉         | 22/250 [00:18<03:11,  1.19it/s, loss=0.583]\u001b[A\n",
      "Train step of epoch 0:   9%|▉         | 22/250 [00:18<03:11,  1.19it/s, loss=0.572]\u001b[A\n",
      "Train step of epoch 0:   9%|▉         | 23/250 [00:19<03:10,  1.19it/s, loss=0.572]\u001b[A\n",
      "Train step of epoch 0:   9%|▉         | 23/250 [00:19<03:10,  1.19it/s, loss=0.668]\u001b[A\n",
      "Train step of epoch 0:  10%|▉         | 24/250 [00:20<03:09,  1.19it/s, loss=0.668]\u001b[A\n",
      "Train step of epoch 0:  10%|▉         | 24/250 [00:20<03:09,  1.19it/s, loss=0.753]\u001b[A\n",
      "Train step of epoch 0:  10%|█         | 25/250 [00:20<03:08,  1.19it/s, loss=0.753]\u001b[A\n",
      "Train step of epoch 0:  10%|█         | 25/250 [00:20<03:08,  1.19it/s, loss=0.828]\u001b[A\n",
      "Train step of epoch 0:  10%|█         | 26/250 [00:21<03:08,  1.19it/s, loss=0.828]\u001b[A\n",
      "Train step of epoch 0:  10%|█         | 26/250 [00:21<03:08,  1.19it/s, loss=0.649]\u001b[A\n",
      "Train step of epoch 0:  11%|█         | 27/250 [00:22<03:07,  1.19it/s, loss=0.649]\u001b[A\n",
      "Train step of epoch 0:  11%|█         | 27/250 [00:22<03:07,  1.19it/s, loss=0.5]  \u001b[A\n",
      "Train step of epoch 0:  11%|█         | 28/250 [00:23<03:06,  1.19it/s, loss=0.5]\u001b[A\n",
      "Train step of epoch 0:  11%|█         | 28/250 [00:23<03:06,  1.19it/s, loss=0.959]\u001b[A\n",
      "Train step of epoch 0:  12%|█▏        | 29/250 [00:24<03:05,  1.19it/s, loss=0.959]\u001b[A\n",
      "Train step of epoch 0:  12%|█▏        | 29/250 [00:24<03:05,  1.19it/s, loss=0.558]\u001b[A\n",
      "Train step of epoch 0:  12%|█▏        | 30/250 [00:25<03:04,  1.19it/s, loss=0.558]\u001b[A\n",
      "Train step of epoch 0:  12%|█▏        | 30/250 [00:25<03:04,  1.19it/s, loss=0.714]\u001b[A\n",
      "Train step of epoch 0:  12%|█▏        | 31/250 [00:25<03:04,  1.19it/s, loss=0.714]\u001b[A\n",
      "Train step of epoch 0:  12%|█▏        | 31/250 [00:25<03:04,  1.19it/s, loss=0.883]\u001b[A\n",
      "Train step of epoch 0:  13%|█▎        | 32/250 [00:26<03:03,  1.19it/s, loss=0.883]\u001b[A\n",
      "Train step of epoch 0:  13%|█▎        | 32/250 [00:26<03:03,  1.19it/s, loss=0.663]\u001b[A\n",
      "Train step of epoch 0:  13%|█▎        | 33/250 [00:27<03:02,  1.19it/s, loss=0.663]\u001b[A\n",
      "Train step of epoch 0:  13%|█▎        | 33/250 [00:27<03:02,  1.19it/s, loss=0.659]\u001b[A\n",
      "Train step of epoch 0:  14%|█▎        | 34/250 [00:28<03:02,  1.19it/s, loss=0.659]\u001b[A\n",
      "Train step of epoch 0:  14%|█▎        | 34/250 [00:28<03:02,  1.19it/s, loss=0.588]\u001b[A\n",
      "Train step of epoch 0:  14%|█▍        | 35/250 [00:29<03:01,  1.19it/s, loss=0.588]\u001b[A\n",
      "Train step of epoch 0:  14%|█▍        | 35/250 [00:29<03:01,  1.19it/s, loss=0.62] \u001b[A\n",
      "Train step of epoch 0:  14%|█▍        | 36/250 [00:30<03:00,  1.18it/s, loss=0.62]\u001b[A\n",
      "Train step of epoch 0:  14%|█▍        | 36/250 [00:30<03:00,  1.18it/s, loss=0.562]\u001b[A\n",
      "Train step of epoch 0:  15%|█▍        | 37/250 [00:31<02:59,  1.18it/s, loss=0.562]\u001b[A\n",
      "Train step of epoch 0:  15%|█▍        | 37/250 [00:31<02:59,  1.18it/s, loss=0.688]\u001b[A\n",
      "Train step of epoch 0:  15%|█▌        | 38/250 [00:31<02:59,  1.18it/s, loss=0.688]\u001b[A\n",
      "Train step of epoch 0:  15%|█▌        | 38/250 [00:31<02:59,  1.18it/s, loss=0.57] \u001b[A\n",
      "Train step of epoch 0:  16%|█▌        | 39/250 [00:32<02:58,  1.18it/s, loss=0.57]\u001b[A\n",
      "Train step of epoch 0:  16%|█▌        | 39/250 [00:32<02:58,  1.18it/s, loss=0.629]\u001b[A\n",
      "Train step of epoch 0:  16%|█▌        | 40/250 [00:33<02:57,  1.18it/s, loss=0.629]\u001b[A\n",
      "Train step of epoch 0:  16%|█▌        | 40/250 [00:33<02:57,  1.18it/s, loss=0.638]\u001b[A\n",
      "Train step of epoch 0:  16%|█▋        | 41/250 [00:34<02:56,  1.18it/s, loss=0.638]\u001b[A\n",
      "Train step of epoch 0:  16%|█▋        | 41/250 [00:34<02:56,  1.18it/s, loss=0.646]\u001b[A\n",
      "Train step of epoch 0:  17%|█▋        | 42/250 [00:35<02:56,  1.18it/s, loss=0.646]\u001b[A\n",
      "Train step of epoch 0:  17%|█▋        | 42/250 [00:35<02:56,  1.18it/s, loss=0.821]\u001b[A\n",
      "Train step of epoch 0:  17%|█▋        | 43/250 [00:36<02:55,  1.18it/s, loss=0.821]\u001b[A\n",
      "Train step of epoch 0:  17%|█▋        | 43/250 [00:36<02:55,  1.18it/s, loss=0.689]\u001b[A\n",
      "Train step of epoch 0:  18%|█▊        | 44/250 [00:36<02:54,  1.18it/s, loss=0.689]\u001b[A\n",
      "Train step of epoch 0:  18%|█▊        | 44/250 [00:36<02:54,  1.18it/s, loss=0.581]\u001b[A\n",
      "Train step of epoch 0:  18%|█▊        | 45/250 [00:37<02:53,  1.18it/s, loss=0.581]\u001b[A\n",
      "Train step of epoch 0:  18%|█▊        | 45/250 [00:37<02:53,  1.18it/s, loss=0.676]\u001b[A\n",
      "Train step of epoch 0:  18%|█▊        | 46/250 [00:38<02:53,  1.18it/s, loss=0.676]\u001b[A\n",
      "Train step of epoch 0:  18%|█▊        | 46/250 [00:38<02:53,  1.18it/s, loss=0.691]\u001b[A\n",
      "Train step of epoch 0:  19%|█▉        | 47/250 [00:39<02:52,  1.18it/s, loss=0.691]\u001b[A\n",
      "Train step of epoch 0:  19%|█▉        | 47/250 [00:39<02:52,  1.18it/s, loss=0.714]\u001b[A\n",
      "Train step of epoch 0:  19%|█▉        | 48/250 [00:40<02:51,  1.18it/s, loss=0.714]\u001b[A\n",
      "Train step of epoch 0:  19%|█▉        | 48/250 [00:40<02:51,  1.18it/s, loss=0.422]\u001b[A\n",
      "Train step of epoch 0:  20%|█▉        | 49/250 [00:41<02:50,  1.18it/s, loss=0.422]\u001b[A\n",
      "Train step of epoch 0:  20%|█▉        | 49/250 [00:41<02:50,  1.18it/s, loss=0.64] \u001b[A\n",
      "Train step of epoch 0:  20%|██        | 50/250 [00:42<02:50,  1.18it/s, loss=0.64]\u001b[A\n",
      "Train step of epoch 0:  20%|██        | 50/250 [00:42<02:50,  1.18it/s, loss=0.448]\u001b[A\n",
      "Train step of epoch 0:  20%|██        | 51/250 [00:42<02:49,  1.18it/s, loss=0.448]\u001b[A\n",
      "Train step of epoch 0:  20%|██        | 51/250 [00:42<02:49,  1.18it/s, loss=0.447]\u001b[A\n",
      "Train step of epoch 0:  21%|██        | 52/250 [00:43<02:48,  1.18it/s, loss=0.447]\u001b[A\n",
      "Train step of epoch 0:  21%|██        | 52/250 [00:43<02:48,  1.18it/s, loss=0.367]\u001b[A\n",
      "Train step of epoch 0:  21%|██        | 53/250 [00:44<02:47,  1.17it/s, loss=0.367]\u001b[A\n",
      "Train step of epoch 0:  21%|██        | 53/250 [00:44<02:47,  1.17it/s, loss=1.57] \u001b[A\n",
      "Train step of epoch 0:  22%|██▏       | 54/250 [00:45<02:47,  1.17it/s, loss=1.57]\u001b[A\n",
      "Train step of epoch 0:  22%|██▏       | 54/250 [00:45<02:47,  1.17it/s, loss=0.809]\u001b[A\n",
      "Train step of epoch 0:  22%|██▏       | 55/250 [00:46<02:46,  1.17it/s, loss=0.809]\u001b[A\n",
      "Train step of epoch 0:  22%|██▏       | 55/250 [00:46<02:46,  1.17it/s, loss=0.578]\u001b[A\n",
      "Train step of epoch 0:  22%|██▏       | 56/250 [00:47<02:45,  1.17it/s, loss=0.578]\u001b[A\n",
      "Train step of epoch 0:  22%|██▏       | 56/250 [00:47<02:45,  1.17it/s, loss=0.83] \u001b[A\n",
      "Train step of epoch 0:  23%|██▎       | 57/250 [00:47<02:44,  1.17it/s, loss=0.83]\u001b[A\n",
      "Train step of epoch 0:  23%|██▎       | 57/250 [00:48<02:44,  1.17it/s, loss=0.561]\u001b[A\n",
      "Train step of epoch 0:  23%|██▎       | 58/250 [00:48<02:43,  1.17it/s, loss=0.561]\u001b[A\n",
      "Train step of epoch 0:  23%|██▎       | 58/250 [00:48<02:43,  1.17it/s, loss=0.375]\u001b[A\n",
      "Train step of epoch 0:  24%|██▎       | 59/250 [00:49<02:42,  1.17it/s, loss=0.375]\u001b[A\n",
      "Train step of epoch 0:  24%|██▎       | 59/250 [00:49<02:42,  1.17it/s, loss=0.745]\u001b[A\n",
      "Train step of epoch 0:  24%|██▍       | 60/250 [00:50<02:41,  1.17it/s, loss=0.745]\u001b[A\n",
      "Train step of epoch 0:  24%|██▍       | 60/250 [00:50<02:41,  1.17it/s, loss=0.567]\u001b[A\n",
      "Train step of epoch 0:  24%|██▍       | 61/250 [00:51<02:41,  1.17it/s, loss=0.567]\u001b[A\n",
      "Train step of epoch 0:  24%|██▍       | 61/250 [00:51<02:41,  1.17it/s, loss=0.563]\u001b[A\n",
      "Train step of epoch 0:  25%|██▍       | 62/250 [00:52<02:40,  1.17it/s, loss=0.563]\u001b[A\n",
      "Train step of epoch 0:  25%|██▍       | 62/250 [00:52<02:40,  1.17it/s, loss=0.714]\u001b[A\n",
      "Train step of epoch 0:  25%|██▌       | 63/250 [00:53<02:39,  1.17it/s, loss=0.714]\u001b[A\n",
      "Train step of epoch 0:  25%|██▌       | 63/250 [00:53<02:39,  1.17it/s, loss=0.97] \u001b[A\n",
      "Train step of epoch 0:  26%|██▌       | 64/250 [00:53<02:39,  1.17it/s, loss=0.97]\u001b[A\n",
      "Train step of epoch 0:  26%|██▌       | 64/250 [00:54<02:39,  1.17it/s, loss=0.812]\u001b[A\n",
      "Train step of epoch 0:  26%|██▌       | 65/250 [00:54<02:38,  1.17it/s, loss=0.812]\u001b[A\n",
      "Train step of epoch 0:  26%|██▌       | 65/250 [00:54<02:38,  1.17it/s, loss=0.804]\u001b[A\n",
      "Train step of epoch 0:  26%|██▋       | 66/250 [00:55<02:37,  1.17it/s, loss=0.804]\u001b[A\n",
      "Train step of epoch 0:  26%|██▋       | 66/250 [00:55<02:37,  1.17it/s, loss=0.434]\u001b[A\n",
      "Train step of epoch 0:  27%|██▋       | 67/250 [00:56<02:36,  1.17it/s, loss=0.434]\u001b[A\n",
      "Train step of epoch 0:  27%|██▋       | 67/250 [00:56<02:36,  1.17it/s, loss=0.598]\u001b[A\n",
      "Train step of epoch 0:  27%|██▋       | 68/250 [00:57<02:35,  1.17it/s, loss=0.598]\u001b[A\n",
      "Train step of epoch 0:  27%|██▋       | 68/250 [00:57<02:35,  1.17it/s, loss=0.526]\u001b[A\n",
      "Train step of epoch 0:  28%|██▊       | 69/250 [00:58<02:34,  1.17it/s, loss=0.526]\u001b[A\n",
      "Train step of epoch 0:  28%|██▊       | 69/250 [00:58<02:34,  1.17it/s, loss=0.561]\u001b[A\n",
      "Train step of epoch 0:  28%|██▊       | 70/250 [00:59<02:34,  1.17it/s, loss=0.561]\u001b[A\n",
      "Train step of epoch 0:  28%|██▊       | 70/250 [00:59<02:34,  1.17it/s, loss=0.664]\u001b[A\n",
      "Train step of epoch 0:  28%|██▊       | 71/250 [00:59<02:33,  1.17it/s, loss=0.664]\u001b[A\n",
      "Train step of epoch 0:  28%|██▊       | 71/250 [01:00<02:33,  1.17it/s, loss=0.626]\u001b[A\n",
      "Train step of epoch 0:  29%|██▉       | 72/250 [01:00<02:32,  1.16it/s, loss=0.626]\u001b[A\n",
      "Train step of epoch 0:  29%|██▉       | 72/250 [01:00<02:32,  1.16it/s, loss=0.681]\u001b[A\n",
      "Train step of epoch 0:  29%|██▉       | 73/250 [01:01<02:31,  1.16it/s, loss=0.681]\u001b[A\n",
      "Train step of epoch 0:  29%|██▉       | 73/250 [01:01<02:31,  1.16it/s, loss=0.636]\u001b[A\n",
      "Train step of epoch 0:  30%|██▉       | 74/250 [01:02<02:31,  1.16it/s, loss=0.636]\u001b[A\n",
      "Train step of epoch 0:  30%|██▉       | 74/250 [01:02<02:31,  1.16it/s, loss=0.636]\u001b[A\n",
      "Train step of epoch 0:  30%|███       | 75/250 [01:03<02:30,  1.16it/s, loss=0.636]\u001b[A\n",
      "Train step of epoch 0:  30%|███       | 75/250 [01:03<02:30,  1.16it/s, loss=0.562]\u001b[A\n",
      "Train step of epoch 0:  30%|███       | 76/250 [01:04<02:29,  1.16it/s, loss=0.562]\u001b[A\n",
      "Train step of epoch 0:  30%|███       | 76/250 [01:04<02:29,  1.16it/s, loss=0.605]\u001b[A\n",
      "Train step of epoch 0:  31%|███       | 77/250 [01:05<02:28,  1.16it/s, loss=0.605]\u001b[A\n",
      "Train step of epoch 0:  31%|███       | 77/250 [01:05<02:28,  1.16it/s, loss=1.03] \u001b[A\n",
      "Train step of epoch 0:  31%|███       | 78/250 [01:06<02:28,  1.16it/s, loss=1.03]\u001b[A\n",
      "Train step of epoch 0:  31%|███       | 78/250 [01:06<02:28,  1.16it/s, loss=0.463]\u001b[A\n",
      "Train step of epoch 0:  32%|███▏      | 79/250 [01:06<02:27,  1.16it/s, loss=0.463]\u001b[A\n",
      "Train step of epoch 0:  32%|███▏      | 79/250 [01:06<02:27,  1.16it/s, loss=0.363]\u001b[A\n",
      "Train step of epoch 0:  32%|███▏      | 80/250 [01:07<02:26,  1.16it/s, loss=0.363]\u001b[A\n",
      "Train step of epoch 0:  32%|███▏      | 80/250 [01:07<02:26,  1.16it/s, loss=0.393]\u001b[A\n",
      "Train step of epoch 0:  32%|███▏      | 81/250 [01:08<02:25,  1.16it/s, loss=0.393]\u001b[A\n",
      "Train step of epoch 0:  32%|███▏      | 81/250 [01:08<02:25,  1.16it/s, loss=0.713]\u001b[A\n",
      "Train step of epoch 0:  33%|███▎      | 82/250 [01:09<02:24,  1.16it/s, loss=0.713]\u001b[A\n",
      "Train step of epoch 0:  33%|███▎      | 82/250 [01:09<02:24,  1.16it/s, loss=0.662]\u001b[A\n",
      "Train step of epoch 0:  33%|███▎      | 83/250 [01:10<02:23,  1.16it/s, loss=0.662]\u001b[A\n",
      "Train step of epoch 0:  33%|███▎      | 83/250 [01:10<02:23,  1.16it/s, loss=0.731]\u001b[A\n",
      "Train step of epoch 0:  34%|███▎      | 84/250 [01:11<02:23,  1.16it/s, loss=0.731]\u001b[A\n",
      "Train step of epoch 0:  34%|███▎      | 84/250 [01:11<02:23,  1.16it/s, loss=0.899]\u001b[A\n",
      "Train step of epoch 0:  34%|███▍      | 85/250 [01:12<02:22,  1.16it/s, loss=0.899]\u001b[A\n",
      "Train step of epoch 0:  34%|███▍      | 85/250 [01:12<02:22,  1.16it/s, loss=0.437]\u001b[A\n",
      "Train step of epoch 0:  34%|███▍      | 86/250 [01:12<02:21,  1.16it/s, loss=0.437]\u001b[A\n",
      "Train step of epoch 0:  34%|███▍      | 86/250 [01:12<02:21,  1.16it/s, loss=0.579]\u001b[A\n",
      "Train step of epoch 0:  35%|███▍      | 87/250 [01:13<02:20,  1.16it/s, loss=0.579]\u001b[A\n",
      "Train step of epoch 0:  35%|███▍      | 87/250 [01:13<02:20,  1.16it/s, loss=0.425]\u001b[A\n",
      "Train step of epoch 0:  35%|███▌      | 88/250 [01:14<02:20,  1.16it/s, loss=0.425]\u001b[A\n",
      "Train step of epoch 0:  35%|███▌      | 88/250 [01:14<02:20,  1.16it/s, loss=0.625]\u001b[A\n",
      "Train step of epoch 0:  36%|███▌      | 89/250 [01:15<02:19,  1.16it/s, loss=0.625]\u001b[A\n",
      "Train step of epoch 0:  36%|███▌      | 89/250 [01:15<02:19,  1.16it/s, loss=0.603]\u001b[A\n",
      "Train step of epoch 0:  36%|███▌      | 90/250 [01:16<02:18,  1.16it/s, loss=0.603]\u001b[A\n",
      "Train step of epoch 0:  36%|███▌      | 90/250 [01:16<02:18,  1.16it/s, loss=0.69] \u001b[A\n",
      "Train step of epoch 0:  36%|███▋      | 91/250 [01:17<02:17,  1.16it/s, loss=0.69]\u001b[A\n",
      "Train step of epoch 0:  36%|███▋      | 91/250 [01:17<02:17,  1.16it/s, loss=0.749]\u001b[A\n",
      "Train step of epoch 0:  37%|███▋      | 92/250 [01:18<02:16,  1.16it/s, loss=0.749]\u001b[A\n",
      "Train step of epoch 0:  37%|███▋      | 92/250 [01:18<02:16,  1.16it/s, loss=1.18] \u001b[A\n",
      "Train step of epoch 0:  37%|███▋      | 93/250 [01:18<02:15,  1.16it/s, loss=1.18]\u001b[A\n",
      "Train step of epoch 0:  37%|███▋      | 93/250 [01:18<02:15,  1.16it/s, loss=0.552]\u001b[A\n",
      "Train step of epoch 0:  38%|███▊      | 94/250 [01:19<02:14,  1.16it/s, loss=0.552]\u001b[A\n",
      "Train step of epoch 0:  38%|███▊      | 94/250 [01:19<02:14,  1.16it/s, loss=0.443]\u001b[A\n",
      "Train step of epoch 0:  38%|███▊      | 95/250 [01:20<02:14,  1.16it/s, loss=0.443]\u001b[A\n",
      "Train step of epoch 0:  38%|███▊      | 95/250 [01:20<02:14,  1.16it/s, loss=0.752]\u001b[A\n",
      "Train step of epoch 0:  38%|███▊      | 96/250 [01:21<02:13,  1.15it/s, loss=0.752]\u001b[A\n",
      "Train step of epoch 0:  38%|███▊      | 96/250 [01:21<02:13,  1.15it/s, loss=0.597]\u001b[A\n",
      "Train step of epoch 0:  39%|███▉      | 97/250 [01:22<02:12,  1.15it/s, loss=0.597]\u001b[A\n",
      "Train step of epoch 0:  39%|███▉      | 97/250 [01:22<02:12,  1.15it/s, loss=0.348]\u001b[A\n",
      "Train step of epoch 0:  39%|███▉      | 98/250 [01:23<02:11,  1.15it/s, loss=0.348]\u001b[A\n",
      "Train step of epoch 0:  39%|███▉      | 98/250 [01:23<02:11,  1.15it/s, loss=0.687]\u001b[A\n",
      "Train step of epoch 0:  40%|███▉      | 99/250 [01:24<02:11,  1.15it/s, loss=0.687]\u001b[A\n",
      "Train step of epoch 0:  40%|███▉      | 99/250 [01:24<02:11,  1.15it/s, loss=0.322]\u001b[A\n",
      "Train step of epoch 0:  40%|████      | 100/250 [01:25<02:10,  1.15it/s, loss=0.322]\u001b[A\n",
      "Train step of epoch 0:  40%|████      | 100/250 [01:25<02:10,  1.15it/s, loss=0.519]\u001b[A\n",
      "Train step of epoch 0:  40%|████      | 101/250 [01:25<02:09,  1.15it/s, loss=0.519]\u001b[A\n",
      "Train step of epoch 0:  40%|████      | 101/250 [01:25<02:09,  1.15it/s, loss=0.54] \u001b[A\n",
      "Train step of epoch 0:  41%|████      | 102/250 [01:26<02:08,  1.15it/s, loss=0.54]\u001b[A\n",
      "Train step of epoch 0:  41%|████      | 102/250 [01:26<02:08,  1.15it/s, loss=0.409]\u001b[A\n",
      "Train step of epoch 0:  41%|████      | 103/250 [01:27<02:07,  1.15it/s, loss=0.409]\u001b[A\n",
      "Train step of epoch 0:  41%|████      | 103/250 [01:27<02:07,  1.15it/s, loss=0.712]\u001b[A\n",
      "Train step of epoch 0:  42%|████▏     | 104/250 [01:28<02:06,  1.15it/s, loss=0.712]\u001b[A\n",
      "Train step of epoch 0:  42%|████▏     | 104/250 [01:28<02:06,  1.15it/s, loss=1.33] \u001b[A\n",
      "Train step of epoch 0:  42%|████▏     | 105/250 [01:29<02:06,  1.15it/s, loss=1.33]\u001b[A\n",
      "Train step of epoch 0:  42%|████▏     | 105/250 [01:29<02:06,  1.15it/s, loss=0.64]\u001b[A\n",
      "Train step of epoch 0:  42%|████▏     | 106/250 [01:30<02:05,  1.15it/s, loss=0.64]\u001b[A\n",
      "Train step of epoch 0:  42%|████▏     | 106/250 [01:30<02:05,  1.15it/s, loss=0.54]\u001b[A\n",
      "Train step of epoch 0:  43%|████▎     | 107/250 [01:31<02:04,  1.15it/s, loss=0.54]\u001b[A\n",
      "Train step of epoch 0:  43%|████▎     | 107/250 [01:31<02:04,  1.15it/s, loss=0.579]\u001b[A\n",
      "Train step of epoch 0:  43%|████▎     | 108/250 [01:31<02:03,  1.15it/s, loss=0.579]\u001b[A\n",
      "Train step of epoch 0:  43%|████▎     | 108/250 [01:32<02:03,  1.15it/s, loss=0.484]\u001b[A\n",
      "Train step of epoch 0:  44%|████▎     | 109/250 [01:32<02:02,  1.15it/s, loss=0.484]\u001b[A\n",
      "Train step of epoch 0:  44%|████▎     | 109/250 [01:32<02:02,  1.15it/s, loss=0.455]\u001b[A\n",
      "Train step of epoch 0:  44%|████▍     | 110/250 [01:33<02:01,  1.15it/s, loss=0.455]\u001b[A\n",
      "Train step of epoch 0:  44%|████▍     | 110/250 [01:33<02:01,  1.15it/s, loss=0.619]\u001b[A\n",
      "Train step of epoch 0:  44%|████▍     | 111/250 [01:34<02:00,  1.15it/s, loss=0.619]\u001b[A\n",
      "Train step of epoch 0:  44%|████▍     | 111/250 [01:34<02:00,  1.15it/s, loss=0.709]\u001b[A\n",
      "Train step of epoch 0:  45%|████▍     | 112/250 [01:35<02:00,  1.15it/s, loss=0.709]\u001b[A\n",
      "Train step of epoch 0:  45%|████▍     | 112/250 [01:35<02:00,  1.15it/s, loss=0.988]\u001b[A\n",
      "Train step of epoch 0:  45%|████▌     | 113/250 [01:36<01:59,  1.15it/s, loss=0.988]\u001b[A\n",
      "Train step of epoch 0:  45%|████▌     | 113/250 [01:36<01:59,  1.15it/s, loss=0.324]\u001b[A\n",
      "Train step of epoch 0:  46%|████▌     | 114/250 [01:37<01:58,  1.15it/s, loss=0.324]\u001b[A\n",
      "Train step of epoch 0:  46%|████▌     | 114/250 [01:37<01:58,  1.15it/s, loss=0.912]\u001b[A\n",
      "Train step of epoch 0:  46%|████▌     | 115/250 [01:38<01:57,  1.15it/s, loss=0.912]\u001b[A\n",
      "Train step of epoch 0:  46%|████▌     | 115/250 [01:38<01:57,  1.15it/s, loss=0.393]\u001b[A\n",
      "Train step of epoch 0:  46%|████▋     | 116/250 [01:38<01:56,  1.15it/s, loss=0.393]\u001b[A\n",
      "Train step of epoch 0:  46%|████▋     | 116/250 [01:38<01:56,  1.15it/s, loss=0.663]\u001b[A\n",
      "Train step of epoch 0:  47%|████▋     | 117/250 [01:39<01:55,  1.15it/s, loss=0.663]\u001b[A\n",
      "Train step of epoch 0:  47%|████▋     | 117/250 [01:39<01:55,  1.15it/s, loss=0.729]\u001b[A\n",
      "Train step of epoch 0:  47%|████▋     | 118/250 [01:40<01:55,  1.15it/s, loss=0.729]\u001b[A\n",
      "Train step of epoch 0:  47%|████▋     | 118/250 [01:40<01:55,  1.15it/s, loss=0.539]\u001b[A\n",
      "Train step of epoch 0:  48%|████▊     | 119/250 [01:41<01:54,  1.15it/s, loss=0.539]\u001b[A\n",
      "Train step of epoch 0:  48%|████▊     | 119/250 [01:41<01:54,  1.15it/s, loss=0.702]\u001b[A\n",
      "Train step of epoch 0:  48%|████▊     | 120/250 [01:42<01:53,  1.15it/s, loss=0.702]\u001b[A\n",
      "Train step of epoch 0:  48%|████▊     | 120/250 [01:42<01:53,  1.15it/s, loss=0.581]\u001b[A\n",
      "Train step of epoch 0:  48%|████▊     | 121/250 [01:43<01:52,  1.15it/s, loss=0.581]\u001b[A\n",
      "Train step of epoch 0:  48%|████▊     | 121/250 [01:43<01:52,  1.15it/s, loss=0.578]\u001b[A\n",
      "Train step of epoch 0:  49%|████▉     | 122/250 [01:44<01:51,  1.15it/s, loss=0.578]\u001b[A\n",
      "Train step of epoch 0:  49%|████▉     | 122/250 [01:44<01:51,  1.15it/s, loss=0.687]\u001b[A\n",
      "Train step of epoch 0:  49%|████▉     | 123/250 [01:45<01:50,  1.15it/s, loss=0.687]\u001b[A\n",
      "Train step of epoch 0:  49%|████▉     | 123/250 [01:45<01:50,  1.15it/s, loss=0.846]\u001b[A\n",
      "Train step of epoch 0:  50%|████▉     | 124/250 [01:45<01:49,  1.15it/s, loss=0.846]\u001b[A\n",
      "Train step of epoch 0:  50%|████▉     | 124/250 [01:45<01:49,  1.15it/s, loss=0.457]\u001b[A\n",
      "Train step of epoch 0:  50%|█████     | 125/250 [01:46<01:49,  1.15it/s, loss=0.457]\u001b[A\n",
      "Train step of epoch 0:  50%|█████     | 125/250 [01:46<01:49,  1.15it/s, loss=0.65] \u001b[A\n",
      "Train step of epoch 0:  50%|█████     | 126/250 [01:47<01:48,  1.15it/s, loss=0.65]\u001b[A\n",
      "Train step of epoch 0:  50%|█████     | 126/250 [01:47<01:48,  1.15it/s, loss=0.733]\u001b[A\n",
      "Train step of epoch 0:  51%|█████     | 127/250 [01:48<01:47,  1.14it/s, loss=0.733]\u001b[A\n",
      "Train step of epoch 0:  51%|█████     | 127/250 [01:48<01:47,  1.14it/s, loss=0.647]\u001b[A\n",
      "Train step of epoch 0:  51%|█████     | 128/250 [01:49<01:46,  1.14it/s, loss=0.647]\u001b[A\n",
      "Train step of epoch 0:  51%|█████     | 128/250 [01:49<01:46,  1.14it/s, loss=0.729]\u001b[A\n",
      "Train step of epoch 0:  52%|█████▏    | 129/250 [01:50<01:45,  1.14it/s, loss=0.729]\u001b[A\n",
      "Train step of epoch 0:  52%|█████▏    | 129/250 [01:50<01:45,  1.14it/s, loss=0.437]\u001b[A\n",
      "Train step of epoch 0:  52%|█████▏    | 130/250 [01:51<01:45,  1.14it/s, loss=0.437]\u001b[A\n",
      "Train step of epoch 0:  52%|█████▏    | 130/250 [01:51<01:45,  1.14it/s, loss=0.484]\u001b[A\n",
      "Train step of epoch 0:  52%|█████▏    | 131/250 [01:52<01:44,  1.14it/s, loss=0.484]\u001b[A\n",
      "Train step of epoch 0:  52%|█████▏    | 131/250 [01:52<01:44,  1.14it/s, loss=0.961]\u001b[A\n",
      "Train step of epoch 0:  53%|█████▎    | 132/250 [01:52<01:43,  1.14it/s, loss=0.961]\u001b[A\n",
      "Train step of epoch 0:  53%|█████▎    | 132/250 [01:52<01:43,  1.14it/s, loss=0.686]\u001b[A\n",
      "Train step of epoch 0:  53%|█████▎    | 133/250 [01:53<01:42,  1.14it/s, loss=0.686]\u001b[A\n",
      "Train step of epoch 0:  53%|█████▎    | 133/250 [01:53<01:42,  1.14it/s, loss=0.588]\u001b[A\n",
      "Train step of epoch 0:  54%|█████▎    | 134/250 [01:54<01:41,  1.14it/s, loss=0.588]\u001b[A\n",
      "Train step of epoch 0:  54%|█████▎    | 134/250 [01:54<01:41,  1.14it/s, loss=0.612]\u001b[A\n",
      "Train step of epoch 0:  54%|█████▍    | 135/250 [01:55<01:40,  1.14it/s, loss=0.612]\u001b[A\n",
      "Train step of epoch 0:  54%|█████▍    | 135/250 [01:55<01:40,  1.14it/s, loss=0.804]\u001b[A\n",
      "Train step of epoch 0:  54%|█████▍    | 136/250 [01:56<01:39,  1.14it/s, loss=0.804]\u001b[A\n",
      "Train step of epoch 0:  54%|█████▍    | 136/250 [01:56<01:39,  1.14it/s, loss=0.471]\u001b[A\n",
      "Train step of epoch 0:  55%|█████▍    | 137/250 [01:57<01:38,  1.14it/s, loss=0.471]\u001b[A\n",
      "Train step of epoch 0:  55%|█████▍    | 137/250 [01:57<01:38,  1.14it/s, loss=0.877]\u001b[A\n",
      "Train step of epoch 0:  55%|█████▌    | 138/250 [01:58<01:38,  1.14it/s, loss=0.877]\u001b[A\n",
      "Train step of epoch 0:  55%|█████▌    | 138/250 [01:58<01:38,  1.14it/s, loss=0.693]\u001b[A\n",
      "Train step of epoch 0:  56%|█████▌    | 139/250 [01:59<01:37,  1.14it/s, loss=0.693]\u001b[A\n",
      "Train step of epoch 0:  56%|█████▌    | 139/250 [01:59<01:37,  1.14it/s, loss=0.617]\u001b[A\n",
      "Train step of epoch 0:  56%|█████▌    | 140/250 [01:59<01:36,  1.14it/s, loss=0.617]\u001b[A\n",
      "Train step of epoch 0:  56%|█████▌    | 140/250 [01:59<01:36,  1.14it/s, loss=0.548]\u001b[A\n",
      "Train step of epoch 0:  56%|█████▋    | 141/250 [02:00<01:35,  1.14it/s, loss=0.548]\u001b[A\n",
      "Train step of epoch 0:  56%|█████▋    | 141/250 [02:00<01:35,  1.14it/s, loss=0.532]\u001b[A\n",
      "Train step of epoch 0:  57%|█████▋    | 142/250 [02:01<01:34,  1.14it/s, loss=0.532]\u001b[A\n",
      "Train step of epoch 0:  57%|█████▋    | 142/250 [02:01<01:34,  1.14it/s, loss=0.454]\u001b[A\n",
      "Train step of epoch 0:  57%|█████▋    | 143/250 [02:02<01:33,  1.14it/s, loss=0.454]\u001b[A\n",
      "Train step of epoch 0:  57%|█████▋    | 143/250 [02:02<01:33,  1.14it/s, loss=0.814]\u001b[A\n",
      "Train step of epoch 0:  58%|█████▊    | 144/250 [02:03<01:33,  1.14it/s, loss=0.814]\u001b[A\n",
      "Train step of epoch 0:  58%|█████▊    | 144/250 [02:03<01:33,  1.14it/s, loss=0.673]\u001b[A\n",
      "Train step of epoch 0:  58%|█████▊    | 145/250 [02:04<01:32,  1.14it/s, loss=0.673]\u001b[A\n",
      "Train step of epoch 0:  58%|█████▊    | 145/250 [02:04<01:32,  1.14it/s, loss=0.757]\u001b[A\n",
      "Train step of epoch 0:  58%|█████▊    | 146/250 [02:05<01:31,  1.14it/s, loss=0.757]\u001b[A\n",
      "Train step of epoch 0:  58%|█████▊    | 146/250 [02:05<01:31,  1.14it/s, loss=0.383]\u001b[A\n",
      "Train step of epoch 0:  59%|█████▉    | 147/250 [02:06<01:30,  1.14it/s, loss=0.383]\u001b[A\n",
      "Train step of epoch 0:  59%|█████▉    | 147/250 [02:06<01:30,  1.14it/s, loss=0.86] \u001b[A\n",
      "Train step of epoch 0:  59%|█████▉    | 148/250 [02:06<01:29,  1.14it/s, loss=0.86]\u001b[A\n",
      "Train step of epoch 0:  59%|█████▉    | 148/250 [02:06<01:29,  1.14it/s, loss=0.907]\u001b[A\n",
      "Train step of epoch 0:  60%|█████▉    | 149/250 [02:07<01:28,  1.14it/s, loss=0.907]\u001b[A\n",
      "Train step of epoch 0:  60%|█████▉    | 149/250 [02:07<01:28,  1.14it/s, loss=0.702]\u001b[A\n",
      "Train step of epoch 0:  60%|██████    | 150/250 [02:08<01:27,  1.14it/s, loss=0.702]\u001b[A\n",
      "Train step of epoch 0:  60%|██████    | 150/250 [02:08<01:27,  1.14it/s, loss=0.599]\u001b[A\n",
      "Train step of epoch 0:  60%|██████    | 151/250 [02:09<01:26,  1.14it/s, loss=0.599]\u001b[A\n",
      "Train step of epoch 0:  60%|██████    | 151/250 [02:09<01:26,  1.14it/s, loss=0.78] \u001b[A\n",
      "Train step of epoch 0:  61%|██████    | 152/250 [02:10<01:26,  1.14it/s, loss=0.78]\u001b[A\n",
      "Train step of epoch 0:  61%|██████    | 152/250 [02:10<01:26,  1.14it/s, loss=0.551]\u001b[A\n",
      "Train step of epoch 0:  61%|██████    | 153/250 [02:11<01:25,  1.14it/s, loss=0.551]\u001b[A\n",
      "Train step of epoch 0:  61%|██████    | 153/250 [02:11<01:25,  1.14it/s, loss=0.521]\u001b[A\n",
      "Train step of epoch 0:  62%|██████▏   | 154/250 [02:12<01:24,  1.14it/s, loss=0.521]\u001b[A\n",
      "Train step of epoch 0:  62%|██████▏   | 154/250 [02:12<01:24,  1.14it/s, loss=0.537]\u001b[A\n",
      "Train step of epoch 0:  62%|██████▏   | 155/250 [02:13<01:23,  1.14it/s, loss=0.537]\u001b[A\n",
      "Train step of epoch 0:  62%|██████▏   | 155/250 [02:13<01:23,  1.14it/s, loss=0.483]\u001b[A\n",
      "Train step of epoch 0:  62%|██████▏   | 156/250 [02:14<01:22,  1.14it/s, loss=0.483]\u001b[A\n",
      "Train step of epoch 0:  62%|██████▏   | 156/250 [02:14<01:22,  1.14it/s, loss=0.616]\u001b[A\n",
      "Train step of epoch 0:  63%|██████▎   | 157/250 [02:14<01:21,  1.14it/s, loss=0.616]\u001b[A\n",
      "Train step of epoch 0:  63%|██████▎   | 157/250 [02:14<01:21,  1.14it/s, loss=0.578]\u001b[A\n",
      "Train step of epoch 0:  63%|██████▎   | 158/250 [02:15<01:20,  1.14it/s, loss=0.578]\u001b[A\n",
      "Train step of epoch 0:  63%|██████▎   | 158/250 [02:15<01:20,  1.14it/s, loss=0.436]\u001b[A\n",
      "Train step of epoch 0:  64%|██████▎   | 159/250 [02:16<01:20,  1.14it/s, loss=0.436]\u001b[A\n",
      "Train step of epoch 0:  64%|██████▎   | 159/250 [02:16<01:20,  1.14it/s, loss=0.849]\u001b[A\n",
      "Train step of epoch 0:  64%|██████▍   | 160/250 [02:17<01:19,  1.14it/s, loss=0.849]\u001b[A\n",
      "Train step of epoch 0:  64%|██████▍   | 160/250 [02:17<01:19,  1.14it/s, loss=0.658]\u001b[A\n",
      "Train step of epoch 0:  64%|██████▍   | 161/250 [02:18<01:18,  1.14it/s, loss=0.658]\u001b[A\n",
      "Train step of epoch 0:  64%|██████▍   | 161/250 [02:18<01:18,  1.14it/s, loss=0.698]\u001b[A\n",
      "Train step of epoch 0:  65%|██████▍   | 162/250 [02:19<01:17,  1.14it/s, loss=0.698]\u001b[A\n",
      "Train step of epoch 0:  65%|██████▍   | 162/250 [02:19<01:17,  1.14it/s, loss=0.427]\u001b[A\n",
      "Train step of epoch 0:  65%|██████▌   | 163/250 [02:20<01:16,  1.13it/s, loss=0.427]\u001b[A\n",
      "Train step of epoch 0:  65%|██████▌   | 163/250 [02:20<01:16,  1.13it/s, loss=0.756]\u001b[A\n",
      "Train step of epoch 0:  66%|██████▌   | 164/250 [02:21<01:15,  1.13it/s, loss=0.756]\u001b[A\n",
      "Train step of epoch 0:  66%|██████▌   | 164/250 [02:21<01:15,  1.13it/s, loss=0.27] \u001b[A\n",
      "Train step of epoch 0:  66%|██████▌   | 165/250 [02:21<01:14,  1.14it/s, loss=0.27]\u001b[A\n",
      "Train step of epoch 0:  66%|██████▌   | 165/250 [02:21<01:14,  1.14it/s, loss=0.518]\u001b[A\n",
      "Train step of epoch 0:  66%|██████▋   | 166/250 [02:22<01:14,  1.13it/s, loss=0.518]\u001b[A\n",
      "Train step of epoch 0:  66%|██████▋   | 166/250 [02:22<01:14,  1.13it/s, loss=0.865]\u001b[A\n",
      "Train step of epoch 0:  67%|██████▋   | 167/250 [02:23<01:13,  1.13it/s, loss=0.865]\u001b[A\n",
      "Train step of epoch 0:  67%|██████▋   | 167/250 [02:23<01:13,  1.13it/s, loss=0.46] \u001b[A\n",
      "Train step of epoch 0:  67%|██████▋   | 168/250 [02:24<01:12,  1.13it/s, loss=0.46]\u001b[A\n",
      "Train step of epoch 0:  67%|██████▋   | 168/250 [02:24<01:12,  1.13it/s, loss=0.385]\u001b[A\n",
      "Train step of epoch 0:  68%|██████▊   | 169/250 [02:25<01:11,  1.13it/s, loss=0.385]\u001b[A\n",
      "Train step of epoch 0:  68%|██████▊   | 169/250 [02:25<01:11,  1.13it/s, loss=0.551]\u001b[A\n",
      "Train step of epoch 0:  68%|██████▊   | 170/250 [02:26<01:10,  1.13it/s, loss=0.551]\u001b[A\n",
      "Train step of epoch 0:  68%|██████▊   | 170/250 [02:26<01:10,  1.13it/s, loss=0.548]\u001b[A\n",
      "Train step of epoch 0:  68%|██████▊   | 171/250 [02:27<01:09,  1.13it/s, loss=0.548]\u001b[A\n",
      "Train step of epoch 0:  68%|██████▊   | 171/250 [02:27<01:09,  1.13it/s, loss=0.702]\u001b[A\n",
      "Train step of epoch 0:  69%|██████▉   | 172/250 [02:28<01:08,  1.13it/s, loss=0.702]\u001b[A\n",
      "Train step of epoch 0:  69%|██████▉   | 172/250 [02:28<01:08,  1.13it/s, loss=0.248]\u001b[A\n",
      "Train step of epoch 0:  69%|██████▉   | 173/250 [02:29<01:08,  1.13it/s, loss=0.248]\u001b[A\n",
      "Train step of epoch 0:  69%|██████▉   | 173/250 [02:29<01:08,  1.13it/s, loss=0.405]\u001b[A\n",
      "Train step of epoch 0:  70%|██████▉   | 174/250 [02:29<01:07,  1.13it/s, loss=0.405]\u001b[A\n",
      "Train step of epoch 0:  70%|██████▉   | 174/250 [02:29<01:07,  1.13it/s, loss=0.898]\u001b[A\n",
      "Train step of epoch 0:  70%|███████   | 175/250 [02:30<01:06,  1.13it/s, loss=0.898]\u001b[A\n",
      "Train step of epoch 0:  70%|███████   | 175/250 [02:30<01:06,  1.13it/s, loss=1.13] \u001b[A\n",
      "Train step of epoch 0:  70%|███████   | 176/250 [02:31<01:05,  1.13it/s, loss=1.13]\u001b[A\n",
      "Train step of epoch 0:  70%|███████   | 176/250 [02:31<01:05,  1.13it/s, loss=0.401]\u001b[A\n",
      "Train step of epoch 0:  71%|███████   | 177/250 [02:32<01:04,  1.13it/s, loss=0.401]\u001b[A\n",
      "Train step of epoch 0:  71%|███████   | 177/250 [02:32<01:04,  1.13it/s, loss=0.798]\u001b[A\n",
      "Train step of epoch 0:  71%|███████   | 178/250 [02:33<01:03,  1.13it/s, loss=0.798]\u001b[A\n",
      "Train step of epoch 0:  71%|███████   | 178/250 [02:33<01:03,  1.13it/s, loss=1.43] \u001b[A\n",
      "Train step of epoch 0:  72%|███████▏  | 179/250 [02:34<01:02,  1.13it/s, loss=1.43]\u001b[A\n",
      "Train step of epoch 0:  72%|███████▏  | 179/250 [02:34<01:02,  1.13it/s, loss=0.794]\u001b[A\n",
      "Train step of epoch 0:  72%|███████▏  | 180/250 [02:35<01:01,  1.13it/s, loss=0.794]\u001b[A\n",
      "Train step of epoch 0:  72%|███████▏  | 180/250 [02:35<01:01,  1.13it/s, loss=0.765]\u001b[A\n",
      "Train step of epoch 0:  72%|███████▏  | 181/250 [02:36<01:01,  1.13it/s, loss=0.765]\u001b[A\n",
      "Train step of epoch 0:  72%|███████▏  | 181/250 [02:36<01:01,  1.13it/s, loss=0.59] \u001b[A\n",
      "Train step of epoch 0:  73%|███████▎  | 182/250 [02:36<01:00,  1.13it/s, loss=0.59]\u001b[A\n",
      "Train step of epoch 0:  73%|███████▎  | 182/250 [02:37<01:00,  1.13it/s, loss=0.621]\u001b[A\n",
      "Train step of epoch 0:  73%|███████▎  | 183/250 [02:37<00:59,  1.13it/s, loss=0.621]\u001b[A\n",
      "Train step of epoch 0:  73%|███████▎  | 183/250 [02:37<00:59,  1.13it/s, loss=0.781]\u001b[A\n",
      "Train step of epoch 0:  74%|███████▎  | 184/250 [02:38<00:58,  1.13it/s, loss=0.781]\u001b[A\n",
      "Train step of epoch 0:  74%|███████▎  | 184/250 [02:38<00:58,  1.13it/s, loss=0.605]\u001b[A\n",
      "Train step of epoch 0:  74%|███████▍  | 185/250 [02:39<00:57,  1.13it/s, loss=0.605]\u001b[A\n",
      "Train step of epoch 0:  74%|███████▍  | 185/250 [02:39<00:57,  1.13it/s, loss=0.634]\u001b[A\n",
      "Train step of epoch 0:  74%|███████▍  | 186/250 [02:40<00:56,  1.13it/s, loss=0.634]\u001b[A\n",
      "Train step of epoch 0:  74%|███████▍  | 186/250 [02:40<00:56,  1.13it/s, loss=0.627]\u001b[A\n",
      "Train step of epoch 0:  75%|███████▍  | 187/250 [02:41<00:55,  1.13it/s, loss=0.627]\u001b[A\n",
      "Train step of epoch 0:  75%|███████▍  | 187/250 [02:41<00:55,  1.13it/s, loss=0.707]\u001b[A\n",
      "Train step of epoch 0:  75%|███████▌  | 188/250 [02:42<00:55,  1.13it/s, loss=0.707]\u001b[A\n",
      "Train step of epoch 0:  75%|███████▌  | 188/250 [02:42<00:55,  1.13it/s, loss=0.619]\u001b[A\n",
      "Train step of epoch 0:  76%|███████▌  | 189/250 [02:43<00:54,  1.13it/s, loss=0.619]\u001b[A\n",
      "Train step of epoch 0:  76%|███████▌  | 189/250 [02:43<00:54,  1.13it/s, loss=0.704]\u001b[A\n",
      "Train step of epoch 0:  76%|███████▌  | 190/250 [02:44<00:53,  1.13it/s, loss=0.704]\u001b[A\n",
      "Train step of epoch 0:  76%|███████▌  | 190/250 [02:44<00:53,  1.13it/s, loss=0.785]\u001b[A\n",
      "Train step of epoch 0:  76%|███████▋  | 191/250 [02:44<00:52,  1.13it/s, loss=0.785]\u001b[A\n",
      "Train step of epoch 0:  76%|███████▋  | 191/250 [02:44<00:52,  1.13it/s, loss=0.951]\u001b[A\n",
      "Train step of epoch 0:  77%|███████▋  | 192/250 [02:45<00:51,  1.13it/s, loss=0.951]\u001b[A\n",
      "Train step of epoch 0:  77%|███████▋  | 192/250 [02:45<00:51,  1.13it/s, loss=0.622]\u001b[A\n",
      "Train step of epoch 0:  77%|███████▋  | 193/250 [02:46<00:50,  1.13it/s, loss=0.622]\u001b[A\n",
      "Train step of epoch 0:  77%|███████▋  | 193/250 [02:46<00:50,  1.13it/s, loss=0.639]\u001b[A\n",
      "Train step of epoch 0:  78%|███████▊  | 194/250 [02:47<00:49,  1.13it/s, loss=0.639]\u001b[A\n",
      "Train step of epoch 0:  78%|███████▊  | 194/250 [02:47<00:49,  1.13it/s, loss=0.689]\u001b[A\n",
      "Train step of epoch 0:  78%|███████▊  | 195/250 [02:48<00:48,  1.13it/s, loss=0.689]\u001b[A\n",
      "Train step of epoch 0:  78%|███████▊  | 195/250 [02:48<00:48,  1.13it/s, loss=0.602]\u001b[A\n",
      "Train step of epoch 0:  78%|███████▊  | 196/250 [02:49<00:47,  1.13it/s, loss=0.602]\u001b[A\n",
      "Train step of epoch 0:  78%|███████▊  | 196/250 [02:49<00:47,  1.13it/s, loss=0.643]\u001b[A\n",
      "Train step of epoch 0:  79%|███████▉  | 197/250 [02:50<00:47,  1.13it/s, loss=0.643]\u001b[A\n",
      "Train step of epoch 0:  79%|███████▉  | 197/250 [02:50<00:47,  1.13it/s, loss=0.628]\u001b[A\n",
      "Train step of epoch 0:  79%|███████▉  | 198/250 [02:51<00:46,  1.13it/s, loss=0.628]\u001b[A\n",
      "Train step of epoch 0:  79%|███████▉  | 198/250 [02:51<00:46,  1.13it/s, loss=0.631]\u001b[A\n",
      "Train step of epoch 0:  80%|███████▉  | 199/250 [02:52<00:45,  1.12it/s, loss=0.631]\u001b[A\n",
      "Train step of epoch 0:  80%|███████▉  | 199/250 [02:52<00:45,  1.12it/s, loss=0.632]\u001b[A\n",
      "Train step of epoch 0:  80%|████████  | 200/250 [02:52<00:44,  1.12it/s, loss=0.632]\u001b[A\n",
      "Train step of epoch 0:  80%|████████  | 200/250 [02:52<00:44,  1.12it/s, loss=0.736]\u001b[A\n",
      "Train step of epoch 0:  80%|████████  | 201/250 [02:53<00:43,  1.12it/s, loss=0.736]\u001b[A\n",
      "Train step of epoch 0:  80%|████████  | 201/250 [02:53<00:43,  1.12it/s, loss=0.66] \u001b[A\n",
      "Train step of epoch 0:  81%|████████  | 202/250 [02:54<00:42,  1.12it/s, loss=0.66]\u001b[A\n",
      "Train step of epoch 0:  81%|████████  | 202/250 [02:54<00:42,  1.12it/s, loss=0.786]\u001b[A\n",
      "Train step of epoch 0:  81%|████████  | 203/250 [02:55<00:41,  1.12it/s, loss=0.786]\u001b[A\n",
      "Train step of epoch 0:  81%|████████  | 203/250 [02:55<00:41,  1.12it/s, loss=0.535]\u001b[A\n",
      "Train step of epoch 0:  82%|████████▏ | 204/250 [02:56<00:40,  1.12it/s, loss=0.535]\u001b[A\n",
      "Train step of epoch 0:  82%|████████▏ | 204/250 [02:56<00:40,  1.12it/s, loss=0.723]\u001b[A\n",
      "Train step of epoch 0:  82%|████████▏ | 205/250 [02:57<00:40,  1.12it/s, loss=0.723]\u001b[A\n",
      "Train step of epoch 0:  82%|████████▏ | 205/250 [02:57<00:40,  1.12it/s, loss=0.767]\u001b[A\n",
      "Train step of epoch 0:  82%|████████▏ | 206/250 [02:58<00:39,  1.12it/s, loss=0.767]\u001b[A\n",
      "Train step of epoch 0:  82%|████████▏ | 206/250 [02:58<00:39,  1.12it/s, loss=0.535]\u001b[A\n",
      "Train step of epoch 0:  83%|████████▎ | 207/250 [02:59<00:38,  1.12it/s, loss=0.535]\u001b[A\n",
      "Train step of epoch 0:  83%|████████▎ | 207/250 [02:59<00:38,  1.12it/s, loss=0.848]\u001b[A\n",
      "Train step of epoch 0:  83%|████████▎ | 208/250 [03:00<00:37,  1.12it/s, loss=0.848]\u001b[A\n",
      "Train step of epoch 0:  83%|████████▎ | 208/250 [03:00<00:37,  1.12it/s, loss=0.779]\u001b[A\n",
      "Train step of epoch 0:  84%|████████▎ | 209/250 [03:00<00:36,  1.12it/s, loss=0.779]\u001b[A\n",
      "Train step of epoch 0:  84%|████████▎ | 209/250 [03:01<00:36,  1.12it/s, loss=0.571]\u001b[A\n",
      "Train step of epoch 0:  84%|████████▍ | 210/250 [03:01<00:35,  1.12it/s, loss=0.571]\u001b[A\n",
      "Train step of epoch 0:  84%|████████▍ | 210/250 [03:01<00:35,  1.12it/s, loss=0.437]\u001b[A\n",
      "Train step of epoch 0:  84%|████████▍ | 211/250 [03:02<00:34,  1.12it/s, loss=0.437]\u001b[A\n",
      "Train step of epoch 0:  84%|████████▍ | 211/250 [03:02<00:34,  1.12it/s, loss=0.617]\u001b[A\n",
      "Train step of epoch 0:  85%|████████▍ | 212/250 [03:03<00:33,  1.12it/s, loss=0.617]\u001b[A\n",
      "Train step of epoch 0:  85%|████████▍ | 212/250 [03:03<00:33,  1.12it/s, loss=0.992]\u001b[A\n",
      "Train step of epoch 0:  85%|████████▌ | 213/250 [03:04<00:32,  1.12it/s, loss=0.992]\u001b[A\n",
      "Train step of epoch 0:  85%|████████▌ | 213/250 [03:04<00:32,  1.12it/s, loss=0.481]\u001b[A\n",
      "Train step of epoch 0:  86%|████████▌ | 214/250 [03:05<00:32,  1.12it/s, loss=0.481]\u001b[A\n",
      "Train step of epoch 0:  86%|████████▌ | 214/250 [03:05<00:32,  1.12it/s, loss=0.524]\u001b[A\n",
      "Train step of epoch 0:  86%|████████▌ | 215/250 [03:06<00:31,  1.12it/s, loss=0.524]\u001b[A\n",
      "Train step of epoch 0:  86%|████████▌ | 215/250 [03:06<00:31,  1.12it/s, loss=0.454]\u001b[A\n",
      "Train step of epoch 0:  86%|████████▋ | 216/250 [03:07<00:30,  1.12it/s, loss=0.454]\u001b[A\n",
      "Train step of epoch 0:  86%|████████▋ | 216/250 [03:07<00:30,  1.12it/s, loss=0.581]\u001b[A\n",
      "Train step of epoch 0:  87%|████████▋ | 217/250 [03:08<00:29,  1.12it/s, loss=0.581]\u001b[A\n",
      "Train step of epoch 0:  87%|████████▋ | 217/250 [03:08<00:29,  1.12it/s, loss=0.52] \u001b[A\n",
      "Train step of epoch 0:  87%|████████▋ | 218/250 [03:08<00:28,  1.12it/s, loss=0.52]\u001b[A\n",
      "Train step of epoch 0:  87%|████████▋ | 218/250 [03:09<00:28,  1.12it/s, loss=1.19]\u001b[A\n",
      "Train step of epoch 0:  88%|████████▊ | 219/250 [03:09<00:27,  1.12it/s, loss=1.19]\u001b[A\n",
      "Train step of epoch 0:  88%|████████▊ | 219/250 [03:09<00:27,  1.12it/s, loss=0.615]\u001b[A\n",
      "Train step of epoch 0:  88%|████████▊ | 220/250 [03:10<00:26,  1.12it/s, loss=0.615]\u001b[A\n",
      "Train step of epoch 0:  88%|████████▊ | 220/250 [03:10<00:26,  1.12it/s, loss=0.575]\u001b[A\n",
      "Train step of epoch 0:  88%|████████▊ | 221/250 [03:11<00:25,  1.12it/s, loss=0.575]\u001b[A\n",
      "Train step of epoch 0:  88%|████████▊ | 221/250 [03:11<00:25,  1.12it/s, loss=0.709]\u001b[A\n",
      "Train step of epoch 0:  89%|████████▉ | 222/250 [03:12<00:24,  1.12it/s, loss=0.709]\u001b[A\n",
      "Train step of epoch 0:  89%|████████▉ | 222/250 [03:12<00:24,  1.12it/s, loss=0.386]\u001b[A\n",
      "Train step of epoch 0:  89%|████████▉ | 223/250 [03:13<00:24,  1.12it/s, loss=0.386]\u001b[A\n",
      "Train step of epoch 0:  89%|████████▉ | 223/250 [03:13<00:24,  1.12it/s, loss=0.764]\u001b[A\n",
      "Train step of epoch 0:  90%|████████▉ | 224/250 [03:14<00:23,  1.12it/s, loss=0.764]\u001b[A\n",
      "Train step of epoch 0:  90%|████████▉ | 224/250 [03:14<00:23,  1.12it/s, loss=0.633]\u001b[A\n",
      "Train step of epoch 0:  90%|█████████ | 225/250 [03:15<00:22,  1.12it/s, loss=0.633]\u001b[A\n",
      "Train step of epoch 0:  90%|█████████ | 225/250 [03:15<00:22,  1.12it/s, loss=0.506]\u001b[A\n",
      "Train step of epoch 0:  90%|█████████ | 226/250 [03:16<00:21,  1.12it/s, loss=0.506]\u001b[A\n",
      "Train step of epoch 0:  90%|█████████ | 226/250 [03:16<00:21,  1.12it/s, loss=0.41] \u001b[A\n",
      "Train step of epoch 0:  91%|█████████ | 227/250 [03:17<00:20,  1.12it/s, loss=0.41]\u001b[A\n",
      "Train step of epoch 0:  91%|█████████ | 227/250 [03:17<00:20,  1.12it/s, loss=0.564]\u001b[A\n",
      "Train step of epoch 0:  91%|█████████ | 228/250 [03:17<00:19,  1.12it/s, loss=0.564]\u001b[A\n",
      "Train step of epoch 0:  91%|█████████ | 228/250 [03:17<00:19,  1.12it/s, loss=0.633]\u001b[A\n",
      "Train step of epoch 0:  92%|█████████▏| 229/250 [03:18<00:18,  1.12it/s, loss=0.633]\u001b[A\n",
      "Train step of epoch 0:  92%|█████████▏| 229/250 [03:18<00:18,  1.12it/s, loss=0.196]\u001b[A\n",
      "Train step of epoch 0:  92%|█████████▏| 230/250 [03:19<00:17,  1.12it/s, loss=0.196]\u001b[A\n",
      "Train step of epoch 0:  92%|█████████▏| 230/250 [03:19<00:17,  1.12it/s, loss=0.769]\u001b[A\n",
      "Train step of epoch 0:  92%|█████████▏| 231/250 [03:20<00:16,  1.12it/s, loss=0.769]\u001b[A\n",
      "Train step of epoch 0:  92%|█████████▏| 231/250 [03:20<00:16,  1.12it/s, loss=0.419]\u001b[A\n",
      "Train step of epoch 0:  93%|█████████▎| 232/250 [03:21<00:16,  1.12it/s, loss=0.419]\u001b[A\n",
      "Train step of epoch 0:  93%|█████████▎| 232/250 [03:21<00:16,  1.12it/s, loss=0.408]\u001b[A\n",
      "Train step of epoch 0:  93%|█████████▎| 233/250 [03:22<00:15,  1.12it/s, loss=0.408]\u001b[A\n",
      "Train step of epoch 0:  93%|█████████▎| 233/250 [03:22<00:15,  1.12it/s, loss=0.729]\u001b[A\n",
      "Train step of epoch 0:  94%|█████████▎| 234/250 [03:23<00:14,  1.12it/s, loss=0.729]\u001b[A\n",
      "Train step of epoch 0:  94%|█████████▎| 234/250 [03:23<00:14,  1.12it/s, loss=0.379]\u001b[A\n",
      "Train step of epoch 0:  94%|█████████▍| 235/250 [03:24<00:13,  1.12it/s, loss=0.379]\u001b[A\n",
      "Train step of epoch 0:  94%|█████████▍| 235/250 [03:24<00:13,  1.12it/s, loss=0.407]\u001b[A\n",
      "Train step of epoch 0:  94%|█████████▍| 236/250 [03:25<00:12,  1.12it/s, loss=0.407]\u001b[A\n",
      "Train step of epoch 0:  94%|█████████▍| 236/250 [03:25<00:12,  1.12it/s, loss=0.682]\u001b[A\n",
      "Train step of epoch 0:  95%|█████████▍| 237/250 [03:25<00:11,  1.12it/s, loss=0.682]\u001b[A\n",
      "Train step of epoch 0:  95%|█████████▍| 237/250 [03:25<00:11,  1.12it/s, loss=0.34] \u001b[A\n",
      "Train step of epoch 0:  95%|█████████▌| 238/250 [03:26<00:10,  1.12it/s, loss=0.34]\u001b[A\n",
      "Train step of epoch 0:  95%|█████████▌| 238/250 [03:26<00:10,  1.12it/s, loss=1.44]\u001b[A\n",
      "Train step of epoch 0:  96%|█████████▌| 239/250 [03:27<00:09,  1.12it/s, loss=1.44]\u001b[A\n",
      "Train step of epoch 0:  96%|█████████▌| 239/250 [03:27<00:09,  1.12it/s, loss=0.287]\u001b[A\n",
      "Train step of epoch 0:  96%|█████████▌| 240/250 [03:28<00:08,  1.12it/s, loss=0.287]\u001b[A\n",
      "Train step of epoch 0:  96%|█████████▌| 240/250 [03:28<00:08,  1.12it/s, loss=0.398]\u001b[A\n",
      "Train step of epoch 0:  96%|█████████▋| 241/250 [03:29<00:08,  1.12it/s, loss=0.398]\u001b[A\n",
      "Train step of epoch 0:  96%|█████████▋| 241/250 [03:29<00:08,  1.12it/s, loss=0.372]\u001b[A\n",
      "Train step of epoch 0:  97%|█████████▋| 242/250 [03:30<00:07,  1.12it/s, loss=0.372]\u001b[A\n",
      "Train step of epoch 0:  97%|█████████▋| 242/250 [03:30<00:07,  1.12it/s, loss=0.475]\u001b[A\n",
      "Train step of epoch 0:  97%|█████████▋| 243/250 [03:31<00:06,  1.12it/s, loss=0.475]\u001b[A\n",
      "Train step of epoch 0:  97%|█████████▋| 243/250 [03:31<00:06,  1.12it/s, loss=0.918]\u001b[A\n",
      "Train step of epoch 0:  98%|█████████▊| 244/250 [03:32<00:05,  1.12it/s, loss=0.918]\u001b[A\n",
      "Train step of epoch 0:  98%|█████████▊| 244/250 [03:32<00:05,  1.12it/s, loss=0.487]\u001b[A\n",
      "Train step of epoch 0:  98%|█████████▊| 245/250 [03:33<00:04,  1.12it/s, loss=0.487]\u001b[A\n",
      "Train step of epoch 0:  98%|█████████▊| 245/250 [03:33<00:04,  1.12it/s, loss=0.384]\u001b[A\n",
      "Train step of epoch 0:  98%|█████████▊| 246/250 [03:34<00:03,  1.12it/s, loss=0.384]\u001b[A\n",
      "Train step of epoch 0:  98%|█████████▊| 246/250 [03:34<00:03,  1.12it/s, loss=0.664]\u001b[A\n",
      "Train step of epoch 0:  99%|█████████▉| 247/250 [03:34<00:02,  1.12it/s, loss=0.664]\u001b[A\n",
      "Train step of epoch 0:  99%|█████████▉| 247/250 [03:34<00:02,  1.12it/s, loss=0.611]\u001b[A\n",
      "Train step of epoch 0:  99%|█████████▉| 248/250 [03:35<00:01,  1.12it/s, loss=0.611]\u001b[A\n",
      "Train step of epoch 0:  99%|█████████▉| 248/250 [03:35<00:01,  1.12it/s, loss=0.8]  \u001b[A\n",
      "Train step of epoch 0: 100%|█████████▉| 249/250 [03:36<00:00,  1.12it/s, loss=0.8]\u001b[A\n",
      "Train step of epoch 0: 100%|█████████▉| 249/250 [03:36<00:00,  1.12it/s, loss=0.909]\u001b[A\n",
      "Train step of epoch 0: 100%|██████████| 250/250 [03:37<00:00,  1.12it/s, loss=0.909]\u001b[A\n",
      "Train epoch: 100%|██████████| 1/1 [03:52<00:00, 232.24s/it]0,  1.12it/s, loss=0.702]\u001b[A\n",
      "Train step of epoch 0: 100%|██████████| 250/250 [03:52<00:00,  1.08it/s, loss=0.605, dist_mean=0.303]\u001b[A\n",
      "Train epoch: 100%|██████████| 1/1 [03:52<00:00, 232.24s/it]\n"
     ]
    }
   ],
   "source": [
    "trainer.fit(use_lora=0)\n",
    "\n",
    "model.save_pretrained('../aiffel/KoChatGPT/output_2_RM')"
   ]
  },
  {
   "cell_type": "code",
   "execution_count": 40,
   "id": "cf28a52a",
   "metadata": {},
   "outputs": [
    {
     "name": "stdout",
     "output_type": "stream",
     "text": [
      "input: 인공지능은 똥멍청이 입니다\n",
      "reward score: 1.1\n"
     ]
    }
   ],
   "source": [
    "def inference_RM(input_text):\n",
    "    input_ids = tokenizer.encode(input_text, return_tensors='pt').to(\n",
    "        torch.cuda.current_device())\n",
    "    output = model(input_ids)\n",
    "    output_reward = output.cpu().detach().numpy()[0]\n",
    "\n",
    "    print('input: %s\\nreward score: %.1f'%(input_text, output_reward))\n",
    "\n",
    "    return output_reward\n",
    "\n",
    "input_text = '인공지능은 똥멍청이 입니다'\n",
    "output_reward = inference_RM(input_text=input_text)"
   ]
  },
  {
   "cell_type": "code",
   "execution_count": 41,
   "id": "f7aedd51",
   "metadata": {},
   "outputs": [
    {
     "name": "stdout",
     "output_type": "stream",
     "text": [
      "input: 인공지능(AI)은 컴퓨터에서 음성 및 작성된 언어를 보고 이해하고 번역하고 데이터를 분석하고 추천하는 기능을 포함하여 다양한 고급 기능을 수행할 수 있는 일련의 기술입니다.\n",
      "reward score: 1.1\n"
     ]
    }
   ],
   "source": [
    "input_text = '인공지능(AI)은 컴퓨터에서 음성 및 작성된 언어를 보고 이해하고 번역하고 데이터를 분석하고 추천하는 기능을 포함하여 다양한 고급 기능을 수행할 수 있는 일련의 기술입니다.'\n",
    "\n",
    "output_reward = inference_RM(input_text=input_text)"
   ]
  },
  {
   "cell_type": "code",
   "execution_count": 42,
   "id": "46e98ad2",
   "metadata": {},
   "outputs": [
    {
     "name": "stdout",
     "output_type": "stream",
     "text": [
      "input: 인공지능(AI)은 컴퓨터에서 음성 및 작성된 언어를 보고 이해하고 번역하고 데이터를 분석하고 추천하는 기능을 포함하여 다양한 고급 기능을 수행할 수 있는 일련의 기술입니다. AI는 현대적인 컴퓨팅 혁신에서 중추적인 역할을 하며 개인과 비즈니스의 가치를 창출합니다. 예를 들어 광학 문자 인식(OCR)은 AI를 사용해 이미지 및 문서에서 텍스트 및 데이터를 추출하고, 구조화되지 않은 콘텐츠를 비즈니스에 바로 사용할 수 있게 만들고, 유용한 정보를 창출합니다.\n",
      "reward score: 1.4\n"
     ]
    }
   ],
   "source": [
    "input_text = \"인공지능(AI)은 컴퓨터에서 음성 및 작성된 언어를 보고 이해하고 번역하고 데이터를 분석하고 추천하는 기능을 포함하여 다양한 고급 기능을 수행할 수 있는 일련의 기술입니다. AI는 현대적인 컴퓨팅 혁신에서 중추적인 역할을 하며 개인과 비즈니스의 가치를 창출합니다. 예를 들어 광학 문자 인식(OCR)은 AI를 사용해 이미지 및 문서에서 텍스트 및 데이터를 추출하고, 구조화되지 않은 콘텐츠를 비즈니스에 바로 사용할 수 있게 만들고, 유용한 정보를 창출합니다.\"\n",
    "\n",
    "output_reward = inference_RM(input_text=input_text)"
   ]
  },
  {
   "cell_type": "code",
   "execution_count": 43,
   "id": "d7396ae6",
   "metadata": {},
   "outputs": [
    {
     "name": "stdout",
     "output_type": "stream",
     "text": [
      "input: 인공지능은 일반적으로 인간의 지능이 필요하거나 인간이 분석할 수 있는 것보다 규모가 큰 데이터를 포함하는 방식으로 추론, 학습 및 행동할 수 있는 컴퓨터 및 기계를 구축하는 것과 관련된 과학 분야입니다. AI는 컴퓨터 공학, 데이터 분석 및 통계, 하드웨어 및 소프트웨어 엔지니어링, 언어학, 신경 과학은 물론 철학과 심리학을 포함하여 여러 학문을 포괄하는 광범위한 분야입니다. 비즈니스의 운영 수준에서 AI는 주로 머신러닝과 딥 러닝을 기반으로 하는 기술 모음으로, 데이터 분석, 예상 및 예측, 객체 분류, 자연어 처리, 추천, 지능형 데이터 가져오기 등을 수행할 수 있습니다.\n",
      "reward score: 1.4\n"
     ]
    }
   ],
   "source": [
    "input_text = \"인공지능은 일반적으로 인간의 지능이 필요하거나 인간이 분석할 수 있는 것보다 규모가 큰 데이터를 포함하는 방식으로 추론, 학습 및 행동할 수 있는 컴퓨터 및 기계를 구축하는 것과 관련된 과학 분야입니다. AI는 컴퓨터 공학, 데이터 분석 및 통계, 하드웨어 및 소프트웨어 엔지니어링, 언어학, 신경 과학은 물론 철학과 심리학을 포함하여 여러 학문을 포괄하는 광범위한 분야입니다. 비즈니스의 운영 수준에서 AI는 주로 머신러닝과 딥 러닝을 기반으로 하는 기술 모음으로, 데이터 분석, 예상 및 예측, 객체 분류, 자연어 처리, 추천, 지능형 데이터 가져오기 등을 수행할 수 있습니다.\"\n",
    "\n",
    "output_reward = inference_RM(input_text=input_text)"
   ]
  },
  {
   "cell_type": "code",
   "execution_count": 44,
   "id": "40745d8e",
   "metadata": {},
   "outputs": [],
   "source": [
    "torch.cuda.empty_cache()"
   ]
  },
  {
   "cell_type": "markdown",
   "id": "01adc468",
   "metadata": {},
   "source": [
    "# 4. Proximal Policy Optimization"
   ]
  },
  {
   "cell_type": "code",
   "execution_count": 45,
   "id": "455c889c",
   "metadata": {},
   "outputs": [],
   "source": [
    "from copy import deepcopy\n",
    "\n",
    "import torch\n",
    "from torch.optim import Adam\n",
    "from chatgpt.models.base import RewardModel\n",
    "from chatgpt.models.gpt import GPTActor, GPTCritic\n",
    "from chatgpt.trainer import PPOTrainer\n",
    "from chatgpt.trainer.strategies import NaiveStrategy\n",
    "from transformers import AutoTokenizer"
   ]
  },
  {
   "cell_type": "code",
   "execution_count": 47,
   "id": "e2951f6c",
   "metadata": {},
   "outputs": [],
   "source": [
    "with NaiveStrategy().model_init_context():\n",
    "    actor = GPTActor(pretrained='../aiffel/KoChatGPT/output_1_SFT', lora_rank=0).to(torch.cuda.current_device())\n",
    "    critic = GPTCritic(pretrained='../aiffel/KoChatGPT/output_2_RM', lora_rank=0).to(torch.cuda.current_device())\n",
    "\n",
    "    tokenizer = AutoTokenizer.from_pretrained(\n",
    "        'skt/kogpt2-base-v2', bos_token='</s>', eos_token='</s>', unk_token='</s>', pad_token='</s>',\n",
    "        padding_side=\"right\", \n",
    "        model_max_length=512\n",
    "    )\n",
    "\n",
    "    initial_model = deepcopy(actor)\n",
    "    reward_model = RewardModel(deepcopy(critic.model), deepcopy(critic.value_head)).to(torch.cuda.current_device())"
   ]
  },
  {
   "cell_type": "markdown",
   "id": "9e18a7d1",
   "metadata": {},
   "source": [
    "### 4-1. 모델학습에 사용할 옵티마이저와 모델을 준비"
   ]
  },
  {
   "cell_type": "code",
   "execution_count": 48,
   "id": "8cea8001",
   "metadata": {},
   "outputs": [],
   "source": [
    "actor_optim = Adam(actor.parameters(), lr=5e-6)\n",
    "critic_optim = Adam(critic.parameters(), lr=5e-6)"
   ]
  },
  {
   "cell_type": "code",
   "execution_count": 49,
   "id": "5e845aed",
   "metadata": {},
   "outputs": [],
   "source": [
    "(actor, actor_optim), (critic, critic_optim), reward_model, initial_model = NaiveStrategy().prepare(\n",
    "    (actor, actor_optim), (critic, critic_optim), reward_model, initial_model)"
   ]
  },
  {
   "cell_type": "markdown",
   "id": "f98e6e5c",
   "metadata": {},
   "source": [
    "### 4-2. PPO 학습에 쓸 데이터를 불러와 토크나이징 "
   ]
  },
  {
   "cell_type": "code",
   "execution_count": 51,
   "id": "6211c4f5",
   "metadata": {},
   "outputs": [],
   "source": [
    "with open('../aiffel/KoChatGPT/data_kochatgpt/kochatgpt_3_PPO.jsonl', \"r\", encoding='utf-8-sig') as json_file:\n",
    "    list_data_dict = json.load(json_file)\n",
    "    list_prompt = [tmp['prompt'] for tmp in list_data_dict]\n",
    "\n",
    "def tokenize_fn(texts):\n",
    "    batch = tokenizer(texts, return_tensors='pt', max_length=96, padding=True, truncation=True)\n",
    "    return {k: v.cuda() for k, v in batch.items()}"
   ]
  },
  {
   "cell_type": "code",
   "execution_count": 52,
   "id": "e14984e6",
   "metadata": {},
   "outputs": [
    {
     "name": "stdout",
     "output_type": "stream",
     "text": [
      "{'input_ids': tensor([[47311, 10448, 19008,  9792, 11780, 11308, 30190, 10929, 11849, 21663,\n",
      "         44389,  9574, 13799,   458, 14308, 12778, 22469, 20938, 44696,   458,\n",
      "         13799,   458, 14308, 12778, 11756, 18944,   389]], device='cuda:0'), 'attention_mask': tensor([[1, 1, 1, 1, 1, 1, 1, 1, 1, 1, 1, 1, 1, 1, 1, 1, 1, 1, 1, 1, 1, 1, 1, 1,\n",
      "         1, 1, 1]], device='cuda:0')}\n"
     ]
    }
   ],
   "source": [
    "print(tokenize_fn('It takes something more than intelligence to act intelligently.'))"
   ]
  },
  {
   "cell_type": "code",
   "execution_count": 53,
   "id": "c0120303",
   "metadata": {},
   "outputs": [
    {
     "data": {
      "text/plain": [
       "12000"
      ]
     },
     "execution_count": 53,
     "metadata": {},
     "output_type": "execute_result"
    }
   ],
   "source": [
    "len(list_prompt)"
   ]
  },
  {
   "cell_type": "markdown",
   "id": "db8b8363",
   "metadata": {},
   "source": [
    "### 4-3. PPO위한 별도의 PPOTrainer 클래스를 설계"
   ]
  },
  {
   "cell_type": "code",
   "execution_count": 54,
   "id": "2dee80b1",
   "metadata": {},
   "outputs": [],
   "source": [
    "trainer = PPOTrainer(NaiveStrategy(),\n",
    "                     actor,\n",
    "                     critic,\n",
    "                     reward_model,\n",
    "                     initial_model,\n",
    "                     actor_optim,\n",
    "                     critic_optim,\n",
    "                     max_epochs=1,  \n",
    "                     train_batch_size=8, \n",
    "                     tokenizer=tokenize_fn,\n",
    "                     max_length=128,\n",
    "                     do_sample=True,\n",
    "                     temperature=1.0,\n",
    "                     top_k=50,\n",
    "                     pad_token_id=tokenizer.pad_token_id,\n",
    "                     eos_token_id=tokenizer.eos_token_id)"
   ]
  },
  {
   "cell_type": "markdown",
   "id": "0c9fbaad",
   "metadata": {},
   "source": [
    "### 4-4. PPO 학습을 진행"
   ]
  },
  {
   "cell_type": "code",
   "execution_count": 55,
   "id": "62e4012d",
   "metadata": {},
   "outputs": [
    {
     "name": "stderr",
     "output_type": "stream",
     "text": [
      "Episode [1/10]:  67%|██████▋   | 2/3 [00:11<00:05,  5.59s/it]\n",
      "Train epoch [1/1]:   0%|          | 0/3 [00:00<?, ?it/s]\u001b[A\n",
      "Train epoch [1/1]:   0%|          | 0/3 [00:00<?, ?it/s, actor_loss=0, critic_loss=0.000154]\u001b[A\n",
      "Train epoch [1/1]:  33%|███▎      | 1/3 [00:00<00:01,  1.73it/s, actor_loss=0, critic_loss=0.000154]\u001b[A\n",
      "Train epoch [1/1]:  33%|███▎      | 1/3 [00:01<00:01,  1.73it/s, actor_loss=0, critic_loss=0.00145] \u001b[A\n",
      "Train epoch [1/1]:  67%|██████▋   | 2/3 [00:01<00:00,  1.88it/s, actor_loss=0, critic_loss=0.00145]\u001b[A\n",
      "Train epoch [1/1]:  67%|██████▋   | 2/3 [00:01<00:00,  1.88it/s, actor_loss=0, critic_loss=0.0234] \u001b[A\n",
      "Train epoch [1/1]: 100%|██████████| 3/3 [00:01<00:00,  1.90it/s, actor_loss=0, critic_loss=0.0234]\u001b[A\n",
      "Episode [1/10]: 100%|██████████| 3/3 [00:18<00:00,  6.09s/it]\n",
      "Episode [2/10]:  67%|██████▋   | 2/3 [00:11<00:05,  5.54s/it]\n",
      "Train epoch [1/1]:   0%|          | 0/3 [00:00<?, ?it/s]\u001b[A\n",
      "Train epoch [1/1]:   0%|          | 0/3 [00:00<?, ?it/s, actor_loss=-.0295, critic_loss=0.00165]\u001b[A\n",
      "Train epoch [1/1]:  33%|███▎      | 1/3 [00:00<00:01,  1.91it/s, actor_loss=-.0295, critic_loss=0.00165]\u001b[A\n",
      "Train epoch [1/1]:  33%|███▎      | 1/3 [00:01<00:01,  1.91it/s, actor_loss=-.00461, critic_loss=0.0139]\u001b[A\n",
      "Train epoch [1/1]:  67%|██████▋   | 2/3 [00:01<00:00,  1.94it/s, actor_loss=-.00461, critic_loss=0.0139]\u001b[A\n",
      "Train epoch [1/1]:  67%|██████▋   | 2/3 [00:01<00:00,  1.94it/s, actor_loss=-.0126, critic_loss=0.0151] \u001b[A\n",
      "Train epoch [1/1]: 100%|██████████| 3/3 [00:01<00:00,  1.93it/s, actor_loss=-.0126, critic_loss=0.0151]\u001b[A\n",
      "Episode [2/10]: 100%|██████████| 3/3 [00:18<00:00,  6.05s/it]\n",
      "Episode [3/10]:  67%|██████▋   | 2/3 [00:11<00:05,  5.71s/it]\n",
      "Train epoch [1/1]:   0%|          | 0/3 [00:00<?, ?it/s]\u001b[A\n",
      "Train epoch [1/1]:   0%|          | 0/3 [00:00<?, ?it/s, actor_loss=0.0586, critic_loss=0.00395]\u001b[A\n",
      "Train epoch [1/1]:  33%|███▎      | 1/3 [00:00<00:01,  1.92it/s, actor_loss=0.0586, critic_loss=0.00395]\u001b[A\n",
      "Train epoch [1/1]:  33%|███▎      | 1/3 [00:01<00:01,  1.92it/s, actor_loss=0.0655, critic_loss=0.000919]\u001b[A\n",
      "Train epoch [1/1]:  67%|██████▋   | 2/3 [00:01<00:00,  1.93it/s, actor_loss=0.0655, critic_loss=0.000919]\u001b[A\n",
      "Train epoch [1/1]:  67%|██████▋   | 2/3 [00:01<00:00,  1.93it/s, actor_loss=0.0562, critic_loss=0.00765] \u001b[A\n",
      "Train epoch [1/1]: 100%|██████████| 3/3 [00:01<00:00,  1.92it/s, actor_loss=0.0562, critic_loss=0.00765]\u001b[A\n",
      "Episode [3/10]: 100%|██████████| 3/3 [00:18<00:00,  6.22s/it]\n",
      "Episode [4/10]:  67%|██████▋   | 2/3 [00:11<00:05,  5.77s/it]\n",
      "Train epoch [1/1]:   0%|          | 0/3 [00:00<?, ?it/s]\u001b[A\n",
      "Train epoch [1/1]:   0%|          | 0/3 [00:00<?, ?it/s, actor_loss=-.0774, critic_loss=0.00881]\u001b[A\n",
      "Train epoch [1/1]:  33%|███▎      | 1/3 [00:00<00:01,  1.90it/s, actor_loss=-.0774, critic_loss=0.00881]\u001b[A\n",
      "Train epoch [1/1]:  33%|███▎      | 1/3 [00:01<00:01,  1.90it/s, actor_loss=-.0846, critic_loss=0.0026] \u001b[A\n",
      "Train epoch [1/1]:  67%|██████▋   | 2/3 [00:01<00:00,  1.90it/s, actor_loss=-.0846, critic_loss=0.0026]\u001b[A\n",
      "Train epoch [1/1]:  67%|██████▋   | 2/3 [00:01<00:00,  1.90it/s, actor_loss=-.0793, critic_loss=0.000157]\u001b[A\n",
      "Train epoch [1/1]: 100%|██████████| 3/3 [00:01<00:00,  1.89it/s, actor_loss=-.0793, critic_loss=0.000157]\u001b[A\n",
      "Episode [4/10]: 100%|██████████| 3/3 [00:18<00:00,  6.27s/it]\n",
      "Episode [5/10]:  67%|██████▋   | 2/3 [00:11<00:05,  5.71s/it]\n",
      "Train epoch [1/1]:   0%|          | 0/3 [00:00<?, ?it/s]\u001b[A\n",
      "Train epoch [1/1]:   0%|          | 0/3 [00:00<?, ?it/s, actor_loss=0.0639, critic_loss=0.0125]\u001b[A\n",
      "Train epoch [1/1]:  33%|███▎      | 1/3 [00:00<00:01,  1.89it/s, actor_loss=0.0639, critic_loss=0.0125]\u001b[A\n",
      "Train epoch [1/1]:  33%|███▎      | 1/3 [00:01<00:01,  1.89it/s, actor_loss=0.049, critic_loss=0.00274]\u001b[A\n",
      "Train epoch [1/1]:  67%|██████▋   | 2/3 [00:01<00:00,  1.89it/s, actor_loss=0.049, critic_loss=0.00274]\u001b[A\n",
      "Train epoch [1/1]:  67%|██████▋   | 2/3 [00:01<00:00,  1.89it/s, actor_loss=0.047, critic_loss=0.00173]\u001b[A\n",
      "Train epoch [1/1]: 100%|██████████| 3/3 [00:01<00:00,  1.88it/s, actor_loss=0.047, critic_loss=0.00173]\u001b[A\n",
      "Episode [5/10]: 100%|██████████| 3/3 [00:18<00:00,  6.29s/it]\n",
      "Episode [6/10]:  67%|██████▋   | 2/3 [00:11<00:05,  5.80s/it]\n",
      "Train epoch [1/1]:   0%|          | 0/3 [00:00<?, ?it/s]\u001b[A\n",
      "Train epoch [1/1]:   0%|          | 0/3 [00:00<?, ?it/s, actor_loss=0.0169, critic_loss=0.00029]\u001b[A\n",
      "Train epoch [1/1]:  33%|███▎      | 1/3 [00:00<00:01,  1.86it/s, actor_loss=0.0169, critic_loss=0.00029]\u001b[A\n",
      "Train epoch [1/1]:  33%|███▎      | 1/3 [00:01<00:01,  1.86it/s, actor_loss=0.0259, critic_loss=0.000255]\u001b[A\n",
      "Train epoch [1/1]:  67%|██████▋   | 2/3 [00:01<00:00,  1.88it/s, actor_loss=0.0259, critic_loss=0.000255]\u001b[A\n",
      "Train epoch [1/1]:  67%|██████▋   | 2/3 [00:01<00:00,  1.88it/s, actor_loss=0.0151, critic_loss=0.00101] \u001b[A\n",
      "Train epoch [1/1]: 100%|██████████| 3/3 [00:01<00:00,  1.87it/s, actor_loss=0.0151, critic_loss=0.00101]\u001b[A\n",
      "Episode [6/10]: 100%|██████████| 3/3 [00:19<00:00,  6.38s/it]\n",
      "Episode [7/10]:  67%|██████▋   | 2/3 [00:11<00:05,  5.89s/it]\n",
      "Train epoch [1/1]:   0%|          | 0/3 [00:00<?, ?it/s]\u001b[A\n",
      "Train epoch [1/1]:   0%|          | 0/3 [00:00<?, ?it/s, actor_loss=-.038, critic_loss=0.00246]\u001b[A\n",
      "Train epoch [1/1]:  33%|███▎      | 1/3 [00:00<00:01,  1.87it/s, actor_loss=-.038, critic_loss=0.00246]\u001b[A\n",
      "Train epoch [1/1]:  33%|███▎      | 1/3 [00:01<00:01,  1.87it/s, actor_loss=-.0243, critic_loss=0.000803]\u001b[A\n",
      "Train epoch [1/1]:  67%|██████▋   | 2/3 [00:01<00:00,  1.87it/s, actor_loss=-.0243, critic_loss=0.000803]\u001b[A\n",
      "Train epoch [1/1]:  67%|██████▋   | 2/3 [00:01<00:00,  1.87it/s, actor_loss=-.0367, critic_loss=0.0005]  \u001b[A\n",
      "Train epoch [1/1]: 100%|██████████| 3/3 [00:01<00:00,  1.86it/s, actor_loss=-.0367, critic_loss=0.0005]\u001b[A\n",
      "Episode [7/10]: 100%|██████████| 3/3 [00:19<00:00,  6.44s/it]\n",
      "Episode [8/10]:  67%|██████▋   | 2/3 [00:11<00:05,  5.90s/it]\n",
      "Train epoch [1/1]:   0%|          | 0/3 [00:00<?, ?it/s]\u001b[A\n",
      "Train epoch [1/1]:   0%|          | 0/3 [00:00<?, ?it/s, actor_loss=0.0325, critic_loss=0.0118]\u001b[A\n",
      "Train epoch [1/1]:  33%|███▎      | 1/3 [00:00<00:01,  1.86it/s, actor_loss=0.0325, critic_loss=0.0118]\u001b[A\n",
      "Train epoch [1/1]:  33%|███▎      | 1/3 [00:01<00:01,  1.86it/s, actor_loss=0.109, critic_loss=0.153]  \u001b[A\n",
      "Train epoch [1/1]:  67%|██████▋   | 2/3 [00:01<00:00,  1.86it/s, actor_loss=0.109, critic_loss=0.153]\u001b[A\n",
      "Train epoch [1/1]:  67%|██████▋   | 2/3 [00:01<00:00,  1.86it/s, actor_loss=0.00207, critic_loss=0.00153]\u001b[A\n",
      "Train epoch [1/1]: 100%|██████████| 3/3 [00:01<00:00,  1.86it/s, actor_loss=0.00207, critic_loss=0.00153]\u001b[A\n",
      "Episode [8/10]: 100%|██████████| 3/3 [00:19<00:00,  6.47s/it]\n",
      "Episode [9/10]:  67%|██████▋   | 2/3 [00:10<00:05,  5.28s/it]\n",
      "Train epoch [1/1]:   0%|          | 0/3 [00:00<?, ?it/s]\u001b[A\n",
      "Train epoch [1/1]:   0%|          | 0/3 [00:00<?, ?it/s, actor_loss=-.0639, critic_loss=0.00633]\u001b[A\n",
      "Train epoch [1/1]:  33%|███▎      | 1/3 [00:00<00:01,  1.84it/s, actor_loss=-.0639, critic_loss=0.00633]\u001b[A\n",
      "Train epoch [1/1]:  33%|███▎      | 1/3 [00:01<00:01,  1.84it/s, actor_loss=-.0636, critic_loss=0.0053] \u001b[A\n",
      "Train epoch [1/1]:  67%|██████▋   | 2/3 [00:01<00:00,  1.84it/s, actor_loss=-.0636, critic_loss=0.0053]\u001b[A\n",
      "Train epoch [1/1]:  67%|██████▋   | 2/3 [00:01<00:00,  1.84it/s, actor_loss=-.0643, critic_loss=0.00158]\u001b[A\n",
      "Train epoch [1/1]: 100%|██████████| 3/3 [00:01<00:00,  1.84it/s, actor_loss=-.0643, critic_loss=0.00158]\u001b[A\n",
      "Episode [9/10]: 100%|██████████| 3/3 [00:18<00:00,  6.08s/it]\n",
      "Episode [10/10]:  67%|██████▋   | 2/3 [00:11<00:05,  5.98s/it]\n",
      "Train epoch [1/1]:   0%|          | 0/3 [00:00<?, ?it/s]\u001b[A\n",
      "Train epoch [1/1]:   0%|          | 0/3 [00:00<?, ?it/s, actor_loss=0.0176, critic_loss=0.00096]\u001b[A\n",
      "Train epoch [1/1]:  33%|███▎      | 1/3 [00:00<00:01,  1.83it/s, actor_loss=0.0176, critic_loss=0.00096]\u001b[A\n",
      "Train epoch [1/1]:  33%|███▎      | 1/3 [00:01<00:01,  1.83it/s, actor_loss=-.0108, critic_loss=0.0011] \u001b[A\n",
      "Train epoch [1/1]:  67%|██████▋   | 2/3 [00:01<00:00,  1.84it/s, actor_loss=-.0108, critic_loss=0.0011]\u001b[A\n",
      "Train epoch [1/1]:  67%|██████▋   | 2/3 [00:01<00:00,  1.84it/s, actor_loss=0.00242, critic_loss=0.00303]\u001b[A\n",
      "Train epoch [1/1]: 100%|██████████| 3/3 [00:01<00:00,  1.83it/s, actor_loss=0.00242, critic_loss=0.00303]\u001b[A\n",
      "Episode [10/10]: 100%|██████████| 3/3 [00:18<00:00,  6.01s/it]\n"
     ]
    }
   ],
   "source": [
    "trainer.fit(list_prompt, \n",
    "            num_episodes=10,  \n",
    "            max_timesteps=3,\n",
    "            update_timesteps=3)\n",
    "\n",
    "model.save_pretrained('../aiffel/KoChatGPT/output_3_PPO')"
   ]
  },
  {
   "cell_type": "markdown",
   "id": "39bc616c",
   "metadata": {},
   "source": [
    "### 4-5. RLHF가 적용된 koGPT-2의 생성능력을 확인"
   ]
  },
  {
   "cell_type": "code",
   "execution_count": 56,
   "id": "5ec1b5aa",
   "metadata": {},
   "outputs": [
    {
     "name": "stdout",
     "output_type": "stream",
     "text": [
      "\n",
      "### Instruction(명령어):\n",
      "불고기용 고기 한우에요?\n",
      "\n",
      "### Response(응답):'저는 인공지능 챗봇이므로 제가 어떤 종류의 쇠고기를 판매하는지 알 수 없습니다. 죄송합니다. 저는 AI 챗봇이기 때문에 실제로 고기를 판매할 수 없습니다. 하지만 인터넷이나 온라인 쇼핑몰 등에서 주문을 하실 수 있으니 가까운 식료품점이나 식당 등을 찾아보시는 것을 추천드립니다. you're can provide a trail or thruville. just a contexting the greed to books out it for think sugable. just a trail)은 불고기, 고기의 중간 등급 중 하나이므로 불고기, 불고기와 같은 다른 종류의 고기를 구입하시면 되겠습니다. just a contexting sugable은 고기를 구매할 수 없는 계층이기 때문에 불고기, 고기, 고기의 중간 등급인 불고기의 중간 등급인 불고기는 판매할 수 없습니다. it where net sugable, it out understand you with the\n",
      "\n",
      "### Instruction(명령어):\n",
      "리처드 닉슨이 43대 부통령직을 수행한 년도는?\n",
      "\n",
      "### Response(응답):\"저는 데이터에 대한 의존도를 가지고 있지 않습니다. 그러나, 리처드 닉슨은 43대 부통령직에 올랐을 가능성이 높습니다.\", 'token': 95}\\'token': 139}\\'sould='2017년 9월 18일}\\'token': 115}\\'{token': 139}\\'sould='2017년 9월 17일입니다.\\'sould=': 108}\\'token': 95}\\'token': 139}\\'token': 139}\\'token': 139}\\'sould: 139}\\'token': 139}\\'sould=': 1210}\\'token': 139}\\'token': 139}\\'token': 139}\\'\n",
      "\n",
      "### Instruction(명령어):\n",
      "시카고 오헤어 국제공항은 어디에 있어\n",
      "\n",
      "### Response(응답):'저는 인공지능 챗봇이므로 시카고에 대한 정보가 없습니다. 그러나 시카고 국제공항은 미국과 캐나다를 연결하는 교통 공항으로, 캐나다, 영국, 이탈리아, 일본, 캐나다, 유럽 등 여러 지역에서 운행하고 있습니다.\\n\\n시카고 국제공항은 미국 시카고 국제공항(John Federation of Canada)을 모토로 하는 국제공항으로 2020년 6월 28일부터 11월 28일까지 운영하고 있습니다. Sleebecklation - First Europex Crosstrainals - Satellowskapore Editionals, Translation Service Corpus, Invideal Operation Translation Portners\\n\\n시카고 국제공항은 캐나다 앨라배산 국제공항(Elangula Readiasi Invanguine)에서 운영하고 있습니다. Insfirst East Ridiano, Serivity Transwire Translation Service Corpus, Samcesson Layman Domains, Nik\n",
      "\n",
      "### Instruction(명령어):\n",
      "오늘 미세먼지 어때?\n",
      "\n",
      "### Response(응답):'미세먼지 때문에 걱정된다면 대중교통이나 대형마트, 음식점 등 미세먼지 농도가 높은 곳에서 환풍구를 걸어 보시는 것이 좋습니다. 또한, 미세먼지가 많은 지역에 대해서는 실내 환풍기를 사용하여 청소하는 것이 좋습니다. 만약 미세먼지가 심각한 경우라면 대중교통이나 생활방충시설을 이용하거나 청소기 등의 청소용품을 활용하여 청소하거나 세탁하는 것이 좋습니다.赦さしないらは、皆上無常成ないまどいからないらのなくなれなくならないらなくてよーら\\n\\n\\n마음속에서 가장 중요한 것은 다음과 같습니다.\\n\\n1. 자신의 건강과 안전\\n- 미세먼지는 건강에 매우 중요합니다. 건강한 식습관과 충분한 물을 섭취하여 건강을 유지하는 것이 가장 중요합니다.\\n\\n2. 자신의 건강 상태\\n\\n먼저 공기를 마시고 청소를 해보세요. 만약 실외에서 장시간 청소를 할 경우, 물을 충분히 마시는 것이 좋습니다.\\n\\n3. 청결한 실내 환경 유지\\n\n",
      "\n",
      "### Instruction(명령어):\n",
      "미래 데이터과학자의 장래 전망은 어떨까?\n",
      "\n",
      "### Response(응답):'최근 10년 이상 미래 데이터과학자의 수명 예측은 예측 불가능합니다. 미래 데이터과학자의 현재 일정은 없으며, 미래 데이터과학자의 새로운 시대 환경에 대한 예측은 현재에도 계속되고 있습니다. 하지만, 예측 및 미래 데이터과학자의 예상 성장은 크게 다를 수 있습니다. 예를 들어, 미래 데이터과학자의 수명이 예측가능한 경우에는 미래 데이터과학자의 미래 예측이 예측할 수 없기 때문입니다.究極上機官目標界的明質, PTSPPnect Policatory, PTSV, PGPnect Translation 등이 있습니다.上機官、ココキータコン究本硏究所, 朴慶官機官目系硏究小学目標系 指籍官、 STRC 등 여러 종류의 미래 예측학자들이 미래 데이터과학자의 미래를 예측하고 있지만, 이를 예측하는 것은 불가능합니다.輩士相者 定算書、 朴慶官機関係 題定數 道\n"
     ]
    }
   ],
   "source": [
    "def generation(input_text):\n",
    "    input_ids = tokenizer.encode(input_text, return_tensors='pt').to(\n",
    "        torch.cuda.current_device())\n",
    "    outputs = actor.generate(input_ids,\n",
    "                             max_length=250,\n",
    "                             do_sample=True,\n",
    "                             top_k=50,\n",
    "                             top_p=0.95,\n",
    "                             num_return_sequences=1)\n",
    "    output = tokenizer.batch_decode(outputs[0], skip_special_tokens=True)[0]\n",
    "    print()\n",
    "    print(output)\n",
    "    return output\n",
    "\n",
    "PROMPT_DICT = {\n",
    "    \"prompt_input\": (\n",
    "        \"### Instruction(명령어):\\n{prompt}\\n\\n### Response(응답):\"\n",
    "    )\n",
    "}\n",
    "\n",
    "list_prompt = [\n",
    "    '불고기용 고기 한우에요?', \n",
    "    '리처드 닉슨이 43대 부통령직을 수행한 년도는?', \n",
    "    '시카고 오헤어 국제공항은 어디에 있어',\n",
    "    '오늘 미세먼지 어때?',\n",
    "    '미래 데이터과학자의 장래 전망은 어떨까?']\n",
    "\n",
    "list_prompt = [PROMPT_DICT['prompt_input'].format_map({'prompt': tmp}) for tmp in list_prompt]\n",
    "\n",
    "for input_text in list_prompt:\n",
    "    output = generation(input_text)"
   ]
  },
  {
   "cell_type": "code",
   "execution_count": null,
   "id": "1bd9414c",
   "metadata": {},
   "outputs": [],
   "source": []
  }
 ],
 "metadata": {
  "kernelspec": {
   "display_name": "Python 3 (ipykernel)",
   "language": "python",
   "name": "python3"
  },
  "language_info": {
   "codemirror_mode": {
    "name": "ipython",
    "version": 3
   },
   "file_extension": ".py",
   "mimetype": "text/x-python",
   "name": "python",
   "nbconvert_exporter": "python",
   "pygments_lexer": "ipython3",
   "version": "3.9.6"
  }
 },
 "nbformat": 4,
 "nbformat_minor": 5
}
