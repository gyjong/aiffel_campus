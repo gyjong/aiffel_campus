{
 "cells": [
  {
   "cell_type": "markdown",
   "metadata": {},
   "source": [
    "# 1- Import libraries"
   ]
  },
  {
   "cell_type": "code",
   "execution_count": 1,
   "metadata": {},
   "outputs": [
    {
     "name": "stderr",
     "output_type": "stream",
     "text": [
      "/Users/kenny_jung/Library/Python/3.9/lib/python/site-packages/urllib3/__init__.py:34: NotOpenSSLWarning: urllib3 v2 only supports OpenSSL 1.1.1+, currently the 'ssl' module is compiled with 'LibreSSL 2.8.3'. See: https://github.com/urllib3/urllib3/issues/3020\n",
      "  warnings.warn(\n"
     ]
    },
    {
     "name": "stdout",
     "output_type": "stream",
     "text": [
      "2.15.1\n",
      "1.26.3\n",
      "4.38.2\n",
      "2.18.0\n"
     ]
    }
   ],
   "source": [
    "import tensorflow\n",
    "import numpy\n",
    "import transformers\n",
    "import datasets\n",
    "import pandas as pd\n",
    "\n",
    "print(tensorflow.__version__)\n",
    "print(numpy.__version__)\n",
    "print(transformers.__version__)\n",
    "print(datasets.__version__)"
   ]
  },
  {
   "cell_type": "markdown",
   "metadata": {},
   "source": [
    "# 2- Loading dataset"
   ]
  },
  {
   "cell_type": "code",
   "execution_count": 2,
   "metadata": {},
   "outputs": [],
   "source": [
    "import datasets\n",
    "from datasets import load_dataset\n",
    "\n",
    "nsmc = datasets.load_dataset(\"nsmc\")"
   ]
  },
  {
   "cell_type": "code",
   "execution_count": 3,
   "metadata": {},
   "outputs": [
    {
     "name": "stdout",
     "output_type": "stream",
     "text": [
      "DatasetDict({\n",
      "    train: Dataset({\n",
      "        features: ['id', 'document', 'label'],\n",
      "        num_rows: 150000\n",
      "    })\n",
      "    test: Dataset({\n",
      "        features: ['id', 'document', 'label'],\n",
      "        num_rows: 50000\n",
      "    })\n",
      "})\n"
     ]
    }
   ],
   "source": [
    "print(nsmc)"
   ]
  },
  {
   "cell_type": "code",
   "execution_count": 4,
   "metadata": {},
   "outputs": [
    {
     "name": "stdout",
     "output_type": "stream",
     "text": [
      "{'id': '9976970', 'document': '아 더빙.. 진짜 짜증나네요 목소리', 'label': 0}\n",
      "{'id': '9727606', 'document': '꽤 재밌게 본 영화였다!', 'label': 1}\n"
     ]
    }
   ],
   "source": [
    "# display sample data in nsmc dataset\n",
    "print(nsmc['train'][0])\n",
    "print(nsmc['test'][22])"
   ]
  },
  {
   "cell_type": "markdown",
   "metadata": {},
   "source": [
    "# 3- Tokenizer and Model"
   ]
  },
  {
   "cell_type": "code",
   "execution_count": 6,
   "metadata": {},
   "outputs": [
    {
     "name": "stderr",
     "output_type": "stream",
     "text": [
      "Some weights of BertForSequenceClassification were not initialized from the model checkpoint at klue/bert-base and are newly initialized: ['classifier.bias', 'classifier.weight']\n",
      "You should probably TRAIN this model on a down-stream task to be able to use it for predictions and inference.\n"
     ]
    }
   ],
   "source": [
    "from transformers import AutoModelForSequenceClassification, AutoTokenizer\n",
    "\n",
    "# 모델 정의 (2개의 레이블을 가진 분류 문제에 적합한 구조)\n",
    "model = AutoModelForSequenceClassification.from_pretrained(\"klue/bert-base\", num_labels=2)\n",
    "tokenizer = AutoTokenizer.from_pretrained(\"klue/bert-base\")"
   ]
  },
  {
   "cell_type": "markdown",
   "metadata": {},
   "source": [
    "# 4- Tokenizer"
   ]
  },
  {
   "cell_type": "code",
   "execution_count": 17,
   "metadata": {},
   "outputs": [
    {
     "data": {
      "application/vnd.jupyter.widget-view+json": {
       "model_id": "cb265e4ca9f742b9966f8d854318b8a4",
       "version_major": 2,
       "version_minor": 0
      },
      "text/plain": [
       "Map:   0%|          | 0/140000 [00:00<?, ? examples/s]"
      ]
     },
     "metadata": {},
     "output_type": "display_data"
    },
    {
     "data": {
      "application/vnd.jupyter.widget-view+json": {
       "model_id": "ee3dd71667e34788a06f844aa4ca7825",
       "version_major": 2,
       "version_minor": 0
      },
      "text/plain": [
       "Map:   0%|          | 0/10000 [00:00<?, ? examples/s]"
      ]
     },
     "metadata": {},
     "output_type": "display_data"
    },
    {
     "data": {
      "application/vnd.jupyter.widget-view+json": {
       "model_id": "58dad94d378a4d9c8a6d8669839d9b2e",
       "version_major": 2,
       "version_minor": 0
      },
      "text/plain": [
       "Map:   0%|          | 0/50000 [00:00<?, ? examples/s]"
      ]
     },
     "metadata": {},
     "output_type": "display_data"
    },
    {
     "name": "stdout",
     "output_type": "stream",
     "text": [
      "토크나이즈된 데이터셋: DatasetDict({\n",
      "    train: Dataset({\n",
      "        features: ['id', 'document', 'label', 'input_ids', 'token_type_ids', 'attention_mask'],\n",
      "        num_rows: 140000\n",
      "    })\n",
      "    validation: Dataset({\n",
      "        features: ['id', 'document', 'label', 'input_ids', 'token_type_ids', 'attention_mask'],\n",
      "        num_rows: 10000\n",
      "    })\n",
      "    test: Dataset({\n",
      "        features: ['id', 'document', 'label', 'input_ids', 'token_type_ids', 'attention_mask'],\n",
      "        num_rows: 50000\n",
      "    })\n",
      "})\n"
     ]
    }
   ],
   "source": [
    "from datasets import DatasetDict\n",
    "\n",
    "# 훈련 데이터셋에서 처음 10,000개를 검증 데이터셋으로 분리\n",
    "nsmc_val = nsmc['train'].select(range(10000))\n",
    "nsmc_train = nsmc['train'].select(range(10000, nsmc['train'].num_rows))\n",
    "\n",
    "# 새로운 데이터셋 구조 생성\n",
    "split_dataset = DatasetDict({\n",
    "    'train': nsmc_train,\n",
    "    'validation': nsmc_val,\n",
    "    'test': nsmc['test']\n",
    "})\n",
    "\n",
    "# 토크나이즈 함수 정의\n",
    "def tokenize_function(examples):\n",
    "    return tokenizer(examples['document'], padding=True, truncation=True, max_length=30)\n",
    "\n",
    "# 데이터셋에 토크나이즈 함수 적용\n",
    "tokenized_datasets = split_dataset.map(tokenize_function, batched=True)\n",
    "\n",
    "# 결과 출력\n",
    "print(\"토크나이즈된 데이터셋:\", tokenized_datasets)"
   ]
  },
  {
   "cell_type": "code",
   "execution_count": 18,
   "metadata": {},
   "outputs": [
    {
     "name": "stdout",
     "output_type": "stream",
     "text": [
      "{'id': '7424174', 'document': '완전 재밌음!!!!!! 극본 탄탄 워낙에 원작이 좋으니 ㅠㅠ 게다가 연극배우들의 호연연출도 너무 좋아요 종편의 좋은예날림편집도 아니고 생방송으로 찍는 것도 아니고진짜 예상외 고퀄리티', 'label': 1, 'input_ids': [2, 5124, 7478, 2053, 5, 5, 5, 5, 5, 5, 18632, 9110, 7020, 2170, 9990, 2052, 1560, 5882, 6516, 5560, 5909, 9736, 2031, 2079, 1926, 2156, 2156, 2102, 2119, 3], 'token_type_ids': [0, 0, 0, 0, 0, 0, 0, 0, 0, 0, 0, 0, 0, 0, 0, 0, 0, 0, 0, 0, 0, 0, 0, 0, 0, 0, 0, 0, 0, 0], 'attention_mask': [1, 1, 1, 1, 1, 1, 1, 1, 1, 1, 1, 1, 1, 1, 1, 1, 1, 1, 1, 1, 1, 1, 1, 1, 1, 1, 1, 1, 1, 1]}\n",
      "{'id': '10044377', 'document': '신카이 마코토의 작화와,미유와 하나카나가 연기를 잘해줘서 더대박이였다.', 'label': 1, 'input_ids': [2, 1327, 25219, 1036, 2258, 2386, 2079, 1518, 2267, 2522, 16, 1107, 2298, 2522, 3657, 2127, 16570, 4483, 2138, 1521, 2097, 2810, 2112, 831, 2104, 12756, 2507, 2062, 18, 3], 'token_type_ids': [0, 0, 0, 0, 0, 0, 0, 0, 0, 0, 0, 0, 0, 0, 0, 0, 0, 0, 0, 0, 0, 0, 0, 0, 0, 0, 0, 0, 0, 0], 'attention_mask': [1, 1, 1, 1, 1, 1, 1, 1, 1, 1, 1, 1, 1, 1, 1, 1, 1, 1, 1, 1, 1, 1, 1, 1, 1, 1, 1, 1, 1, 1]}\n",
      "{'id': '1449086', 'document': '걸작은 몇안되고 졸작들만 넘쳐난다.', 'label': 0, 'input_ids': [2, 19777, 2073, 1077, 2283, 2496, 2088, 1555, 2333, 2031, 2154, 10402, 5545, 18, 3, 0, 0, 0, 0, 0, 0, 0, 0, 0, 0, 0, 0, 0, 0, 0], 'token_type_ids': [0, 0, 0, 0, 0, 0, 0, 0, 0, 0, 0, 0, 0, 0, 0, 0, 0, 0, 0, 0, 0, 0, 0, 0, 0, 0, 0, 0, 0, 0], 'attention_mask': [1, 1, 1, 1, 1, 1, 1, 1, 1, 1, 1, 1, 1, 1, 1, 0, 0, 0, 0, 0, 0, 0, 0, 0, 0, 0, 0, 0, 0, 0]}\n"
     ]
    }
   ],
   "source": [
    "# display sample data in nsmc dataset\n",
    "print(tokenized_datasets['train'][100])\n",
    "print(tokenized_datasets['validation'][100])\n",
    "print(tokenized_datasets['test'][100])"
   ]
  },
  {
   "cell_type": "markdown",
   "metadata": {},
   "source": [
    "# 5- TrainingArguments, Trainer, Train"
   ]
  },
  {
   "cell_type": "code",
   "execution_count": 19,
   "metadata": {},
   "outputs": [
    {
     "name": "stderr",
     "output_type": "stream",
     "text": [
      "/Users/kenny_jung/Library/Python/3.9/lib/python/site-packages/datasets/load.py:756: FutureWarning: The repository for accuracy contains custom code which must be executed to correctly load the metric. You can inspect the repository content at https://raw.githubusercontent.com/huggingface/datasets/2.18.0/metrics/accuracy/accuracy.py\n",
      "You can avoid this message in future by passing the argument `trust_remote_code=True`.\n",
      "Passing `trust_remote_code=True` will be mandatory to load this metric from the next major release of `datasets`.\n",
      "  warnings.warn(\n",
      "/Users/kenny_jung/Library/Python/3.9/lib/python/site-packages/accelerate/accelerator.py:432: FutureWarning: Passing the following arguments to `Accelerator` is deprecated and will be removed in version 1.0 of Accelerate: dict_keys(['dispatch_batches', 'split_batches', 'even_batches', 'use_seedable_sampler']). Please pass an `accelerate.DataLoaderConfiguration` instead: \n",
      "dataloader_config = DataLoaderConfiguration(dispatch_batches=None, split_batches=False, even_batches=True, use_seedable_sampler=True)\n",
      "  warnings.warn(\n"
     ]
    },
    {
     "data": {
      "application/vnd.jupyter.widget-view+json": {
       "model_id": "00c0d6ab44db43a4bc555a90a8cb6b1d",
       "version_major": 2,
       "version_minor": 0
      },
      "text/plain": [
       "  0%|          | 0/6564 [00:00<?, ?it/s]"
      ]
     },
     "metadata": {},
     "output_type": "display_data"
    },
    {
     "name": "stdout",
     "output_type": "stream",
     "text": [
      "{'loss': 0.2607, 'grad_norm': 4.429640769958496, 'learning_rate': 5e-05, 'epoch': 0.23}\n",
      "{'loss': 0.307, 'grad_norm': 2.5545895099639893, 'learning_rate': 4.587730870712401e-05, 'epoch': 0.46}\n",
      "{'loss': 0.2773, 'grad_norm': 4.389836311340332, 'learning_rate': 4.1754617414248024e-05, 'epoch': 0.69}\n",
      "{'loss': 0.2739, 'grad_norm': 2.9800498485565186, 'learning_rate': 3.7631926121372034e-05, 'epoch': 0.91}\n"
     ]
    },
    {
     "data": {
      "application/vnd.jupyter.widget-view+json": {
       "model_id": "7d4aa27462ec40c2b2592ee34961c6d1",
       "version_major": 2,
       "version_minor": 0
      },
      "text/plain": [
       "  0%|          | 0/157 [00:00<?, ?it/s]"
      ]
     },
     "metadata": {},
     "output_type": "display_data"
    },
    {
     "name": "stdout",
     "output_type": "stream",
     "text": [
      "{'eval_loss': 0.2649264931678772, 'eval_accuracy': 0.8906, 'eval_runtime': 13.323, 'eval_samples_per_second': 750.582, 'eval_steps_per_second': 11.784, 'epoch': 1.0}\n",
      "{'loss': 0.2137, 'grad_norm': 2.730454683303833, 'learning_rate': 3.3509234828496045e-05, 'epoch': 1.14}\n",
      "{'loss': 0.1857, 'grad_norm': 3.0903496742248535, 'learning_rate': 2.9386543535620053e-05, 'epoch': 1.37}\n",
      "{'loss': 0.1796, 'grad_norm': 5.273860454559326, 'learning_rate': 2.5263852242744063e-05, 'epoch': 1.6}\n",
      "{'loss': 0.1845, 'grad_norm': 2.561957597732544, 'learning_rate': 2.1141160949868074e-05, 'epoch': 1.83}\n"
     ]
    },
    {
     "data": {
      "application/vnd.jupyter.widget-view+json": {
       "model_id": "6bbcd2938c37428581d1031a448b7c0d",
       "version_major": 2,
       "version_minor": 0
      },
      "text/plain": [
       "  0%|          | 0/157 [00:00<?, ?it/s]"
      ]
     },
     "metadata": {},
     "output_type": "display_data"
    },
    {
     "name": "stdout",
     "output_type": "stream",
     "text": [
      "{'eval_loss': 0.2690999507904053, 'eval_accuracy': 0.8996, 'eval_runtime': 11.7602, 'eval_samples_per_second': 850.324, 'eval_steps_per_second': 13.35, 'epoch': 2.0}\n",
      "{'loss': 0.1626, 'grad_norm': 2.925692558288574, 'learning_rate': 1.7018469656992088e-05, 'epoch': 2.06}\n",
      "{'loss': 0.0993, 'grad_norm': 4.088841915130615, 'learning_rate': 1.2895778364116095e-05, 'epoch': 2.29}\n",
      "{'loss': 0.0972, 'grad_norm': 6.135788917541504, 'learning_rate': 8.773087071240106e-06, 'epoch': 2.51}\n",
      "{'loss': 0.0949, 'grad_norm': 4.127559661865234, 'learning_rate': 4.650395778364117e-06, 'epoch': 2.74}\n",
      "{'loss': 0.0947, 'grad_norm': 4.724252700805664, 'learning_rate': 5.277044854881267e-07, 'epoch': 2.97}\n"
     ]
    },
    {
     "data": {
      "application/vnd.jupyter.widget-view+json": {
       "model_id": "9aa3e1f0535a4ae683a4edea90d6260b",
       "version_major": 2,
       "version_minor": 0
      },
      "text/plain": [
       "  0%|          | 0/157 [00:00<?, ?it/s]"
      ]
     },
     "metadata": {},
     "output_type": "display_data"
    },
    {
     "name": "stdout",
     "output_type": "stream",
     "text": [
      "{'eval_loss': 0.3486613631248474, 'eval_accuracy': 0.8979, 'eval_runtime': 11.7282, 'eval_samples_per_second': 852.648, 'eval_steps_per_second': 13.387, 'epoch': 3.0}\n",
      "{'train_runtime': 2414.2819, 'train_samples_per_second': 173.965, 'train_steps_per_second': 2.719, 'train_loss': 0.18605261143934865, 'epoch': 3.0}\n"
     ]
    },
    {
     "data": {
      "text/plain": [
       "TrainOutput(global_step=6564, training_loss=0.18605261143934865, metrics={'train_runtime': 2414.2819, 'train_samples_per_second': 173.965, 'train_steps_per_second': 2.719, 'train_loss': 0.18605261143934865, 'epoch': 3.0})"
      ]
     },
     "execution_count": 19,
     "metadata": {},
     "output_type": "execute_result"
    }
   ],
   "source": [
    "from transformers import TrainingArguments, Trainer\n",
    "from datasets import load_metric\n",
    "import numpy as np\n",
    "\n",
    "metric = load_metric('accuracy')\n",
    "\n",
    "def compute_metrics(eval_pred):    \n",
    "    predictions,labels = eval_pred\n",
    "    predictions = np.argmax(predictions, axis=1)\n",
    "    return metric.compute(predictions=predictions, references = labels)\n",
    "\n",
    "output_dir = '/Users/kenny_jung/aiffel/data/nsmc_transformer'\n",
    "\n",
    "# TrainingArguments 설정: 학습 관련 설정 지정\n",
    "training_args = TrainingArguments(\n",
    "    output_dir=output_dir,          # 결과(모델 체크포인트 등) 저장 경로\n",
    "    num_train_epochs=3,              # 에폭 수\n",
    "    per_device_train_batch_size=64,   # 디바이스 당 훈련 배치 크기\n",
    "    per_device_eval_batch_size=64,    # 디바이스 당 평가 배치 크기\n",
    "    warmup_steps=500,                # 학습률 웜업에 사용되는 학습 스텝 수\n",
    "    weight_decay=0.01,               # 가중치 감쇠\n",
    "    evaluation_strategy='epoch',     # 평가 전략 (각 에폭마다 평가)\n",
    "    logging_dir='./logs',            # 로깅 파일 저장 경로\n",
    "    # fp16=True,  # fp16 활성화\n",
    "    # gradient_accumulation_steps=2,  # 그래디언트 축적\n",
    "    # dataloader_num_workers=8,  # 데이터 로딩에 사용할 프로세스 수\n",
    ")\n",
    "\n",
    "# Trainer 생성: 모델, 학습 설정, 데이터셋 지정\n",
    "trainer = Trainer(\n",
    "    model=model,                       # 모델 객체\n",
    "    args=training_args,                # 학습 설정\n",
    "    train_dataset=tokenized_datasets['train'],  # 훈련 데이터셋\n",
    "    eval_dataset=tokenized_datasets['validation'],  # 평가 데이터셋\n",
    "    compute_metrics=compute_metrics,   # 메트릭 계산 함수\n",
    ")\n",
    "\n",
    "trainer.train()\n"
   ]
  },
  {
   "cell_type": "markdown",
   "metadata": {},
   "source": [
    "# 6- Evaluation"
   ]
  },
  {
   "cell_type": "code",
   "execution_count": 20,
   "metadata": {},
   "outputs": [
    {
     "data": {
      "application/vnd.jupyter.widget-view+json": {
       "model_id": "9a846a86615d447294b1b098dabd9aaf",
       "version_major": 2,
       "version_minor": 0
      },
      "text/plain": [
       "  0%|          | 0/782 [00:00<?, ?it/s]"
      ]
     },
     "metadata": {},
     "output_type": "display_data"
    },
    {
     "name": "stdout",
     "output_type": "stream",
     "text": [
      "{'eval_loss': 0.34507355093955994, 'eval_accuracy': 0.89782, 'eval_runtime': 68.6014, 'eval_samples_per_second': 728.848, 'eval_steps_per_second': 11.399, 'epoch': 3.0}\n"
     ]
    }
   ],
   "source": [
    "# 테스트 데이터셋을 사용하여 모델 평가\n",
    "test_result = trainer.evaluate(tokenized_datasets['test'])\n",
    "\n",
    "# 평가 결과 출력\n",
    "print(test_result)"
   ]
  },
  {
   "cell_type": "markdown",
   "metadata": {},
   "source": [
    "# 7- Bucketing, Dynamic Padding"
   ]
  },
  {
   "cell_type": "code",
   "execution_count": 22,
   "metadata": {},
   "outputs": [
    {
     "name": "stderr",
     "output_type": "stream",
     "text": [
      "/Users/kenny_jung/Library/Python/3.9/lib/python/site-packages/accelerate/accelerator.py:432: FutureWarning: Passing the following arguments to `Accelerator` is deprecated and will be removed in version 1.0 of Accelerate: dict_keys(['dispatch_batches', 'split_batches', 'even_batches', 'use_seedable_sampler']). Please pass an `accelerate.DataLoaderConfiguration` instead: \n",
      "dataloader_config = DataLoaderConfiguration(dispatch_batches=None, split_batches=False, even_batches=True, use_seedable_sampler=True)\n",
      "  warnings.warn(\n"
     ]
    },
    {
     "data": {
      "application/vnd.jupyter.widget-view+json": {
       "model_id": "6a7f11f8d6614fbf9bfb8e052b27f3c6",
       "version_major": 2,
       "version_minor": 0
      },
      "text/plain": [
       "  0%|          | 0/6564 [00:00<?, ?it/s]"
      ]
     },
     "metadata": {},
     "output_type": "display_data"
    },
    {
     "name": "stderr",
     "output_type": "stream",
     "text": [
      "Checkpoint destination directory /Users/kenny_jung/aiffel/data/nsmc_transformer/checkpoint-500 already exists and is non-empty. Saving will proceed but saved results may be invalid.\n"
     ]
    },
    {
     "name": "stdout",
     "output_type": "stream",
     "text": [
      "{'loss': 0.036, 'grad_norm': 5.498893737792969, 'learning_rate': 5e-05, 'epoch': 0.23}\n"
     ]
    },
    {
     "name": "stderr",
     "output_type": "stream",
     "text": [
      "Checkpoint destination directory /Users/kenny_jung/aiffel/data/nsmc_transformer/checkpoint-1000 already exists and is non-empty. Saving will proceed but saved results may be invalid.\n"
     ]
    },
    {
     "name": "stdout",
     "output_type": "stream",
     "text": [
      "{'loss': 0.0542, 'grad_norm': 0.17856967449188232, 'learning_rate': 4.587730870712401e-05, 'epoch': 0.46}\n"
     ]
    },
    {
     "name": "stderr",
     "output_type": "stream",
     "text": [
      "Checkpoint destination directory /Users/kenny_jung/aiffel/data/nsmc_transformer/checkpoint-1500 already exists and is non-empty. Saving will proceed but saved results may be invalid.\n"
     ]
    },
    {
     "name": "stdout",
     "output_type": "stream",
     "text": [
      "{'loss': 0.0565, 'grad_norm': 1.2704957723617554, 'learning_rate': 4.1754617414248024e-05, 'epoch': 0.69}\n"
     ]
    },
    {
     "name": "stderr",
     "output_type": "stream",
     "text": [
      "Checkpoint destination directory /Users/kenny_jung/aiffel/data/nsmc_transformer/checkpoint-2000 already exists and is non-empty. Saving will proceed but saved results may be invalid.\n"
     ]
    },
    {
     "name": "stdout",
     "output_type": "stream",
     "text": [
      "{'loss': 0.0563, 'grad_norm': 3.0632383823394775, 'learning_rate': 3.7631926121372034e-05, 'epoch': 0.91}\n"
     ]
    },
    {
     "data": {
      "application/vnd.jupyter.widget-view+json": {
       "model_id": "1c6f04c3a7d64c5bbea5ddbe374bfd7e",
       "version_major": 2,
       "version_minor": 0
      },
      "text/plain": [
       "  0%|          | 0/157 [00:00<?, ?it/s]"
      ]
     },
     "metadata": {},
     "output_type": "display_data"
    },
    {
     "name": "stdout",
     "output_type": "stream",
     "text": [
      "{'eval_loss': 0.5306587815284729, 'eval_accuracy': 0.8854, 'eval_runtime': 12.3566, 'eval_samples_per_second': 809.285, 'eval_steps_per_second': 12.706, 'epoch': 1.0}\n"
     ]
    },
    {
     "name": "stderr",
     "output_type": "stream",
     "text": [
      "Checkpoint destination directory /Users/kenny_jung/aiffel/data/nsmc_transformer/checkpoint-2500 already exists and is non-empty. Saving will proceed but saved results may be invalid.\n"
     ]
    },
    {
     "name": "stdout",
     "output_type": "stream",
     "text": [
      "{'loss': 0.0487, 'grad_norm': 0.5476275682449341, 'learning_rate': 3.3509234828496045e-05, 'epoch': 1.14}\n"
     ]
    },
    {
     "name": "stderr",
     "output_type": "stream",
     "text": [
      "Checkpoint destination directory /Users/kenny_jung/aiffel/data/nsmc_transformer/checkpoint-3000 already exists and is non-empty. Saving will proceed but saved results may be invalid.\n"
     ]
    },
    {
     "name": "stdout",
     "output_type": "stream",
     "text": [
      "{'loss': 0.0478, 'grad_norm': 6.9563374519348145, 'learning_rate': 2.9386543535620053e-05, 'epoch': 1.37}\n"
     ]
    },
    {
     "name": "stderr",
     "output_type": "stream",
     "text": [
      "Checkpoint destination directory /Users/kenny_jung/aiffel/data/nsmc_transformer/checkpoint-3500 already exists and is non-empty. Saving will proceed but saved results may be invalid.\n"
     ]
    },
    {
     "name": "stdout",
     "output_type": "stream",
     "text": [
      "{'loss': 0.0441, 'grad_norm': 14.539857864379883, 'learning_rate': 2.5263852242744063e-05, 'epoch': 1.6}\n"
     ]
    },
    {
     "name": "stderr",
     "output_type": "stream",
     "text": [
      "Checkpoint destination directory /Users/kenny_jung/aiffel/data/nsmc_transformer/checkpoint-4000 already exists and is non-empty. Saving will proceed but saved results may be invalid.\n"
     ]
    },
    {
     "name": "stdout",
     "output_type": "stream",
     "text": [
      "{'loss': 0.0452, 'grad_norm': 1.9192602634429932, 'learning_rate': 2.1141160949868074e-05, 'epoch': 1.83}\n"
     ]
    },
    {
     "data": {
      "application/vnd.jupyter.widget-view+json": {
       "model_id": "87cc63e2c5604469b55e3a15f7ae366b",
       "version_major": 2,
       "version_minor": 0
      },
      "text/plain": [
       "  0%|          | 0/157 [00:00<?, ?it/s]"
      ]
     },
     "metadata": {},
     "output_type": "display_data"
    },
    {
     "name": "stdout",
     "output_type": "stream",
     "text": [
      "{'eval_loss': 0.548985481262207, 'eval_accuracy': 0.8929, 'eval_runtime': 12.4179, 'eval_samples_per_second': 805.286, 'eval_steps_per_second': 12.643, 'epoch': 2.0}\n"
     ]
    },
    {
     "name": "stderr",
     "output_type": "stream",
     "text": [
      "Checkpoint destination directory /Users/kenny_jung/aiffel/data/nsmc_transformer/checkpoint-4500 already exists and is non-empty. Saving will proceed but saved results may be invalid.\n"
     ]
    },
    {
     "name": "stdout",
     "output_type": "stream",
     "text": [
      "{'loss': 0.0407, 'grad_norm': 0.4755144715309143, 'learning_rate': 1.7018469656992088e-05, 'epoch': 2.06}\n"
     ]
    },
    {
     "name": "stderr",
     "output_type": "stream",
     "text": [
      "Checkpoint destination directory /Users/kenny_jung/aiffel/data/nsmc_transformer/checkpoint-5000 already exists and is non-empty. Saving will proceed but saved results may be invalid.\n"
     ]
    },
    {
     "name": "stdout",
     "output_type": "stream",
     "text": [
      "{'loss': 0.0303, 'grad_norm': 4.084561347961426, 'learning_rate': 1.2895778364116095e-05, 'epoch': 2.29}\n"
     ]
    },
    {
     "name": "stderr",
     "output_type": "stream",
     "text": [
      "Checkpoint destination directory /Users/kenny_jung/aiffel/data/nsmc_transformer/checkpoint-5500 already exists and is non-empty. Saving will proceed but saved results may be invalid.\n"
     ]
    },
    {
     "name": "stdout",
     "output_type": "stream",
     "text": [
      "{'loss': 0.0275, 'grad_norm': 11.744807243347168, 'learning_rate': 8.773087071240106e-06, 'epoch': 2.51}\n"
     ]
    },
    {
     "name": "stderr",
     "output_type": "stream",
     "text": [
      "Checkpoint destination directory /Users/kenny_jung/aiffel/data/nsmc_transformer/checkpoint-6000 already exists and is non-empty. Saving will proceed but saved results may be invalid.\n"
     ]
    },
    {
     "name": "stdout",
     "output_type": "stream",
     "text": [
      "{'loss': 0.0387, 'grad_norm': 0.3738650381565094, 'learning_rate': 4.650395778364117e-06, 'epoch': 2.74}\n"
     ]
    },
    {
     "name": "stderr",
     "output_type": "stream",
     "text": [
      "Checkpoint destination directory /Users/kenny_jung/aiffel/data/nsmc_transformer/checkpoint-6500 already exists and is non-empty. Saving will proceed but saved results may be invalid.\n"
     ]
    },
    {
     "name": "stdout",
     "output_type": "stream",
     "text": [
      "{'loss': 0.0368, 'grad_norm': 16.536075592041016, 'learning_rate': 5.277044854881267e-07, 'epoch': 2.97}\n"
     ]
    },
    {
     "data": {
      "application/vnd.jupyter.widget-view+json": {
       "model_id": "d5a8d18862704b61a054c50642f1ee15",
       "version_major": 2,
       "version_minor": 0
      },
      "text/plain": [
       "  0%|          | 0/157 [00:00<?, ?it/s]"
      ]
     },
     "metadata": {},
     "output_type": "display_data"
    },
    {
     "name": "stdout",
     "output_type": "stream",
     "text": [
      "{'eval_loss': 0.600199818611145, 'eval_accuracy': 0.8934, 'eval_runtime': 12.6781, 'eval_samples_per_second': 788.759, 'eval_steps_per_second': 12.384, 'epoch': 3.0}\n",
      "{'train_runtime': 2464.8313, 'train_samples_per_second': 170.397, 'train_steps_per_second': 2.663, 'train_loss': 0.04326476039572651, 'epoch': 3.0}\n"
     ]
    },
    {
     "data": {
      "text/plain": [
       "TrainOutput(global_step=6564, training_loss=0.04326476039572651, metrics={'train_runtime': 2464.8313, 'train_samples_per_second': 170.397, 'train_steps_per_second': 2.663, 'train_loss': 0.04326476039572651, 'epoch': 3.0})"
      ]
     },
     "execution_count": 22,
     "metadata": {},
     "output_type": "execute_result"
    }
   ],
   "source": [
    "from transformers import DataCollatorWithPadding, TrainingArguments, Trainer\n",
    "\n",
    "# Data Collator 설정\n",
    "data_collator = DataCollatorWithPadding(tokenizer=tokenizer, pad_to_multiple_of=8)\n",
    "\n",
    "# TrainingArguments 설정\n",
    "training_args = TrainingArguments(\n",
    "    output_dir=output_dir,\n",
    "    num_train_epochs=3,\n",
    "    per_device_train_batch_size=64,\n",
    "    per_device_eval_batch_size=64,\n",
    "    warmup_steps=500,\n",
    "    weight_decay=0.01,\n",
    "    evaluation_strategy='epoch',\n",
    "    logging_dir='./logs',\n",
    "    group_by_length=True,  # Bucketing 활성화\n",
    ")\n",
    "\n",
    "# Trainer 객체 생성 및 학습\n",
    "trainer = Trainer(\n",
    "    model=model,\n",
    "    args=training_args,\n",
    "    train_dataset=tokenized_datasets['train'],\n",
    "    eval_dataset=tokenized_datasets['validation'],\n",
    "    data_collator=data_collator,\n",
    "    compute_metrics=compute_metrics,   # 메트릭 계산 함수\n",
    ")\n",
    "\n",
    "trainer.train()"
   ]
  },
  {
   "cell_type": "markdown",
   "metadata": {},
   "source": [
    "# 8- Evaluation"
   ]
  },
  {
   "cell_type": "code",
   "execution_count": 23,
   "metadata": {},
   "outputs": [
    {
     "data": {
      "application/vnd.jupyter.widget-view+json": {
       "model_id": "e8d043963b084571a27d47645824e77e",
       "version_major": 2,
       "version_minor": 0
      },
      "text/plain": [
       "  0%|          | 0/782 [00:00<?, ?it/s]"
      ]
     },
     "metadata": {},
     "output_type": "display_data"
    },
    {
     "name": "stdout",
     "output_type": "stream",
     "text": [
      "{'eval_loss': 0.5967464447021484, 'eval_accuracy': 0.89354, 'eval_runtime': 62.7376, 'eval_samples_per_second': 796.97, 'eval_steps_per_second': 12.465, 'epoch': 3.0}\n"
     ]
    }
   ],
   "source": [
    "# 테스트 데이터셋을 사용하여 모델 평가\n",
    "test_result = trainer.evaluate(tokenized_datasets['test'])\n",
    "\n",
    "# 평가 결과 출력\n",
    "print(test_result)"
   ]
  },
  {
   "cell_type": "code",
   "execution_count": null,
   "metadata": {},
   "outputs": [],
   "source": []
  }
 ],
 "metadata": {
  "kernelspec": {
   "display_name": "Python 3",
   "language": "python",
   "name": "python3"
  },
  "language_info": {
   "codemirror_mode": {
    "name": "ipython",
    "version": 3
   },
   "file_extension": ".py",
   "mimetype": "text/x-python",
   "name": "python",
   "nbconvert_exporter": "python",
   "pygments_lexer": "ipython3",
   "version": "3.9.6"
  }
 },
 "nbformat": 4,
 "nbformat_minor": 2
}
